{
 "cells": [
  {
   "cell_type": "markdown",
   "metadata": {
    "id": "DSy1VWq9KYxa"
   },
   "source": [
    "# Práctica Calificada 3"
   ]
  },
  {
   "cell_type": "markdown",
   "metadata": {
    "id": "n5sHTTwCKfWX",
    "jp-MarkdownHeadingCollapsed": true
   },
   "source": [
    "## Lectura de datos"
   ]
  },
  {
   "cell_type": "markdown",
   "metadata": {
    "id": "tOFR2mpVkuqf"
   },
   "source": [
    "### Task 1"
   ]
  },
  {
   "cell_type": "code",
   "execution_count": 1,
   "metadata": {
    "id": "zU2hXAU-yRvt"
   },
   "outputs": [],
   "source": [
    "educationExpenditureLink=\"https://github.com/CRVCh-16/PC3/raw/refs/heads/main/Education%20expenditures.csv\"\n",
    "electricityLink=\"https://github.com/CRVCh-16/PC3/raw/refs/heads/main/Electricity%20-%20installed%20generating%20capacity.csv\"\n",
    "energyConsumptionLink=\"https://github.com/CRVCh-16/PC3/raw/refs/heads/main/Energy%20consumption%20per%20capita.csv\"\n",
    "reservesForeignExchangeLink=\"https://github.com/CRVCh-16/PC3/raw/refs/heads/main/Reserves%20of%20foreign%20exchange%20and%20gold.csv\"\n",
    "\n",
    "\n",
    "import pandas as pd\n",
    "\n",
    "education=pd.read_csv(educationExpenditureLink)\n",
    "electricity=pd.read_csv(electricityLink)\n",
    "energyConsumption=pd.read_csv(energyConsumptionLink)\n",
    "reservesForeignExchange=pd.read_csv(reservesForeignExchangeLink)"
   ]
  },
  {
   "cell_type": "markdown",
   "metadata": {
    "id": "O3NEmpnzKkBB",
    "jp-MarkdownHeadingCollapsed": true
   },
   "source": [
    "## Limpieza y formateo"
   ]
  },
  {
   "cell_type": "markdown",
   "metadata": {
    "id": "LAjjXb3GkscM"
   },
   "source": [
    "### Task 2"
   ]
  },
  {
   "cell_type": "code",
   "execution_count": 2,
   "metadata": {
    "id": "sv8AfkVO2ra8"
   },
   "outputs": [],
   "source": [
    "# se eliminan las columnas innecesarias:\n",
    "electricity=electricity.drop(columns=[\"slug\",\"ranking\"])\n",
    "education=education.drop(columns=[\"slug\",\"ranking\"])\n",
    "energyConsumption=energyConsumption.drop(columns=[\"slug\",\"ranking\"])\n",
    "reservesForeignExchange=reservesForeignExchange.drop(columns=[\"slug\",\"ranking\"])"
   ]
  },
  {
   "cell_type": "code",
   "execution_count": 3,
   "metadata": {
    "id": "CXWdFshO4_cz"
   },
   "outputs": [],
   "source": [
    "# se cambian los nombres de las columnas\n",
    "newNamesElectricity=[\"Country\",\"Electricity_generated_kW\",\"Year_electricity\",\"Region\"]\n",
    "newNamesEducation=[\"Country\",\"Education_expenditure_percent_GDP\",\"Year_education\",\"Region\"]\n",
    "newNamesEnergyConsumption=[\"Country\",\"Energy_consumption_per_capita_BtuPerPerson\",\"Year_energy\",\"Region\"]\n",
    "newNamesReservesForeignExchange=[\"Country\",\"Reserves_of_foreign_exchange_dollars\",\"Year_reserves\",\"Region\"]\n",
    "\n",
    "electricity.columns=newNamesElectricity\n",
    "education.columns=newNamesEducation\n",
    "energyConsumption.columns=newNamesEnergyConsumption\n",
    "reservesForeignExchange.columns=newNamesReservesForeignExchange"
   ]
  },
  {
   "cell_type": "code",
   "execution_count": 4,
   "metadata": {
    "id": "TiO__FUs55KK"
   },
   "outputs": [],
   "source": [
    "# se elimina cualquier leading o trailing space si lo hay en los nombres de los paises\n",
    "electricity.iloc[:,0]=electricity[\"Country\"].str.strip().to_list()\n",
    "education.iloc[:,0]=education[\"Country\"].str.strip().to_list()\n",
    "energyConsumption.iloc[:,0]=energyConsumption[\"Country\"].str.strip().to_list()\n",
    "reservesForeignExchange.iloc[:,0]=reservesForeignExchange[\"Country\"].str.strip().to_list()"
   ]
  },
  {
   "cell_type": "code",
   "execution_count": 5,
   "metadata": {
    "colab": {
     "base_uri": "https://localhost:8080/",
     "height": 0
    },
    "id": "Yuqc4qpY6_PK",
    "outputId": "305e5150-aaf9-4340-c412-3dfc1691ed84"
   },
   "outputs": [
    {
     "data": {
      "text/html": [
       "<div>\n",
       "<style scoped>\n",
       "    .dataframe tbody tr th:only-of-type {\n",
       "        vertical-align: middle;\n",
       "    }\n",
       "\n",
       "    .dataframe tbody tr th {\n",
       "        vertical-align: top;\n",
       "    }\n",
       "\n",
       "    .dataframe thead th {\n",
       "        text-align: right;\n",
       "    }\n",
       "</style>\n",
       "<table border=\"1\" class=\"dataframe\">\n",
       "  <thead>\n",
       "    <tr style=\"text-align: right;\">\n",
       "      <th></th>\n",
       "      <th>Country</th>\n",
       "      <th>Electricity_generated_kW</th>\n",
       "      <th>Year_electricity</th>\n",
       "      <th>Region</th>\n",
       "    </tr>\n",
       "  </thead>\n",
       "  <tbody>\n",
       "    <tr>\n",
       "      <th>9</th>\n",
       "      <td>Korea, South</td>\n",
       "      <td>151,139,000</td>\n",
       "      <td>2023</td>\n",
       "      <td>East and Southeast Asia</td>\n",
       "    </tr>\n",
       "    <tr>\n",
       "      <th>15</th>\n",
       "      <td>Turkey (Turkiye)</td>\n",
       "      <td>106,281,000</td>\n",
       "      <td>2023</td>\n",
       "      <td>Middle East</td>\n",
       "    </tr>\n",
       "    <tr>\n",
       "      <th>70</th>\n",
       "      <td>Korea, North</td>\n",
       "      <td>8,357,000</td>\n",
       "      <td>2023</td>\n",
       "      <td>East and Southeast Asia</td>\n",
       "    </tr>\n",
       "    <tr>\n",
       "      <th>106</th>\n",
       "      <td>Congo, Democratic Republic of the</td>\n",
       "      <td>3,229,000</td>\n",
       "      <td>2023</td>\n",
       "      <td>Africa</td>\n",
       "    </tr>\n",
       "    <tr>\n",
       "      <th>116</th>\n",
       "      <td>Cote d'Ivoire</td>\n",
       "      <td>2,315,000</td>\n",
       "      <td>2023</td>\n",
       "      <td>Africa</td>\n",
       "    </tr>\n",
       "    <tr>\n",
       "      <th>136</th>\n",
       "      <td>Congo, Republic of the</td>\n",
       "      <td>842,000</td>\n",
       "      <td>2023</td>\n",
       "      <td>Africa</td>\n",
       "    </tr>\n",
       "    <tr>\n",
       "      <th>147</th>\n",
       "      <td>Bahamas, The</td>\n",
       "      <td>608,000</td>\n",
       "      <td>2023</td>\n",
       "      <td>Central America and the Caribbean</td>\n",
       "    </tr>\n",
       "    <tr>\n",
       "      <th>166</th>\n",
       "      <td>Timor-Leste</td>\n",
       "      <td>277,000</td>\n",
       "      <td>2023</td>\n",
       "      <td>East and Southeast Asia</td>\n",
       "    </tr>\n",
       "    <tr>\n",
       "      <th>178</th>\n",
       "      <td>Gambia, The</td>\n",
       "      <td>162,000</td>\n",
       "      <td>2023</td>\n",
       "      <td>Africa</td>\n",
       "    </tr>\n",
       "    <tr>\n",
       "      <th>202</th>\n",
       "      <td>Guinea-Bissau</td>\n",
       "      <td>29,000</td>\n",
       "      <td>2023</td>\n",
       "      <td>Africa</td>\n",
       "    </tr>\n",
       "    <tr>\n",
       "      <th>207</th>\n",
       "      <td>Falkland Islands (Islas Malvinas)</td>\n",
       "      <td>10,000</td>\n",
       "      <td>2023</td>\n",
       "      <td>South America</td>\n",
       "    </tr>\n",
       "    <tr>\n",
       "      <th>209</th>\n",
       "      <td>Saint Helena, Ascension, and Tristan da Cunha</td>\n",
       "      <td>5,000</td>\n",
       "      <td>2023</td>\n",
       "      <td>Africa</td>\n",
       "    </tr>\n",
       "  </tbody>\n",
       "</table>\n",
       "</div>"
      ],
      "text/plain": [
       "                                           Country Electricity_generated_kW  \\\n",
       "9                                     Korea, South              151,139,000   \n",
       "15                                Turkey (Turkiye)              106,281,000   \n",
       "70                                    Korea, North                8,357,000   \n",
       "106              Congo, Democratic Republic of the                3,229,000   \n",
       "116                                  Cote d'Ivoire                2,315,000   \n",
       "136                         Congo, Republic of the                  842,000   \n",
       "147                                   Bahamas, The                  608,000   \n",
       "166                                    Timor-Leste                  277,000   \n",
       "178                                    Gambia, The                  162,000   \n",
       "202                                  Guinea-Bissau                   29,000   \n",
       "207              Falkland Islands (Islas Malvinas)                   10,000   \n",
       "209  Saint Helena, Ascension, and Tristan da Cunha                    5,000   \n",
       "\n",
       "     Year_electricity                             Region  \n",
       "9                2023            East and Southeast Asia  \n",
       "15               2023                        Middle East  \n",
       "70               2023            East and Southeast Asia  \n",
       "106              2023                             Africa  \n",
       "116              2023                             Africa  \n",
       "136              2023                             Africa  \n",
       "147              2023  Central America and the Caribbean  \n",
       "166              2023            East and Southeast Asia  \n",
       "178              2023                             Africa  \n",
       "202              2023                             Africa  \n",
       "207              2023                      South America  \n",
       "209              2023                             Africa  "
      ]
     },
     "execution_count": 5,
     "metadata": {},
     "output_type": "execute_result"
    }
   ],
   "source": [
    "# hay simbolos raros?\n",
    "electricity[electricity.Country.str.contains(r'[^\\w\\s]')]\n",
    "#No son simbolos raros, por lo que se puede dejar como tal"
   ]
  },
  {
   "cell_type": "code",
   "execution_count": 6,
   "metadata": {
    "colab": {
     "base_uri": "https://localhost:8080/"
    },
    "id": "XH2y8mI_8bZg",
    "outputId": "793b748a-8f0d-4f0f-d8f3-06c7a48a3e65"
   },
   "outputs": [
    {
     "name": "stdout",
     "output_type": "stream",
     "text": [
      "Requirement already satisfied: unidecode in c:\\users\\admin\\anaconda3\\envs\\dataespacial_31111\\lib\\site-packages (1.4.0)\n"
     ]
    }
   ],
   "source": [
    "#guardaremos solo los simbolos ASCII\n",
    "!pip install unidecode"
   ]
  },
  {
   "cell_type": "code",
   "execution_count": 7,
   "metadata": {
    "id": "3nea9Zs782S_"
   },
   "outputs": [],
   "source": [
    "from unidecode import unidecode\n",
    "electricity['Country']=electricity.Country.apply(unidecode)\n",
    "education['Country']=education.Country.apply(unidecode)\n",
    "energyConsumption['Country']=energyConsumption.Country.apply(unidecode)\n",
    "reservesForeignExchange['Country']=reservesForeignExchange.Country.apply(unidecode)"
   ]
  },
  {
   "cell_type": "code",
   "execution_count": 8,
   "metadata": {
    "id": "X3ch7MPn9E7f"
   },
   "outputs": [],
   "source": [
    "# convertiremos los nombres de paises en mayusculas para mejor entendimiento\n",
    "electricity['Country']=electricity.Country.str.upper()\n",
    "education['Country']=education.Country.str.upper()\n",
    "energyConsumption['Country']=energyConsumption.Country.str.upper()\n",
    "reservesForeignExchange['Country']=reservesForeignExchange.Country.str.upper()\n",
    "\n",
    "#Con esto, ya se tiene limpieado y formateado los nombres de los países"
   ]
  },
  {
   "cell_type": "code",
   "execution_count": 9,
   "metadata": {
    "id": "FU3lY7NoDRCy"
   },
   "outputs": [],
   "source": [
    "# se crea funcion para eliminar cualquier valor diferente a numero o un punto en un string\n",
    "import re\n",
    "charToNum=lambda xString:re.sub(\"[^0-9.]\",\"\",xString)"
   ]
  },
  {
   "cell_type": "code",
   "execution_count": 10,
   "metadata": {
    "id": "vfq3ZaAMBUN0"
   },
   "outputs": [],
   "source": [
    "# se procede con la limpieza y formateo de los valores numéricos\n",
    "#para electricity\n",
    "electricity.iloc[:,1]=electricity.iloc[:,1].map(charToNum)\n",
    "electricity['Electricity_generated_kW']=pd.to_numeric(electricity.Electricity_generated_kW)"
   ]
  },
  {
   "cell_type": "code",
   "execution_count": 11,
   "metadata": {
    "colab": {
     "base_uri": "https://localhost:8080/"
    },
    "id": "EGgL1b9lIOfe",
    "outputId": "900a2782-4f0f-4450-e846-4e7bc841e51a"
   },
   "outputs": [
    {
     "name": "stdout",
     "output_type": "stream",
     "text": [
      "<class 'pandas.core.frame.DataFrame'>\n",
      "RangeIndex: 211 entries, 0 to 210\n",
      "Data columns (total 4 columns):\n",
      " #   Column                    Non-Null Count  Dtype \n",
      "---  ------                    --------------  ----- \n",
      " 0   Country                   211 non-null    object\n",
      " 1   Electricity_generated_kW  211 non-null    int64 \n",
      " 2   Year_electricity          211 non-null    int64 \n",
      " 3   Region                    211 non-null    object\n",
      "dtypes: int64(2), object(2)\n",
      "memory usage: 6.7+ KB\n"
     ]
    }
   ],
   "source": [
    "electricity.info()      # todo bien para electricity"
   ]
  },
  {
   "cell_type": "code",
   "execution_count": 12,
   "metadata": {
    "colab": {
     "base_uri": "https://localhost:8080/"
    },
    "id": "DziwvAeEIUhd",
    "outputId": "4d5083b4-f47e-4cb0-fae7-a0e3565501d6"
   },
   "outputs": [
    {
     "name": "stdout",
     "output_type": "stream",
     "text": [
      "<class 'pandas.core.frame.DataFrame'>\n",
      "RangeIndex: 197 entries, 0 to 196\n",
      "Data columns (total 4 columns):\n",
      " #   Column                             Non-Null Count  Dtype  \n",
      "---  ------                             --------------  -----  \n",
      " 0   Country                            197 non-null    object \n",
      " 1   Education_expenditure_percent_GDP  197 non-null    float64\n",
      " 2   Year_education                     197 non-null    int64  \n",
      " 3   Region                             197 non-null    object \n",
      "dtypes: float64(1), int64(1), object(2)\n",
      "memory usage: 6.3+ KB\n"
     ]
    }
   ],
   "source": [
    "education.info()            # todo bien para education"
   ]
  },
  {
   "cell_type": "code",
   "execution_count": 13,
   "metadata": {
    "id": "aHGnlcp2IJw-"
   },
   "outputs": [],
   "source": [
    "#para energyConsumption\n",
    "energyConsumption.iloc[:,1]=energyConsumption.iloc[:,1].map(charToNum)\n",
    "energyConsumption['Energy_consumption_per_capita_BtuPerPerson']=pd.to_numeric(energyConsumption.Energy_consumption_per_capita_BtuPerPerson)"
   ]
  },
  {
   "cell_type": "code",
   "execution_count": 14,
   "metadata": {
    "colab": {
     "base_uri": "https://localhost:8080/"
    },
    "id": "15a4TNApIk3V",
    "outputId": "3afafd02-dd9c-45dc-8c6c-f3972db4e9d1"
   },
   "outputs": [
    {
     "name": "stdout",
     "output_type": "stream",
     "text": [
      "<class 'pandas.core.frame.DataFrame'>\n",
      "RangeIndex: 195 entries, 0 to 194\n",
      "Data columns (total 4 columns):\n",
      " #   Column                                      Non-Null Count  Dtype \n",
      "---  ------                                      --------------  ----- \n",
      " 0   Country                                     195 non-null    object\n",
      " 1   Energy_consumption_per_capita_BtuPerPerson  195 non-null    int64 \n",
      " 2   Year_energy                                 195 non-null    int64 \n",
      " 3   Region                                      195 non-null    object\n",
      "dtypes: int64(2), object(2)\n",
      "memory usage: 6.2+ KB\n"
     ]
    }
   ],
   "source": [
    "energyConsumption.info()              # todo bien para energy consumption"
   ]
  },
  {
   "cell_type": "code",
   "execution_count": 15,
   "metadata": {
    "id": "Hbji9_vdJHdm"
   },
   "outputs": [],
   "source": [
    "#para reservesForeignExchange\n",
    "reservesForeignExchange.iloc[:,1]=reservesForeignExchange.iloc[:,1].map(charToNum)\n",
    "reservesForeignExchange['Reserves_of_foreign_exchange_dollars']=pd.to_numeric(reservesForeignExchange.Reserves_of_foreign_exchange_dollars)"
   ]
  },
  {
   "cell_type": "code",
   "execution_count": 16,
   "metadata": {
    "colab": {
     "base_uri": "https://localhost:8080/"
    },
    "id": "OuAKm481J6fE",
    "outputId": "bfa343c4-acb9-4e37-9279-0b912dd20fef"
   },
   "outputs": [
    {
     "name": "stdout",
     "output_type": "stream",
     "text": [
      "<class 'pandas.core.frame.DataFrame'>\n",
      "RangeIndex: 195 entries, 0 to 194\n",
      "Data columns (total 4 columns):\n",
      " #   Column                                Non-Null Count  Dtype \n",
      "---  ------                                --------------  ----- \n",
      " 0   Country                               195 non-null    object\n",
      " 1   Reserves_of_foreign_exchange_dollars  195 non-null    int64 \n",
      " 2   Year_reserves                         195 non-null    int64 \n",
      " 3   Region                                195 non-null    object\n",
      "dtypes: int64(2), object(2)\n",
      "memory usage: 6.2+ KB\n"
     ]
    }
   ],
   "source": [
    "reservesForeignExchange.info()        # todo bien para reservesForeignExchange"
   ]
  },
  {
   "cell_type": "code",
   "execution_count": 17,
   "metadata": {
    "id": "J_aTHeipPqvp"
   },
   "outputs": [],
   "source": [
    "# Finalmente, se debe convertir la columna Region en categorical\n",
    "electricity['Region'] = pd.Categorical(electricity.Region, ordered=False, categories=['East and Southeast Asia', 'North America', 'South Asia',\n",
    "                                                                                      'Central Asia', 'Europe', 'South America', 'Middle East',\n",
    "                                                                                      'Australia and Oceania', 'Africa','Central America and the Caribbean'])\n",
    "education['Region'] = pd.Categorical(education.Region, ordered=False, categories=['East and Southeast Asia', 'North America', 'South Asia',\n",
    "                                                                                      'Central Asia', 'Europe', 'South America', 'Middle East',\n",
    "                                                                                      'Australia and Oceania', 'Africa','Central America and the Caribbean'])\n",
    "energyConsumption['Region'] = pd.Categorical(energyConsumption.Region, ordered=False, categories=['East and Southeast Asia', 'North America', 'South Asia',\n",
    "                                                                                      'Central Asia', 'Europe', 'South America', 'Middle East',\n",
    "                                                                                      'Australia and Oceania', 'Africa','Central America and the Caribbean'])\n",
    "reservesForeignExchange['Region'] = pd.Categorical(reservesForeignExchange.Region, ordered=False, categories=['East and Southeast Asia', 'North America', 'South Asia',\n",
    "                                                                                      'Central Asia', 'Europe', 'South America', 'Middle East',\n",
    "                                                                                      'Australia and Oceania', 'Africa','Central America and the Caribbean'])"
   ]
  },
  {
   "cell_type": "code",
   "execution_count": 18,
   "metadata": {
    "colab": {
     "base_uri": "https://localhost:8080/"
    },
    "id": "7H1k2KwAQ6OC",
    "outputId": "7e5e9682-aa1b-40d2-aa47-8f4d37d6537b"
   },
   "outputs": [
    {
     "name": "stdout",
     "output_type": "stream",
     "text": [
      "<class 'pandas.core.frame.DataFrame'>\n",
      "RangeIndex: 211 entries, 0 to 210\n",
      "Data columns (total 4 columns):\n",
      " #   Column                    Non-Null Count  Dtype   \n",
      "---  ------                    --------------  -----   \n",
      " 0   Country                   211 non-null    object  \n",
      " 1   Electricity_generated_kW  211 non-null    int64   \n",
      " 2   Year_electricity          211 non-null    int64   \n",
      " 3   Region                    211 non-null    category\n",
      "dtypes: category(1), int64(2), object(1)\n",
      "memory usage: 5.7+ KB\n"
     ]
    }
   ],
   "source": [
    "#Se verifica el cambio en un DF\n",
    "electricity.info()        #todo correcto"
   ]
  },
  {
   "cell_type": "markdown",
   "metadata": {
    "id": "c7hpbHT1K5Dw",
    "jp-MarkdownHeadingCollapsed": true
   },
   "source": [
    "## Integración: concatenar y merge"
   ]
  },
  {
   "cell_type": "markdown",
   "metadata": {
    "id": "ft4Z58ZOLbsW"
   },
   "source": [
    "Combine those dataframes into one. Decision: what to do to keep as many cases as possible."
   ]
  },
  {
   "cell_type": "markdown",
   "metadata": {
    "id": "Q8nw5xedkki3"
   },
   "source": [
    "### Task 3"
   ]
  },
  {
   "cell_type": "markdown",
   "metadata": {
    "id": "5uptAbWONWjC"
   },
   "source": [
    "**FUZZY MERGE**"
   ]
  },
  {
   "cell_type": "code",
   "execution_count": 19,
   "metadata": {
    "colab": {
     "base_uri": "https://localhost:8080/"
    },
    "id": "fnuDfUQmNoDK",
    "outputId": "3c32e0f5-58e9-41a9-f9e4-f13404858179"
   },
   "outputs": [
    {
     "name": "stdout",
     "output_type": "stream",
     "text": [
      "Collecting thefuzz\n",
      "  Downloading thefuzz-0.22.1-py3-none-any.whl.metadata (3.9 kB)\n",
      "Collecting rapidfuzz<4.0.0,>=3.0.0 (from thefuzz)\n",
      "  Downloading rapidfuzz-3.13.0-cp311-cp311-win_amd64.whl.metadata (12 kB)\n",
      "Downloading thefuzz-0.22.1-py3-none-any.whl (8.2 kB)\n",
      "Downloading rapidfuzz-3.13.0-cp311-cp311-win_amd64.whl (1.6 MB)\n",
      "   ---------------------------------------- 0.0/1.6 MB ? eta -:--:--\n",
      "   ---------------------------------------- 1.6/1.6 MB 10.9 MB/s eta 0:00:00\n",
      "Installing collected packages: rapidfuzz, thefuzz\n",
      "Successfully installed rapidfuzz-3.13.0 thefuzz-0.22.1\n"
     ]
    }
   ],
   "source": [
    "!pip install thefuzz"
   ]
  },
  {
   "cell_type": "code",
   "execution_count": 20,
   "metadata": {
    "id": "PL2lPpdkkprX"
   },
   "outputs": [],
   "source": [
    "from thefuzz import process as fz"
   ]
  },
  {
   "cell_type": "markdown",
   "metadata": {
    "id": "A96xnQMJGyJU"
   },
   "source": [
    "Se buscan los países que se parecen en un y en el otro"
   ]
  },
  {
   "cell_type": "code",
   "execution_count": 21,
   "metadata": {
    "id": "OdgXyoidNjEy"
   },
   "outputs": [],
   "source": [
    "#MERGE ELECTRICITY EDUCATION VIA FUZZY MERGE\n",
    "onlyElectricity=set(electricity.Country)-set(education.Country)-set(energyConsumption.Country)-set(reservesForeignExchange.Country)\n",
    "onlyEducation=set(education.Country)-set(electricity.Country)-set(energyConsumption.Country)-set(reservesForeignExchange.Country)\n",
    "onlyEnergy=set(energyConsumption.Country)-set(electricity.Country)-set(education.Country)-set(reservesForeignExchange.Country)\n",
    "onlyReserves=set(reservesForeignExchange.Country)-set(electricity.Country)-set(education.Country)-set(energyConsumption.Country)"
   ]
  },
  {
   "cell_type": "code",
   "execution_count": 22,
   "metadata": {
    "colab": {
     "base_uri": "https://localhost:8080/"
    },
    "id": "e9yXRVi1F_SF",
    "outputId": "9812657e-f11c-43e0-f8dc-e6f4ac36bdd0"
   },
   "outputs": [
    {
     "data": {
      "text/plain": [
       "[('FALKLAND ISLANDS (ISLAS MALVINAS)', [('MARSHALL ISLANDS', 86)]),\n",
       " ('FRENCH POLYNESIA', [('MONACO', 45)]),\n",
       " ('GIBRALTAR', [('MARSHALL ISLANDS', 39)]),\n",
       " ('NEW CALEDONIA', [('MONACO', 54)]),\n",
       " ('NIUE', [('LIECHTENSTEIN', 51)]),\n",
       " ('SAINT HELENA, ASCENSION, AND TRISTAN DA CUNHA', [('ANDORRA', 57)]),\n",
       " ('SAINT PIERRE AND MIQUELON', [('ANDORRA', 51)]),\n",
       " ('VIRGIN ISLANDS', [('MARSHALL ISLANDS', 63)])]"
      ]
     },
     "execution_count": 22,
     "metadata": {},
     "output_type": "execute_result"
    }
   ],
   "source": [
    "[(c,fz.extract(c,onlyEducation, limit=1)) for c in sorted(onlyElectricity)]"
   ]
  },
  {
   "cell_type": "code",
   "execution_count": 23,
   "metadata": {
    "colab": {
     "base_uri": "https://localhost:8080/"
    },
    "id": "7RhnSXdSGFNr",
    "outputId": "e0573b3c-30a7-425e-ae2f-e9fc860e8ae1"
   },
   "outputs": [
    {
     "data": {
      "text/plain": [
       "[('FALKLAND ISLANDS (ISLAS MALVINAS)', []),\n",
       " ('FRENCH POLYNESIA', []),\n",
       " ('GIBRALTAR', []),\n",
       " ('NEW CALEDONIA', []),\n",
       " ('NIUE', []),\n",
       " ('SAINT HELENA, ASCENSION, AND TRISTAN DA CUNHA', []),\n",
       " ('SAINT PIERRE AND MIQUELON', []),\n",
       " ('VIRGIN ISLANDS', [])]"
      ]
     },
     "execution_count": 23,
     "metadata": {},
     "output_type": "execute_result"
    }
   ],
   "source": [
    "[(c,fz.extract(c,onlyEnergy, limit=1)) for c in sorted(onlyElectricity)]"
   ]
  },
  {
   "cell_type": "code",
   "execution_count": 24,
   "metadata": {
    "colab": {
     "base_uri": "https://localhost:8080/"
    },
    "id": "N5osuAQ4GG3z",
    "outputId": "458bfb7b-1555-4ac0-c623-5c3783d50091"
   },
   "outputs": [
    {
     "data": {
      "text/plain": [
       "[('FALKLAND ISLANDS (ISLAS MALVINAS)', []),\n",
       " ('FRENCH POLYNESIA', []),\n",
       " ('GIBRALTAR', []),\n",
       " ('NEW CALEDONIA', []),\n",
       " ('NIUE', []),\n",
       " ('SAINT HELENA, ASCENSION, AND TRISTAN DA CUNHA', []),\n",
       " ('SAINT PIERRE AND MIQUELON', []),\n",
       " ('VIRGIN ISLANDS', [])]"
      ]
     },
     "execution_count": 24,
     "metadata": {},
     "output_type": "execute_result"
    }
   ],
   "source": [
    "[(c,fz.extract(c,onlyReserves, limit=1)) for c in sorted(onlyElectricity)]"
   ]
  },
  {
   "cell_type": "code",
   "execution_count": 25,
   "metadata": {
    "colab": {
     "base_uri": "https://localhost:8080/"
    },
    "id": "4lCj_gBLGIqk",
    "outputId": "dd96ff41-a353-48bc-a507-7521066bcdcc"
   },
   "outputs": [
    {
     "data": {
      "text/plain": [
       "[('ANDORRA', []),\n",
       " ('CURACAO', []),\n",
       " ('LIECHTENSTEIN', []),\n",
       " ('MARSHALL ISLANDS', []),\n",
       " ('MONACO', [])]"
      ]
     },
     "execution_count": 25,
     "metadata": {},
     "output_type": "execute_result"
    }
   ],
   "source": [
    "[(c,fz.extract(c,onlyEnergy, limit=1)) for c in sorted(onlyEducation)]"
   ]
  },
  {
   "cell_type": "code",
   "execution_count": 26,
   "metadata": {
    "colab": {
     "base_uri": "https://localhost:8080/"
    },
    "id": "73wVa1r9GJKL",
    "outputId": "ab97bfd6-17f7-46f1-a772-3f0dc1e7cfa7"
   },
   "outputs": [
    {
     "data": {
      "text/plain": [
       "[('ANDORRA', []),\n",
       " ('CURACAO', []),\n",
       " ('LIECHTENSTEIN', []),\n",
       " ('MARSHALL ISLANDS', []),\n",
       " ('MONACO', [])]"
      ]
     },
     "execution_count": 26,
     "metadata": {},
     "output_type": "execute_result"
    }
   ],
   "source": [
    "[(c,fz.extract(c,onlyReserves, limit=1)) for c in sorted(onlyEducation)]"
   ]
  },
  {
   "cell_type": "code",
   "execution_count": 27,
   "metadata": {
    "colab": {
     "base_uri": "https://localhost:8080/"
    },
    "id": "lyTfKNZiGJhk",
    "outputId": "a497d28f-bc56-4e22-996f-14ce94f4134c"
   },
   "outputs": [
    {
     "data": {
      "text/plain": [
       "[]"
      ]
     },
     "execution_count": 27,
     "metadata": {},
     "output_type": "execute_result"
    }
   ],
   "source": [
    "[(c,fz.extract(c,onlyReserves, limit=1)) for c in sorted(onlyEnergy)]"
   ]
  },
  {
   "cell_type": "code",
   "execution_count": 28,
   "metadata": {
    "colab": {
     "base_uri": "https://localhost:8080/"
    },
    "id": "345oexu8G-RE",
    "outputId": "5d603979-750f-4c39-e372-9f5edf2ae4fa"
   },
   "outputs": [
    {
     "data": {
      "text/plain": [
       "[('ANDORRA', [('SAINT HELENA, ASCENSION, AND TRISTAN DA CUNHA', 57)]),\n",
       " ('CURACAO', [('SAINT HELENA, ASCENSION, AND TRISTAN DA CUNHA', 45)]),\n",
       " ('LIECHTENSTEIN', [('NIUE', 51)]),\n",
       " ('MARSHALL ISLANDS', [('FALKLAND ISLANDS (ISLAS MALVINAS)', 86)]),\n",
       " ('MONACO', [('NEW CALEDONIA', 54)])]"
      ]
     },
     "execution_count": 28,
     "metadata": {},
     "output_type": "execute_result"
    }
   ],
   "source": [
    "[(c,fz.extract(c,onlyElectricity, limit=1)) for c in sorted(onlyEducation)]"
   ]
  },
  {
   "cell_type": "code",
   "execution_count": 29,
   "metadata": {
    "colab": {
     "base_uri": "https://localhost:8080/"
    },
    "id": "DJtYFLdnHByF",
    "outputId": "6edee9cc-07d3-4eb0-d42a-b621494d058f"
   },
   "outputs": [
    {
     "data": {
      "text/plain": [
       "[]"
      ]
     },
     "execution_count": 29,
     "metadata": {},
     "output_type": "execute_result"
    }
   ],
   "source": [
    "[(c,fz.extract(c,onlyElectricity, limit=1)) for c in sorted(onlyEnergy)]"
   ]
  },
  {
   "cell_type": "code",
   "execution_count": 30,
   "metadata": {
    "colab": {
     "base_uri": "https://localhost:8080/"
    },
    "id": "Ss6oWqK0HGqT",
    "outputId": "a3034543-3855-4d72-920c-cf1b93683c0b"
   },
   "outputs": [
    {
     "data": {
      "text/plain": [
       "[]"
      ]
     },
     "execution_count": 30,
     "metadata": {},
     "output_type": "execute_result"
    }
   ],
   "source": [
    "[(c,fz.extract(c,onlyElectricity, limit=1)) for c in sorted(onlyReserves)]"
   ]
  },
  {
   "cell_type": "code",
   "execution_count": 31,
   "metadata": {
    "colab": {
     "base_uri": "https://localhost:8080/"
    },
    "id": "-bj5FvWtHMUk",
    "outputId": "cebab799-620d-4f31-df93-2a289e170d64"
   },
   "outputs": [
    {
     "data": {
      "text/plain": [
       "[]"
      ]
     },
     "execution_count": 31,
     "metadata": {},
     "output_type": "execute_result"
    }
   ],
   "source": [
    "[(c,fz.extract(c,onlyEducation, limit=1)) for c in sorted(onlyEnergy)]"
   ]
  },
  {
   "cell_type": "code",
   "execution_count": 32,
   "metadata": {
    "colab": {
     "base_uri": "https://localhost:8080/"
    },
    "id": "hydPmuMKHRAc",
    "outputId": "926ba869-291f-45cc-953c-5c4953e6c28e"
   },
   "outputs": [
    {
     "data": {
      "text/plain": [
       "[]"
      ]
     },
     "execution_count": 32,
     "metadata": {},
     "output_type": "execute_result"
    }
   ],
   "source": [
    "[(c,fz.extract(c,onlyEducation, limit=1)) for c in sorted(onlyReserves)]"
   ]
  },
  {
   "cell_type": "code",
   "execution_count": 33,
   "metadata": {
    "colab": {
     "base_uri": "https://localhost:8080/"
    },
    "id": "aT1qKt2uHTgM",
    "outputId": "6fe824ec-e3da-4c1c-8aee-786ec384ef86"
   },
   "outputs": [
    {
     "data": {
      "text/plain": [
       "[]"
      ]
     },
     "execution_count": 33,
     "metadata": {},
     "output_type": "execute_result"
    }
   ],
   "source": [
    "[(c,fz.extract(c,onlyEnergy, limit=1)) for c in sorted(onlyReserves)]"
   ]
  },
  {
   "cell_type": "markdown",
   "metadata": {
    "id": "SKy89WWCHoxN"
   },
   "source": [
    "Ahora se buscan los países parecidos considerando todos los países parecidos de un dataframe"
   ]
  },
  {
   "cell_type": "code",
   "execution_count": 34,
   "metadata": {
    "colab": {
     "base_uri": "https://localhost:8080/"
    },
    "id": "UxvyEDQXHxGF",
    "outputId": "4b039c07-5372-468f-fc02-9c69d897361d"
   },
   "outputs": [
    {
     "data": {
      "text/plain": [
       "[('AMERICAN SAMOA', ('SAMOA', 90, 84)),\n",
       " ('BOSNIA AND HERZEGOVINA', ('INDIA', 68, 99)),\n",
       " ('CUBA', ('CURACAO', 68, 15)),\n",
       " ('EQUATORIAL GUINEA', ('GUINEA', 90, 180)),\n",
       " ('ERITREA', ('SIERRA LEONE', 62, 7)),\n",
       " ('FALKLAND ISLANDS (ISLAS MALVINAS)', ('MARSHALL ISLANDS', 86, 0)),\n",
       " ('FRENCH POLYNESIA', ('ESTONIA', 65, 28)),\n",
       " ('GIBRALTAR', ('MALTA', 72, 44)),\n",
       " ('GUAM', ('NICARAGUA', 77, 95)),\n",
       " ('KOREA, NORTH', ('KOREA, SOUTH', 83, 89)),\n",
       " ('KOSOVO', ('SOLOMON ISLANDS', 54, 1)),\n",
       " ('LIBYA', ('AUSTRALIA', 68, 37)),\n",
       " ('MONTENEGRO', ('MONACO', 60, 194)),\n",
       " ('NEW CALEDONIA', ('ESTONIA', 69, 28)),\n",
       " ('NIUE', ('MOZAMBIQUE', 68, 34)),\n",
       " ('NORTH MACEDONIA', ('ESTONIA', 69, 28)),\n",
       " ('SAINT HELENA, ASCENSION, AND TRISTAN DA CUNHA',\n",
       "  ('SAO TOME AND PRINCIPE', 86, 72)),\n",
       " ('SAINT PIERRE AND MIQUELON', ('SAINT LUCIA', 86, 137)),\n",
       " ('SUDAN', ('SOUTH SUDAN', 90, 190)),\n",
       " ('SYRIA', ('SERBIA', 73, 133)),\n",
       " ('TAIWAN', ('THAILAND', 71, 147)),\n",
       " ('VIRGIN ISLANDS', ('BRITISH VIRGIN ISLANDS', 90, 171)),\n",
       " ('YEMEN', ('SWEDEN', 55, 17))]"
      ]
     },
     "execution_count": 34,
     "metadata": {},
     "output_type": "execute_result"
    }
   ],
   "source": [
    "[(c,fz.extractOne(c,education.Country)) for c in sorted(electricity.Country) if fz.extractOne(c,education.Country)[1]<100]"
   ]
  },
  {
   "cell_type": "code",
   "execution_count": 35,
   "metadata": {
    "colab": {
     "base_uri": "https://localhost:8080/"
    },
    "id": "OeVuBiBUJmYN",
    "outputId": "800e684e-d968-4813-db10-7ebf2e6e64c6"
   },
   "outputs": [
    {
     "data": {
      "text/plain": [
       "[('ANDORRA', ('EL SALVADOR', 65, 112)),\n",
       " ('ANGUILLA', ('ANGOLA', 71, 73)),\n",
       " ('CURACAO', ('CUBA', 68, 75)),\n",
       " ('LIECHTENSTEIN', ('BENIN', 68, 150)),\n",
       " ('MARSHALL ISLANDS', ('TURKS AND CAICOS ISLANDS', 86, 186)),\n",
       " ('MICRONESIA, FEDERATED STATES OF', ('UNITED STATES', 86, 1)),\n",
       " ('MONACO', ('MOROCCO', 62, 55)),\n",
       " ('PALAU', ('GUATEMALA', 68, 90)),\n",
       " ('SAN MARINO', ('SPAIN', 68, 10))]"
      ]
     },
     "execution_count": 35,
     "metadata": {},
     "output_type": "execute_result"
    }
   ],
   "source": [
    "[(c,fz.extractOne(c,electricity.Country)) for c in sorted(education.Country) if fz.extractOne(c,electricity.Country)[1]<100]"
   ]
  },
  {
   "cell_type": "code",
   "execution_count": 36,
   "metadata": {
    "colab": {
     "base_uri": "https://localhost:8080/"
    },
    "id": "POmEtGz1LL0c",
    "outputId": "a81e229c-702f-4047-c5c1-f882339f43f0"
   },
   "outputs": [
    {
     "data": {
      "text/plain": [
       "[('COOK ISLANDS', ('BRITISH VIRGIN ISLANDS', 86, 73)),\n",
       " ('FALKLAND ISLANDS (ISLAS MALVINAS)', ('CAYMAN ISLANDS', 86, 25)),\n",
       " ('FAROE ISLANDS', ('BRITISH VIRGIN ISLANDS', 86, 73)),\n",
       " ('FRENCH POLYNESIA', ('SYRIA', 68, 142)),\n",
       " ('GIBRALTAR', ('QATAR', 72, 0)),\n",
       " ('GREENLAND', ('IRELAND', 75, 36)),\n",
       " ('ICELAND', ('IRELAND', 86, 36)),\n",
       " ('MONTSERRAT', ('SIERRA LEONE', 60, 182)),\n",
       " ('NAURU', ('MAURITIUS', 60, 82)),\n",
       " ('NEW CALEDONIA', ('ESTONIA', 69, 67)),\n",
       " ('NIUE', ('UNITED ARAB EMIRATES', 68, 3)),\n",
       " ('SAINT HELENA, ASCENSION, AND TRISTAN DA CUNHA',\n",
       "  ('ANTIGUA AND BARBUDA', 86, 40)),\n",
       " ('SAINT PIERRE AND MIQUELON', ('SAINT LUCIA', 86, 95)),\n",
       " ('TRINIDAD AND TOBAGO', ('SAINT VINCENT AND THE GRENADINES', 86, 104)),\n",
       " ('TURKS AND CAICOS ISLANDS', ('CAYMAN ISLANDS', 86, 25)),\n",
       " ('VIRGIN ISLANDS', ('BRITISH VIRGIN ISLANDS', 90, 73))]"
      ]
     },
     "execution_count": 36,
     "metadata": {},
     "output_type": "execute_result"
    }
   ],
   "source": [
    "[(c,fz.extractOne(c,energyConsumption.Country)) for c in sorted(electricity.Country) if fz.extractOne(c,energyConsumption.Country)[1]<100]"
   ]
  },
  {
   "cell_type": "code",
   "execution_count": 37,
   "metadata": {
    "colab": {
     "base_uri": "https://localhost:8080/"
    },
    "id": "JNqYYOWxLWJr",
    "outputId": "57c2694a-16b0-41e7-e5a0-3446283ceebe"
   },
   "outputs": [
    {
     "data": {
      "text/plain": [
       "[]"
      ]
     },
     "execution_count": 37,
     "metadata": {},
     "output_type": "execute_result"
    }
   ],
   "source": [
    "[(c,fz.extractOne(c,electricity.Country)) for c in sorted(energyConsumption.Country) if fz.extractOne(c,electricity.Country)[1]<100]"
   ]
  },
  {
   "cell_type": "code",
   "execution_count": 38,
   "metadata": {
    "colab": {
     "base_uri": "https://localhost:8080/"
    },
    "id": "o9W-UBggLqwc",
    "outputId": "466ca461-a757-4a9d-8bd1-d7328de6d25e"
   },
   "outputs": [
    {
     "data": {
      "text/plain": [
       "[('AMERICAN SAMOA', ('SAMOA', 90, 165)),\n",
       " ('BERMUDA', ('PERU', 68, 34)),\n",
       " ('BRITISH VIRGIN ISLANDS', ('CAYMAN ISLANDS', 86, 182)),\n",
       " ('COOK ISLANDS', ('SOLOMON ISLANDS', 74, 157)),\n",
       " ('FALKLAND ISLANDS (ISLAS MALVINAS)', ('SOLOMON ISLANDS', 86, 157)),\n",
       " ('FAROE ISLANDS', ('CAYMAN ISLANDS', 67, 182)),\n",
       " ('FRENCH POLYNESIA', ('SYRIA', 68, 172)),\n",
       " ('GIBRALTAR', ('QATAR', 72, 41)),\n",
       " ('GREENLAND', ('IRELAND', 75, 73)),\n",
       " ('GUAM', ('GUATEMALA', 77, 55)),\n",
       " ('KIRIBATI', ('HAITI', 68, 124)),\n",
       " ('KOREA, NORTH', ('KOREA, SOUTH', 83, 8)),\n",
       " ('NAURU', ('MAURITIUS', 60, 86)),\n",
       " ('NEW CALEDONIA', ('ESTONIA', 69, 128)),\n",
       " ('NIUE', ('UNITED ARAB EMIRATES', 68, 11)),\n",
       " ('PUERTO RICO', ('PERU', 68, 34)),\n",
       " ('SAINT HELENA, ASCENSION, AND TRISTAN DA CUNHA',\n",
       "  ('BOSNIA AND HERZEGOVINA', 86, 83)),\n",
       " ('SAINT PIERRE AND MIQUELON', ('SAINT LUCIA', 86, 173)),\n",
       " ('TURKS AND CAICOS ISLANDS', ('SOLOMON ISLANDS', 86, 157)),\n",
       " ('VIRGIN ISLANDS', ('FINLAND', 66, 64))]"
      ]
     },
     "execution_count": 38,
     "metadata": {},
     "output_type": "execute_result"
    }
   ],
   "source": [
    "[(c,fz.extractOne(c,reservesForeignExchange.Country)) for c in sorted(electricity.Country) if fz.extractOne(c,reservesForeignExchange.Country)[1]<100]"
   ]
  },
  {
   "cell_type": "code",
   "execution_count": 39,
   "metadata": {
    "colab": {
     "base_uri": "https://localhost:8080/"
    },
    "id": "n10AUjGNL4xl",
    "outputId": "96715bfa-59db-4620-cbf7-8a8431743fd6"
   },
   "outputs": [
    {
     "data": {
      "text/plain": [
       "[('ANGUILLA', ('ANGOLA', 71, 73)),\n",
       " ('MICRONESIA, FEDERATED STATES OF', ('UNITED STATES', 86, 1)),\n",
       " ('PALAU', ('GUATEMALA', 68, 90)),\n",
       " ('SAN MARINO', ('SPAIN', 68, 10))]"
      ]
     },
     "execution_count": 39,
     "metadata": {},
     "output_type": "execute_result"
    }
   ],
   "source": [
    "[(c,fz.extractOne(c,electricity.Country)) for c in sorted(reservesForeignExchange.Country) if fz.extractOne(c,electricity.Country)[1]<100]"
   ]
  },
  {
   "cell_type": "code",
   "execution_count": 40,
   "metadata": {
    "colab": {
     "base_uri": "https://localhost:8080/"
    },
    "id": "kJV4cABmMEv8",
    "outputId": "23addb86-d836-43d6-fb88-bf8c9425ec67"
   },
   "outputs": [
    {
     "data": {
      "text/plain": [
       "[('ANDORRA', ('EL SALVADOR', 65, 124)),\n",
       " ('ANGUILLA', ('ANGOLA', 71, 150)),\n",
       " ('COOK ISLANDS', ('BRITISH VIRGIN ISLANDS', 86, 73)),\n",
       " ('CURACAO', ('CUBA', 68, 120)),\n",
       " ('FAROE ISLANDS', ('BRITISH VIRGIN ISLANDS', 86, 73)),\n",
       " ('GREENLAND', ('IRELAND', 75, 36)),\n",
       " ('ICELAND', ('IRELAND', 86, 36)),\n",
       " ('LIECHTENSTEIN', ('BENIN', 68, 164)),\n",
       " ('MARSHALL ISLANDS', ('CAYMAN ISLANDS', 67, 25)),\n",
       " ('MICRONESIA, FEDERATED STATES OF', ('UNITED STATES', 86, 9)),\n",
       " ('MONACO', ('MOROCCO', 62, 126)),\n",
       " ('MONTSERRAT', ('SIERRA LEONE', 60, 182)),\n",
       " ('NAURU', ('MAURITIUS', 60, 82)),\n",
       " ('PALAU', ('GUATEMALA', 68, 134)),\n",
       " ('SAN MARINO', ('SPAIN', 68, 47)),\n",
       " ('TRINIDAD AND TOBAGO', ('SAINT VINCENT AND THE GRENADINES', 86, 104)),\n",
       " ('TURKS AND CAICOS ISLANDS', ('CAYMAN ISLANDS', 86, 25))]"
      ]
     },
     "execution_count": 40,
     "metadata": {},
     "output_type": "execute_result"
    }
   ],
   "source": [
    "[(c,fz.extractOne(c,energyConsumption.Country)) for c in sorted(education.Country) if fz.extractOne(c,energyConsumption.Country)[1]<100]"
   ]
  },
  {
   "cell_type": "code",
   "execution_count": 41,
   "metadata": {
    "colab": {
     "base_uri": "https://localhost:8080/"
    },
    "id": "iX_KK-IqMNVb",
    "outputId": "9a793476-2c94-4e02-917a-8bfb3912aadc"
   },
   "outputs": [
    {
     "data": {
      "text/plain": [
       "[('AMERICAN SAMOA', ('SAMOA', 90, 84)),\n",
       " ('BOSNIA AND HERZEGOVINA', ('INDIA', 68, 99)),\n",
       " ('CUBA', ('CURACAO', 68, 15)),\n",
       " ('EQUATORIAL GUINEA', ('GUINEA', 90, 180)),\n",
       " ('ERITREA', ('SIERRA LEONE', 62, 7)),\n",
       " ('GUAM', ('NICARAGUA', 77, 95)),\n",
       " ('KOREA, NORTH', ('KOREA, SOUTH', 83, 89)),\n",
       " ('KOSOVO', ('SOLOMON ISLANDS', 54, 1)),\n",
       " ('LIBYA', ('AUSTRALIA', 68, 37)),\n",
       " ('MONTENEGRO', ('MONACO', 60, 194)),\n",
       " ('NORTH MACEDONIA', ('ESTONIA', 69, 28)),\n",
       " ('SUDAN', ('SOUTH SUDAN', 90, 190)),\n",
       " ('SYRIA', ('SERBIA', 73, 133)),\n",
       " ('TAIWAN', ('THAILAND', 71, 147)),\n",
       " ('YEMEN', ('SWEDEN', 55, 17))]"
      ]
     },
     "execution_count": 41,
     "metadata": {},
     "output_type": "execute_result"
    }
   ],
   "source": [
    "[(c,fz.extractOne(c,education.Country)) for c in sorted(energyConsumption.Country) if fz.extractOne(c,education.Country)[1]<100]"
   ]
  },
  {
   "cell_type": "code",
   "execution_count": 42,
   "metadata": {
    "colab": {
     "base_uri": "https://localhost:8080/"
    },
    "id": "Pou9Y-_sMVxr",
    "outputId": "7db500ed-546c-4431-d74c-5feb4ad8cc5a"
   },
   "outputs": [
    {
     "data": {
      "text/plain": [
       "[('ANDORRA', ('EL SALVADOR', 65, 114)),\n",
       " ('BERMUDA', ('PERU', 68, 34)),\n",
       " ('BRITISH VIRGIN ISLANDS', ('CAYMAN ISLANDS', 86, 182)),\n",
       " ('COOK ISLANDS', ('SOLOMON ISLANDS', 74, 157)),\n",
       " ('CURACAO', ('CUBA', 68, 74)),\n",
       " ('FAROE ISLANDS', ('CAYMAN ISLANDS', 67, 182)),\n",
       " ('GREENLAND', ('IRELAND', 75, 73)),\n",
       " ('KIRIBATI', ('HAITI', 68, 124)),\n",
       " ('LIECHTENSTEIN', ('BENIN', 68, 156)),\n",
       " ('MARSHALL ISLANDS', ('CAYMAN ISLANDS', 67, 182)),\n",
       " ('MONACO', ('MOROCCO', 62, 48)),\n",
       " ('NAURU', ('MAURITIUS', 60, 86)),\n",
       " ('PUERTO RICO', ('PERU', 68, 34)),\n",
       " ('TURKS AND CAICOS ISLANDS', ('SOLOMON ISLANDS', 86, 157))]"
      ]
     },
     "execution_count": 42,
     "metadata": {},
     "output_type": "execute_result"
    }
   ],
   "source": [
    "[(c,fz.extractOne(c,reservesForeignExchange.Country)) for c in sorted(education.Country) if fz.extractOne(c,reservesForeignExchange.Country)[1]<100]"
   ]
  },
  {
   "cell_type": "code",
   "execution_count": 43,
   "metadata": {
    "colab": {
     "base_uri": "https://localhost:8080/"
    },
    "id": "MdH43bOwMbDj",
    "outputId": "9316e837-9df5-4eca-df91-88226a8ddafe"
   },
   "outputs": [
    {
     "data": {
      "text/plain": [
       "[('BOSNIA AND HERZEGOVINA', ('INDIA', 68, 99)),\n",
       " ('CUBA', ('CURACAO', 68, 15)),\n",
       " ('EQUATORIAL GUINEA', ('GUINEA', 90, 180)),\n",
       " ('ERITREA', ('SIERRA LEONE', 62, 7)),\n",
       " ('KOSOVO', ('SOLOMON ISLANDS', 54, 1)),\n",
       " ('LIBYA', ('AUSTRALIA', 68, 37)),\n",
       " ('MONTENEGRO', ('MONACO', 60, 194)),\n",
       " ('NORTH MACEDONIA', ('ESTONIA', 69, 28)),\n",
       " ('SUDAN', ('SOUTH SUDAN', 90, 190)),\n",
       " ('SYRIA', ('SERBIA', 73, 133)),\n",
       " ('TAIWAN', ('THAILAND', 71, 147)),\n",
       " ('YEMEN', ('SWEDEN', 55, 17))]"
      ]
     },
     "execution_count": 43,
     "metadata": {},
     "output_type": "execute_result"
    }
   ],
   "source": [
    "[(c,fz.extractOne(c,education.Country)) for c in sorted(reservesForeignExchange.Country) if fz.extractOne(c,education.Country)[1]<100]"
   ]
  },
  {
   "cell_type": "code",
   "execution_count": 44,
   "metadata": {
    "colab": {
     "base_uri": "https://localhost:8080/"
    },
    "id": "syIP6VskMr91",
    "outputId": "9cca4a74-28a2-437d-c7fb-4ea0852e7b49"
   },
   "outputs": [
    {
     "data": {
      "text/plain": [
       "[('AMERICAN SAMOA', ('SAMOA', 90, 165)),\n",
       " ('BERMUDA', ('PERU', 68, 34)),\n",
       " ('BRITISH VIRGIN ISLANDS', ('CAYMAN ISLANDS', 86, 182)),\n",
       " ('GUAM', ('GUATEMALA', 77, 55)),\n",
       " ('KIRIBATI', ('HAITI', 68, 124)),\n",
       " ('KOREA, NORTH', ('KOREA, SOUTH', 83, 8)),\n",
       " ('PUERTO RICO', ('PERU', 68, 34))]"
      ]
     },
     "execution_count": 44,
     "metadata": {},
     "output_type": "execute_result"
    }
   ],
   "source": [
    "[(c,fz.extractOne(c,reservesForeignExchange.Country)) for c in sorted(energyConsumption.Country) if fz.extractOne(c,reservesForeignExchange.Country)[1]<100]"
   ]
  },
  {
   "cell_type": "code",
   "execution_count": 45,
   "metadata": {
    "colab": {
     "base_uri": "https://localhost:8080/"
    },
    "id": "GalIbZslMwtb",
    "outputId": "32c36efb-e8df-4074-8c5e-64aae1e9ca9e"
   },
   "outputs": [
    {
     "data": {
      "text/plain": [
       "[('ANGUILLA', ('ANGOLA', 71, 150)),\n",
       " ('ICELAND', ('IRELAND', 86, 36)),\n",
       " ('MICRONESIA, FEDERATED STATES OF', ('UNITED STATES', 86, 9)),\n",
       " ('MONTSERRAT', ('SIERRA LEONE', 60, 182)),\n",
       " ('PALAU', ('GUATEMALA', 68, 134)),\n",
       " ('SAN MARINO', ('SPAIN', 68, 47)),\n",
       " ('TRINIDAD AND TOBAGO', ('SAINT VINCENT AND THE GRENADINES', 86, 104))]"
      ]
     },
     "execution_count": 45,
     "metadata": {},
     "output_type": "execute_result"
    }
   ],
   "source": [
    "[(c,fz.extractOne(c,energyConsumption.Country)) for c in sorted(reservesForeignExchange.Country) if fz.extractOne(c,energyConsumption.Country)[1]<100]"
   ]
  },
  {
   "cell_type": "markdown",
   "metadata": {
    "id": "8zEZXUkEM6-M"
   },
   "source": [
    "Finalmente, se puede comprobar que no existen países con nombres similares en cada DF al verlos manualmente"
   ]
  },
  {
   "cell_type": "code",
   "execution_count": 46,
   "metadata": {
    "id": "ejVhw2ifNChD"
   },
   "outputs": [],
   "source": [
    "a=set(electricity.Country)^set(education.Country)\n",
    "b=set(electricity.Country)^set(energyConsumption.Country)\n",
    "c=set(electricity.Country)^set(reservesForeignExchange.Country)\n",
    "d=set(education.Country)^set(energyConsumption.Country)\n",
    "e=set(education.Country)^set(reservesForeignExchange.Country)\n",
    "f=set(energyConsumption.Country)^set(reservesForeignExchange.Country)"
   ]
  },
  {
   "cell_type": "code",
   "execution_count": 47,
   "metadata": {
    "colab": {
     "base_uri": "https://localhost:8080/"
    },
    "id": "q-Gj0BipNved",
    "outputId": "6514cc43-8ede-4eab-a3c0-a9f06083740a"
   },
   "outputs": [
    {
     "data": {
      "text/plain": [
       "{'AMERICAN SAMOA',\n",
       " 'ANDORRA',\n",
       " 'ANGUILLA',\n",
       " 'BOSNIA AND HERZEGOVINA',\n",
       " 'CUBA',\n",
       " 'CURACAO',\n",
       " 'EQUATORIAL GUINEA',\n",
       " 'ERITREA',\n",
       " 'FALKLAND ISLANDS (ISLAS MALVINAS)',\n",
       " 'FRENCH POLYNESIA',\n",
       " 'GIBRALTAR',\n",
       " 'GUAM',\n",
       " 'KOREA, NORTH',\n",
       " 'KOSOVO',\n",
       " 'LIBYA',\n",
       " 'LIECHTENSTEIN',\n",
       " 'MARSHALL ISLANDS',\n",
       " 'MICRONESIA, FEDERATED STATES OF',\n",
       " 'MONACO',\n",
       " 'MONTENEGRO',\n",
       " 'NEW CALEDONIA',\n",
       " 'NIUE',\n",
       " 'NORTH MACEDONIA',\n",
       " 'PALAU',\n",
       " 'SAINT HELENA, ASCENSION, AND TRISTAN DA CUNHA',\n",
       " 'SAINT PIERRE AND MIQUELON',\n",
       " 'SAN MARINO',\n",
       " 'SUDAN',\n",
       " 'SYRIA',\n",
       " 'TAIWAN',\n",
       " 'VIRGIN ISLANDS',\n",
       " 'YEMEN'}"
      ]
     },
     "execution_count": 47,
     "metadata": {},
     "output_type": "execute_result"
    }
   ],
   "source": [
    "a"
   ]
  },
  {
   "cell_type": "code",
   "execution_count": 48,
   "metadata": {
    "colab": {
     "base_uri": "https://localhost:8080/"
    },
    "id": "yWuUWt3wN2nl",
    "outputId": "556bbdbd-6ff9-4803-8710-450f539cb7c2"
   },
   "outputs": [
    {
     "data": {
      "text/plain": [
       "{'COOK ISLANDS',\n",
       " 'FALKLAND ISLANDS (ISLAS MALVINAS)',\n",
       " 'FAROE ISLANDS',\n",
       " 'FRENCH POLYNESIA',\n",
       " 'GIBRALTAR',\n",
       " 'GREENLAND',\n",
       " 'ICELAND',\n",
       " 'MONTSERRAT',\n",
       " 'NAURU',\n",
       " 'NEW CALEDONIA',\n",
       " 'NIUE',\n",
       " 'SAINT HELENA, ASCENSION, AND TRISTAN DA CUNHA',\n",
       " 'SAINT PIERRE AND MIQUELON',\n",
       " 'TRINIDAD AND TOBAGO',\n",
       " 'TURKS AND CAICOS ISLANDS',\n",
       " 'VIRGIN ISLANDS'}"
      ]
     },
     "execution_count": 48,
     "metadata": {},
     "output_type": "execute_result"
    }
   ],
   "source": [
    "b"
   ]
  },
  {
   "cell_type": "code",
   "execution_count": 49,
   "metadata": {
    "colab": {
     "base_uri": "https://localhost:8080/"
    },
    "id": "4s5LqfqiN3j6",
    "outputId": "d7e02eaa-e00a-4300-943c-ceea8fde745b"
   },
   "outputs": [
    {
     "data": {
      "text/plain": [
       "{'AMERICAN SAMOA',\n",
       " 'ANGUILLA',\n",
       " 'BERMUDA',\n",
       " 'BRITISH VIRGIN ISLANDS',\n",
       " 'COOK ISLANDS',\n",
       " 'FALKLAND ISLANDS (ISLAS MALVINAS)',\n",
       " 'FAROE ISLANDS',\n",
       " 'FRENCH POLYNESIA',\n",
       " 'GIBRALTAR',\n",
       " 'GREENLAND',\n",
       " 'GUAM',\n",
       " 'KIRIBATI',\n",
       " 'KOREA, NORTH',\n",
       " 'MICRONESIA, FEDERATED STATES OF',\n",
       " 'NAURU',\n",
       " 'NEW CALEDONIA',\n",
       " 'NIUE',\n",
       " 'PALAU',\n",
       " 'PUERTO RICO',\n",
       " 'SAINT HELENA, ASCENSION, AND TRISTAN DA CUNHA',\n",
       " 'SAINT PIERRE AND MIQUELON',\n",
       " 'SAN MARINO',\n",
       " 'TURKS AND CAICOS ISLANDS',\n",
       " 'VIRGIN ISLANDS'}"
      ]
     },
     "execution_count": 49,
     "metadata": {},
     "output_type": "execute_result"
    }
   ],
   "source": [
    "c"
   ]
  },
  {
   "cell_type": "code",
   "execution_count": 50,
   "metadata": {
    "colab": {
     "base_uri": "https://localhost:8080/"
    },
    "id": "y83fMK4hN4Yb",
    "outputId": "44f8e807-79cc-4c14-e54f-10f1c47b00bb"
   },
   "outputs": [
    {
     "data": {
      "text/plain": [
       "{'AMERICAN SAMOA',\n",
       " 'ANDORRA',\n",
       " 'ANGUILLA',\n",
       " 'BOSNIA AND HERZEGOVINA',\n",
       " 'COOK ISLANDS',\n",
       " 'CUBA',\n",
       " 'CURACAO',\n",
       " 'EQUATORIAL GUINEA',\n",
       " 'ERITREA',\n",
       " 'FAROE ISLANDS',\n",
       " 'GREENLAND',\n",
       " 'GUAM',\n",
       " 'ICELAND',\n",
       " 'KOREA, NORTH',\n",
       " 'KOSOVO',\n",
       " 'LIBYA',\n",
       " 'LIECHTENSTEIN',\n",
       " 'MARSHALL ISLANDS',\n",
       " 'MICRONESIA, FEDERATED STATES OF',\n",
       " 'MONACO',\n",
       " 'MONTENEGRO',\n",
       " 'MONTSERRAT',\n",
       " 'NAURU',\n",
       " 'NORTH MACEDONIA',\n",
       " 'PALAU',\n",
       " 'SAN MARINO',\n",
       " 'SUDAN',\n",
       " 'SYRIA',\n",
       " 'TAIWAN',\n",
       " 'TRINIDAD AND TOBAGO',\n",
       " 'TURKS AND CAICOS ISLANDS',\n",
       " 'YEMEN'}"
      ]
     },
     "execution_count": 50,
     "metadata": {},
     "output_type": "execute_result"
    }
   ],
   "source": [
    "d"
   ]
  },
  {
   "cell_type": "code",
   "execution_count": 51,
   "metadata": {
    "colab": {
     "base_uri": "https://localhost:8080/"
    },
    "id": "4CEtoyV7N7Az",
    "outputId": "229df3a8-42dc-476b-e296-5ec29f7a24c5"
   },
   "outputs": [
    {
     "data": {
      "text/plain": [
       "{'ANDORRA',\n",
       " 'BERMUDA',\n",
       " 'BOSNIA AND HERZEGOVINA',\n",
       " 'BRITISH VIRGIN ISLANDS',\n",
       " 'COOK ISLANDS',\n",
       " 'CUBA',\n",
       " 'CURACAO',\n",
       " 'EQUATORIAL GUINEA',\n",
       " 'ERITREA',\n",
       " 'FAROE ISLANDS',\n",
       " 'GREENLAND',\n",
       " 'KIRIBATI',\n",
       " 'KOSOVO',\n",
       " 'LIBYA',\n",
       " 'LIECHTENSTEIN',\n",
       " 'MARSHALL ISLANDS',\n",
       " 'MONACO',\n",
       " 'MONTENEGRO',\n",
       " 'NAURU',\n",
       " 'NORTH MACEDONIA',\n",
       " 'PUERTO RICO',\n",
       " 'SUDAN',\n",
       " 'SYRIA',\n",
       " 'TAIWAN',\n",
       " 'TURKS AND CAICOS ISLANDS',\n",
       " 'YEMEN'}"
      ]
     },
     "execution_count": 51,
     "metadata": {},
     "output_type": "execute_result"
    }
   ],
   "source": [
    "e"
   ]
  },
  {
   "cell_type": "code",
   "execution_count": 52,
   "metadata": {
    "colab": {
     "base_uri": "https://localhost:8080/"
    },
    "id": "BVVYswNjN9Tz",
    "outputId": "315ab0a5-2144-4446-a1eb-bcb27e639629"
   },
   "outputs": [
    {
     "data": {
      "text/plain": [
       "{'AMERICAN SAMOA',\n",
       " 'ANGUILLA',\n",
       " 'BERMUDA',\n",
       " 'BRITISH VIRGIN ISLANDS',\n",
       " 'GUAM',\n",
       " 'ICELAND',\n",
       " 'KIRIBATI',\n",
       " 'KOREA, NORTH',\n",
       " 'MICRONESIA, FEDERATED STATES OF',\n",
       " 'MONTSERRAT',\n",
       " 'PALAU',\n",
       " 'PUERTO RICO',\n",
       " 'SAN MARINO',\n",
       " 'TRINIDAD AND TOBAGO'}"
      ]
     },
     "execution_count": 52,
     "metadata": {},
     "output_type": "execute_result"
    }
   ],
   "source": [
    "f"
   ]
  },
  {
   "cell_type": "markdown",
   "metadata": {
    "id": "Go_NXu_HRlu7"
   },
   "source": [
    "**INNER MERGE**"
   ]
  },
  {
   "cell_type": "markdown",
   "metadata": {
    "id": "RZXSHMcrOClc"
   },
   "source": [
    "Finalmente, como no he encontrado países con nombres similares en cada DF, se procederá con *inner merge*"
   ]
  },
  {
   "cell_type": "code",
   "execution_count": 53,
   "metadata": {
    "colab": {
     "base_uri": "https://localhost:8080/"
    },
    "id": "O0UqaMT6RlEV",
    "outputId": "d342064c-9b93-46be-f3c2-83f9efc13486"
   },
   "outputs": [
    {
     "name": "stdout",
     "output_type": "stream",
     "text": [
      "<class 'pandas.core.frame.DataFrame'>\n",
      "RangeIndex: 176 entries, 0 to 175\n",
      "Data columns (total 6 columns):\n",
      " #   Column                                      Non-Null Count  Dtype   \n",
      "---  ------                                      --------------  -----   \n",
      " 0   Country                                     176 non-null    object  \n",
      " 1   Region                                      176 non-null    category\n",
      " 2   Electricity_generated_kW                    176 non-null    int64   \n",
      " 3   Education_expenditure_percent_GDP           176 non-null    float64 \n",
      " 4   Energy_consumption_per_capita_BtuPerPerson  176 non-null    int64   \n",
      " 5   Reserves_of_foreign_exchange_dollars        176 non-null    int64   \n",
      "dtypes: category(1), float64(1), int64(3), object(1)\n",
      "memory usage: 7.5+ KB\n"
     ]
    }
   ],
   "source": [
    "electricityEducation=pd.merge(electricity,education,how=\"inner\",on=[\"Country\",\"Region\"])\n",
    "electricityEducationEnergy=pd.merge(electricityEducation,energyConsumption,how=\"inner\",on=[\"Country\",\"Region\"])\n",
    "electricityEducationEnergyReserves=pd.merge(electricityEducationEnergy,reservesForeignExchange,how=\"inner\",on=[\"Country\",\"Region\"])\n",
    "electricityEducationEnergyReserves.drop(columns=[\"Year_electricity\",\"Year_education\",\"Year_energy\",\"Year_reserves\"],inplace=True)\n",
    "final1=electricityEducationEnergyReserves.set_index([\"Country\",\"Region\"])\n",
    "final1.reset_index(inplace=True)\n",
    "final1.info()"
   ]
  },
  {
   "cell_type": "markdown",
   "metadata": {
    "id": "EVDhpKsgLDWh"
   },
   "source": [
    "## Transformación"
   ]
  },
  {
   "cell_type": "markdown",
   "metadata": {
    "id": "7P6m_SksL1iu"
   },
   "source": [
    "4. Report the average, min and max for the variables (reserves, energy, electricity. education) by region.\n",
    "5. Create new columns for each variable , so that they are in 5 intervals. Choose the same methods for the four variables. Two decisiones here.\n",
    "\n",
    "6. Save the final result: country, region and the eight variables."
   ]
  },
  {
   "cell_type": "markdown",
   "metadata": {
    "id": "RDXkJYDykGye"
   },
   "source": [
    "### Task 4"
   ]
  },
  {
   "cell_type": "code",
   "execution_count": 54,
   "metadata": {
    "colab": {
     "base_uri": "https://localhost:8080/"
    },
    "id": "HHcBuI4hE0zL",
    "outputId": "e4cf35a7-9d8a-4834-9d03-b9939daa7d56"
   },
   "outputs": [
    {
     "name": "stderr",
     "output_type": "stream",
     "text": [
      "C:\\Users\\ADMIN\\AppData\\Local\\Temp\\ipykernel_19056\\3809019511.py:4: FutureWarning: The default of observed=False is deprecated and will be changed to True in a future version of pandas. Pass observed=False to retain current behavior or observed=True to adopt the future default and silence this warning.\n",
      "  final1Stats=final1.groupby('Region')[varsAggregated].agg(functionForVars)\n"
     ]
    }
   ],
   "source": [
    "#codigo para agrupar a las columnas con datos numericos segun Region y se obtiene valores estadisticos como min, max y mean\n",
    "varsAggregated=['Electricity_generated_kW','Education_expenditure_percent_GDP','Energy_consumption_per_capita_BtuPerPerson','Reserves_of_foreign_exchange_dollars']\n",
    "functionForVars=['mean','min','max']\n",
    "final1Stats=final1.groupby('Region')[varsAggregated].agg(functionForVars)"
   ]
  },
  {
   "cell_type": "code",
   "execution_count": 55,
   "metadata": {
    "colab": {
     "base_uri": "https://localhost:8080/"
    },
    "id": "lMSDmsIYZiE3",
    "outputId": "43ef58c2-aba7-4446-aa31-c53ada3f05ad"
   },
   "outputs": [
    {
     "data": {
      "text/plain": [
       "Index([                  ('Electricity_generated_kW', 'mean'),\n",
       "                          ('Electricity_generated_kW', 'min'),\n",
       "                          ('Electricity_generated_kW', 'max'),\n",
       "                ('Education_expenditure_percent_GDP', 'mean'),\n",
       "                 ('Education_expenditure_percent_GDP', 'min'),\n",
       "                 ('Education_expenditure_percent_GDP', 'max'),\n",
       "       ('Energy_consumption_per_capita_BtuPerPerson', 'mean'),\n",
       "        ('Energy_consumption_per_capita_BtuPerPerson', 'min'),\n",
       "        ('Energy_consumption_per_capita_BtuPerPerson', 'max'),\n",
       "             ('Reserves_of_foreign_exchange_dollars', 'mean'),\n",
       "              ('Reserves_of_foreign_exchange_dollars', 'min'),\n",
       "              ('Reserves_of_foreign_exchange_dollars', 'max')],\n",
       "      dtype='object')"
      ]
     },
     "execution_count": 55,
     "metadata": {},
     "output_type": "execute_result"
    }
   ],
   "source": [
    "final1Stats.columns.to_flat_index()   #se procede a cambiar de multi-indexing a flat-index para columnas"
   ]
  },
  {
   "cell_type": "code",
   "execution_count": 56,
   "metadata": {
    "id": "A1ZB-ovXZLsK"
   },
   "outputs": [],
   "source": [
    "# se cambiará del multi indexing a index normal las columnas se resetearan a 1 solo index\n",
    "\n",
    "final1Stats.columns=['_'.join(col) for col in final1Stats.columns.to_flat_index()]"
   ]
  },
  {
   "cell_type": "code",
   "execution_count": 57,
   "metadata": {
    "id": "_WMR8hKyaOKe"
   },
   "outputs": [],
   "source": [
    "final1Stats.reset_index(drop=False, inplace=True)"
   ]
  },
  {
   "cell_type": "code",
   "execution_count": 58,
   "metadata": {
    "colab": {
     "base_uri": "https://localhost:8080/",
     "height": 591
    },
    "id": "TeLTpjlnjC6W",
    "outputId": "512439b4-edfe-4bc0-eaff-c4edee09e3be"
   },
   "outputs": [
    {
     "data": {
      "text/html": [
       "<div>\n",
       "<style scoped>\n",
       "    .dataframe tbody tr th:only-of-type {\n",
       "        vertical-align: middle;\n",
       "    }\n",
       "\n",
       "    .dataframe tbody tr th {\n",
       "        vertical-align: top;\n",
       "    }\n",
       "\n",
       "    .dataframe thead th {\n",
       "        text-align: right;\n",
       "    }\n",
       "</style>\n",
       "<table border=\"1\" class=\"dataframe\">\n",
       "  <thead>\n",
       "    <tr style=\"text-align: right;\">\n",
       "      <th></th>\n",
       "      <th>Region</th>\n",
       "      <th>Electricity_generated_kW_mean</th>\n",
       "      <th>Electricity_generated_kW_min</th>\n",
       "      <th>Electricity_generated_kW_max</th>\n",
       "      <th>Education_expenditure_percent_GDP_mean</th>\n",
       "      <th>Education_expenditure_percent_GDP_min</th>\n",
       "      <th>Education_expenditure_percent_GDP_max</th>\n",
       "      <th>Energy_consumption_per_capita_BtuPerPerson_mean</th>\n",
       "      <th>Energy_consumption_per_capita_BtuPerPerson_min</th>\n",
       "      <th>Energy_consumption_per_capita_BtuPerPerson_max</th>\n",
       "      <th>Reserves_of_foreign_exchange_dollars_mean</th>\n",
       "      <th>Reserves_of_foreign_exchange_dollars_min</th>\n",
       "      <th>Reserves_of_foreign_exchange_dollars_max</th>\n",
       "    </tr>\n",
       "  </thead>\n",
       "  <tbody>\n",
       "    <tr>\n",
       "      <th>0</th>\n",
       "      <td>East and Southeast Asia</td>\n",
       "      <td>2.108446e+08</td>\n",
       "      <td>277000</td>\n",
       "      <td>2949000000</td>\n",
       "      <td>3.633333</td>\n",
       "      <td>1.4</td>\n",
       "      <td>6.3</td>\n",
       "      <td>1.186874e+08</td>\n",
       "      <td>6825000</td>\n",
       "      <td>643259000</td>\n",
       "      <td>3.536142e+11</td>\n",
       "      <td>781995000</td>\n",
       "      <td>3265000000000</td>\n",
       "    </tr>\n",
       "    <tr>\n",
       "      <th>1</th>\n",
       "      <td>North America</td>\n",
       "      <td>5.008580e+08</td>\n",
       "      <td>105586000</td>\n",
       "      <td>1235000000</td>\n",
       "      <td>5.200000</td>\n",
       "      <td>4.3</td>\n",
       "      <td>6.1</td>\n",
       "      <td>2.158707e+08</td>\n",
       "      <td>57539000</td>\n",
       "      <td>311599000</td>\n",
       "      <td>1.890850e+11</td>\n",
       "      <td>117551000000</td>\n",
       "      <td>227760000000</td>\n",
       "    </tr>\n",
       "    <tr>\n",
       "      <th>2</th>\n",
       "      <td>South Asia</td>\n",
       "      <td>7.211612e+07</td>\n",
       "      <td>432000</td>\n",
       "      <td>499136000</td>\n",
       "      <td>3.850000</td>\n",
       "      <td>1.9</td>\n",
       "      <td>7.0</td>\n",
       "      <td>2.350638e+07</td>\n",
       "      <td>3380000</td>\n",
       "      <td>64082000</td>\n",
       "      <td>7.907593e+10</td>\n",
       "      <td>673203000</td>\n",
       "      <td>569544000000</td>\n",
       "    </tr>\n",
       "    <tr>\n",
       "      <th>3</th>\n",
       "      <td>Central Asia</td>\n",
       "      <td>4.239578e+07</td>\n",
       "      <td>3944000</td>\n",
       "      <td>301926000</td>\n",
       "      <td>4.333333</td>\n",
       "      <td>2.8</td>\n",
       "      <td>6.2</td>\n",
       "      <td>1.039161e+08</td>\n",
       "      <td>16192000</td>\n",
       "      <td>261142000</td>\n",
       "      <td>7.555822e+10</td>\n",
       "      <td>3237000000</td>\n",
       "      <td>597217000000</td>\n",
       "    </tr>\n",
       "    <tr>\n",
       "      <th>4</th>\n",
       "      <td>Europe</td>\n",
       "      <td>4.027509e+07</td>\n",
       "      <td>779000</td>\n",
       "      <td>275658000</td>\n",
       "      <td>5.151429</td>\n",
       "      <td>3.1</td>\n",
       "      <td>7.2</td>\n",
       "      <td>1.131422e+08</td>\n",
       "      <td>27407000</td>\n",
       "      <td>234698000</td>\n",
       "      <td>6.415875e+10</td>\n",
       "      <td>921269000</td>\n",
       "      <td>822130000000</td>\n",
       "    </tr>\n",
       "    <tr>\n",
       "      <th>5</th>\n",
       "      <td>South America</td>\n",
       "      <td>3.550408e+07</td>\n",
       "      <td>259000</td>\n",
       "      <td>240251000</td>\n",
       "      <td>4.808333</td>\n",
       "      <td>1.3</td>\n",
       "      <td>9.8</td>\n",
       "      <td>4.641467e+07</td>\n",
       "      <td>25733000</td>\n",
       "      <td>78496000</td>\n",
       "      <td>4.748692e+10</td>\n",
       "      <td>87100000</td>\n",
       "      <td>318857000000</td>\n",
       "    </tr>\n",
       "    <tr>\n",
       "      <th>6</th>\n",
       "      <td>Middle East</td>\n",
       "      <td>3.381729e+07</td>\n",
       "      <td>352000</td>\n",
       "      <td>119620000</td>\n",
       "      <td>4.528571</td>\n",
       "      <td>1.7</td>\n",
       "      <td>7.8</td>\n",
       "      <td>2.406509e+08</td>\n",
       "      <td>14991000</td>\n",
       "      <td>814308000</td>\n",
       "      <td>9.432479e+10</td>\n",
       "      <td>1328000000</td>\n",
       "      <td>436769000000</td>\n",
       "    </tr>\n",
       "    <tr>\n",
       "      <th>7</th>\n",
       "      <td>Australia and Oceania</td>\n",
       "      <td>1.706100e+07</td>\n",
       "      <td>34000</td>\n",
       "      <td>108193000</td>\n",
       "      <td>6.314286</td>\n",
       "      <td>2.2</td>\n",
       "      <td>12.8</td>\n",
       "      <td>6.221671e+07</td>\n",
       "      <td>5655000</td>\n",
       "      <td>223158000</td>\n",
       "      <td>1.147904e+10</td>\n",
       "      <td>396530000</td>\n",
       "      <td>54455000000</td>\n",
       "    </tr>\n",
       "    <tr>\n",
       "      <th>8</th>\n",
       "      <td>Africa</td>\n",
       "      <td>4.619820e+06</td>\n",
       "      <td>29000</td>\n",
       "      <td>65989000</td>\n",
       "      <td>4.268000</td>\n",
       "      <td>0.3</td>\n",
       "      <td>9.6</td>\n",
       "      <td>1.412284e+07</td>\n",
       "      <td>649000</td>\n",
       "      <td>98847000</td>\n",
       "      <td>6.860587e+09</td>\n",
       "      <td>30450000</td>\n",
       "      <td>68448000000</td>\n",
       "    </tr>\n",
       "    <tr>\n",
       "      <th>9</th>\n",
       "      <td>Central America and the Caribbean</td>\n",
       "      <td>1.580500e+06</td>\n",
       "      <td>41000</td>\n",
       "      <td>6581000</td>\n",
       "      <td>4.555000</td>\n",
       "      <td>1.4</td>\n",
       "      <td>8.7</td>\n",
       "      <td>5.587300e+07</td>\n",
       "      <td>3486000</td>\n",
       "      <td>153952000</td>\n",
       "      <td>4.561870e+09</td>\n",
       "      <td>155971000</td>\n",
       "      <td>23834000000</td>\n",
       "    </tr>\n",
       "  </tbody>\n",
       "</table>\n",
       "</div>"
      ],
      "text/plain": [
       "                              Region  Electricity_generated_kW_mean  \\\n",
       "0            East and Southeast Asia                   2.108446e+08   \n",
       "1                      North America                   5.008580e+08   \n",
       "2                         South Asia                   7.211612e+07   \n",
       "3                       Central Asia                   4.239578e+07   \n",
       "4                             Europe                   4.027509e+07   \n",
       "5                      South America                   3.550408e+07   \n",
       "6                        Middle East                   3.381729e+07   \n",
       "7              Australia and Oceania                   1.706100e+07   \n",
       "8                             Africa                   4.619820e+06   \n",
       "9  Central America and the Caribbean                   1.580500e+06   \n",
       "\n",
       "   Electricity_generated_kW_min  Electricity_generated_kW_max  \\\n",
       "0                        277000                    2949000000   \n",
       "1                     105586000                    1235000000   \n",
       "2                        432000                     499136000   \n",
       "3                       3944000                     301926000   \n",
       "4                        779000                     275658000   \n",
       "5                        259000                     240251000   \n",
       "6                        352000                     119620000   \n",
       "7                         34000                     108193000   \n",
       "8                         29000                      65989000   \n",
       "9                         41000                       6581000   \n",
       "\n",
       "   Education_expenditure_percent_GDP_mean  \\\n",
       "0                                3.633333   \n",
       "1                                5.200000   \n",
       "2                                3.850000   \n",
       "3                                4.333333   \n",
       "4                                5.151429   \n",
       "5                                4.808333   \n",
       "6                                4.528571   \n",
       "7                                6.314286   \n",
       "8                                4.268000   \n",
       "9                                4.555000   \n",
       "\n",
       "   Education_expenditure_percent_GDP_min  \\\n",
       "0                                    1.4   \n",
       "1                                    4.3   \n",
       "2                                    1.9   \n",
       "3                                    2.8   \n",
       "4                                    3.1   \n",
       "5                                    1.3   \n",
       "6                                    1.7   \n",
       "7                                    2.2   \n",
       "8                                    0.3   \n",
       "9                                    1.4   \n",
       "\n",
       "   Education_expenditure_percent_GDP_max  \\\n",
       "0                                    6.3   \n",
       "1                                    6.1   \n",
       "2                                    7.0   \n",
       "3                                    6.2   \n",
       "4                                    7.2   \n",
       "5                                    9.8   \n",
       "6                                    7.8   \n",
       "7                                   12.8   \n",
       "8                                    9.6   \n",
       "9                                    8.7   \n",
       "\n",
       "   Energy_consumption_per_capita_BtuPerPerson_mean  \\\n",
       "0                                     1.186874e+08   \n",
       "1                                     2.158707e+08   \n",
       "2                                     2.350638e+07   \n",
       "3                                     1.039161e+08   \n",
       "4                                     1.131422e+08   \n",
       "5                                     4.641467e+07   \n",
       "6                                     2.406509e+08   \n",
       "7                                     6.221671e+07   \n",
       "8                                     1.412284e+07   \n",
       "9                                     5.587300e+07   \n",
       "\n",
       "   Energy_consumption_per_capita_BtuPerPerson_min  \\\n",
       "0                                         6825000   \n",
       "1                                        57539000   \n",
       "2                                         3380000   \n",
       "3                                        16192000   \n",
       "4                                        27407000   \n",
       "5                                        25733000   \n",
       "6                                        14991000   \n",
       "7                                         5655000   \n",
       "8                                          649000   \n",
       "9                                         3486000   \n",
       "\n",
       "   Energy_consumption_per_capita_BtuPerPerson_max  \\\n",
       "0                                       643259000   \n",
       "1                                       311599000   \n",
       "2                                        64082000   \n",
       "3                                       261142000   \n",
       "4                                       234698000   \n",
       "5                                        78496000   \n",
       "6                                       814308000   \n",
       "7                                       223158000   \n",
       "8                                        98847000   \n",
       "9                                       153952000   \n",
       "\n",
       "   Reserves_of_foreign_exchange_dollars_mean  \\\n",
       "0                               3.536142e+11   \n",
       "1                               1.890850e+11   \n",
       "2                               7.907593e+10   \n",
       "3                               7.555822e+10   \n",
       "4                               6.415875e+10   \n",
       "5                               4.748692e+10   \n",
       "6                               9.432479e+10   \n",
       "7                               1.147904e+10   \n",
       "8                               6.860587e+09   \n",
       "9                               4.561870e+09   \n",
       "\n",
       "   Reserves_of_foreign_exchange_dollars_min  \\\n",
       "0                                 781995000   \n",
       "1                              117551000000   \n",
       "2                                 673203000   \n",
       "3                                3237000000   \n",
       "4                                 921269000   \n",
       "5                                  87100000   \n",
       "6                                1328000000   \n",
       "7                                 396530000   \n",
       "8                                  30450000   \n",
       "9                                 155971000   \n",
       "\n",
       "   Reserves_of_foreign_exchange_dollars_max  \n",
       "0                             3265000000000  \n",
       "1                              227760000000  \n",
       "2                              569544000000  \n",
       "3                              597217000000  \n",
       "4                              822130000000  \n",
       "5                              318857000000  \n",
       "6                              436769000000  \n",
       "7                               54455000000  \n",
       "8                               68448000000  \n",
       "9                               23834000000  "
      ]
     },
     "execution_count": 58,
     "metadata": {},
     "output_type": "execute_result"
    }
   ],
   "source": [
    "final1Stats       #Aqui se obtiene el resultaado pedido por el Task 4"
   ]
  },
  {
   "cell_type": "markdown",
   "metadata": {
    "id": "5p5mKGIykKH3"
   },
   "source": [
    "### Task 5"
   ]
  },
  {
   "cell_type": "code",
   "execution_count": 59,
   "metadata": {
    "colab": {
     "base_uri": "https://localhost:8080/",
     "height": 466
    },
    "id": "C00nbG_sbAS1",
    "outputId": "f696d7f3-ec18-4849-915b-e4c834e27029"
   },
   "outputs": [
    {
     "data": {
      "text/plain": [
       "<Axes: >"
      ]
     },
     "execution_count": 59,
     "metadata": {},
     "output_type": "execute_result"
    }
   ],
   "source": [
    "#ahora se procede con el diagrama de caja para ver la distribución de los datos en cada columna.\n",
    "#Esto se hace para observar si existen valores atípicos\n",
    "\n",
    "%matplotlib inline\n",
    "\n",
    "vars=['Electricity_generated_kW','Education_expenditure_percent_GDP', 'Energy_consumption_per_capita_BtuPerPerson', 'Reserves_of_foreign_exchange_dollars']\n",
    "final1.loc[:,vars].boxplot(vert=False)"
   ]
  },
  {
   "cell_type": "code",
   "execution_count": 60,
   "metadata": {
    "colab": {
     "base_uri": "https://localhost:8080/",
     "height": 448
    },
    "id": "xaFrLx7nch4v",
    "outputId": "82c98d82-e113-49ff-e9f9-9a60b3f323bd"
   },
   "outputs": [
    {
     "data": {
      "text/plain": [
       "<Axes: >"
      ]
     },
     "execution_count": 60,
     "metadata": {},
     "output_type": "execute_result"
    }
   ],
   "source": [
    "# ante la presencia de datos atípicos, se procede a hacer el boxplot con robustScaler, por lo que los datos cambian\n",
    "from sklearn.preprocessing import RobustScaler\n",
    "scaler = RobustScaler(unit_variance=True,with_centering=False)\n",
    "robScaled_data = scaler.fit_transform(final1.loc[:,vars])\n",
    "\n",
    "pd.DataFrame(robScaled_data,columns=vars).boxplot(vert=False)\n"
   ]
  },
  {
   "cell_type": "code",
   "execution_count": 61,
   "metadata": {
    "id": "JM_FdjRSeAA8"
   },
   "outputs": [],
   "source": [
    "#robustScaler cambia los datos, por lo que los nuevos datos serían:\n",
    "\n",
    "vars_rob_names=[v+'_rob' for v in vars] # los nuevos nombres\n",
    "\n",
    "final1_robust=pd.DataFrame(robScaled_data,columns=vars_rob_names)\n",
    "final1_copy=final1.copy()\n",
    "final1_copy[vars_rob_names]=robScaled_data"
   ]
  },
  {
   "cell_type": "code",
   "execution_count": 62,
   "metadata": {
    "colab": {
     "base_uri": "https://localhost:8080/",
     "height": 423
    },
    "id": "dFw1Z6Q7eL-U",
    "outputId": "3a5f63c4-7153-4332-83ce-7202caa8fae0"
   },
   "outputs": [
    {
     "data": {
      "text/html": [
       "<div>\n",
       "<style scoped>\n",
       "    .dataframe tbody tr th:only-of-type {\n",
       "        vertical-align: middle;\n",
       "    }\n",
       "\n",
       "    .dataframe tbody tr th {\n",
       "        vertical-align: top;\n",
       "    }\n",
       "\n",
       "    .dataframe thead th {\n",
       "        text-align: right;\n",
       "    }\n",
       "</style>\n",
       "<table border=\"1\" class=\"dataframe\">\n",
       "  <thead>\n",
       "    <tr style=\"text-align: right;\">\n",
       "      <th></th>\n",
       "      <th>Electricity_generated_kW_rob</th>\n",
       "      <th>Education_expenditure_percent_GDP_rob</th>\n",
       "      <th>Energy_consumption_per_capita_BtuPerPerson_rob</th>\n",
       "      <th>Reserves_of_foreign_exchange_dollars_rob</th>\n",
       "    </tr>\n",
       "  </thead>\n",
       "  <tbody>\n",
       "    <tr>\n",
       "      <th>0</th>\n",
       "      <td>180.730098</td>\n",
       "      <td>2.088742</td>\n",
       "      <td>1.694928</td>\n",
       "      <td>117.004970</td>\n",
       "    </tr>\n",
       "    <tr>\n",
       "      <th>1</th>\n",
       "      <td>75.687240</td>\n",
       "      <td>3.539258</td>\n",
       "      <td>4.147386</td>\n",
       "      <td>8.162037</td>\n",
       "    </tr>\n",
       "    <tr>\n",
       "      <th>2</th>\n",
       "      <td>30.589657</td>\n",
       "      <td>2.610928</td>\n",
       "      <td>0.374997</td>\n",
       "      <td>20.410254</td>\n",
       "    </tr>\n",
       "    <tr>\n",
       "      <th>3</th>\n",
       "      <td>22.161775</td>\n",
       "      <td>1.972701</td>\n",
       "      <td>1.928737</td>\n",
       "      <td>41.569913</td>\n",
       "    </tr>\n",
       "    <tr>\n",
       "      <th>4</th>\n",
       "      <td>18.503600</td>\n",
       "      <td>2.146763</td>\n",
       "      <td>3.348869</td>\n",
       "      <td>21.401947</td>\n",
       "    </tr>\n",
       "    <tr>\n",
       "      <th>...</th>\n",
       "      <td>...</td>\n",
       "      <td>...</td>\n",
       "      <td>...</td>\n",
       "      <td>...</td>\n",
       "    </tr>\n",
       "    <tr>\n",
       "      <th>171</th>\n",
       "      <td>0.002268</td>\n",
       "      <td>7.426640</td>\n",
       "      <td>0.084221</td>\n",
       "      <td>0.024663</td>\n",
       "    </tr>\n",
       "    <tr>\n",
       "      <th>172</th>\n",
       "      <td>0.002084</td>\n",
       "      <td>3.829361</td>\n",
       "      <td>0.346596</td>\n",
       "      <td>0.014210</td>\n",
       "    </tr>\n",
       "    <tr>\n",
       "      <th>173</th>\n",
       "      <td>0.001961</td>\n",
       "      <td>1.508536</td>\n",
       "      <td>0.106323</td>\n",
       "      <td>0.011555</td>\n",
       "    </tr>\n",
       "    <tr>\n",
       "      <th>174</th>\n",
       "      <td>0.001777</td>\n",
       "      <td>2.901031</td>\n",
       "      <td>0.132178</td>\n",
       "      <td>0.001657</td>\n",
       "    </tr>\n",
       "    <tr>\n",
       "      <th>175</th>\n",
       "      <td>0.001777</td>\n",
       "      <td>1.566557</td>\n",
       "      <td>0.035014</td>\n",
       "      <td>0.012772</td>\n",
       "    </tr>\n",
       "  </tbody>\n",
       "</table>\n",
       "<p>176 rows × 4 columns</p>\n",
       "</div>"
      ],
      "text/plain": [
       "     Electricity_generated_kW_rob  Education_expenditure_percent_GDP_rob  \\\n",
       "0                      180.730098                               2.088742   \n",
       "1                       75.687240                               3.539258   \n",
       "2                       30.589657                               2.610928   \n",
       "3                       22.161775                               1.972701   \n",
       "4                       18.503600                               2.146763   \n",
       "..                            ...                                    ...   \n",
       "171                      0.002268                               7.426640   \n",
       "172                      0.002084                               3.829361   \n",
       "173                      0.001961                               1.508536   \n",
       "174                      0.001777                               2.901031   \n",
       "175                      0.001777                               1.566557   \n",
       "\n",
       "     Energy_consumption_per_capita_BtuPerPerson_rob  \\\n",
       "0                                          1.694928   \n",
       "1                                          4.147386   \n",
       "2                                          0.374997   \n",
       "3                                          1.928737   \n",
       "4                                          3.348869   \n",
       "..                                              ...   \n",
       "171                                        0.084221   \n",
       "172                                        0.346596   \n",
       "173                                        0.106323   \n",
       "174                                        0.132178   \n",
       "175                                        0.035014   \n",
       "\n",
       "     Reserves_of_foreign_exchange_dollars_rob  \n",
       "0                                  117.004970  \n",
       "1                                    8.162037  \n",
       "2                                   20.410254  \n",
       "3                                   41.569913  \n",
       "4                                   21.401947  \n",
       "..                                        ...  \n",
       "171                                  0.024663  \n",
       "172                                  0.014210  \n",
       "173                                  0.011555  \n",
       "174                                  0.001657  \n",
       "175                                  0.012772  \n",
       "\n",
       "[176 rows x 4 columns]"
      ]
     },
     "execution_count": 62,
     "metadata": {},
     "output_type": "execute_result"
    }
   ],
   "source": [
    "final1_robust #los valores modificados por la tecnica Robust"
   ]
  },
  {
   "cell_type": "code",
   "execution_count": 63,
   "metadata": {
    "colab": {
     "base_uri": "https://localhost:8080/"
    },
    "id": "GLxG8EIyeT6y",
    "outputId": "187427c1-360e-4e1e-f45b-15528f8a2fa4"
   },
   "outputs": [
    {
     "name": "stdout",
     "output_type": "stream",
     "text": [
      "Requirement already satisfied: mapclassify in c:\\users\\admin\\anaconda3\\envs\\dataespacial_31111\\lib\\site-packages (2.8.1)\n",
      "Requirement already satisfied: networkx>=2.7 in c:\\users\\admin\\anaconda3\\envs\\dataespacial_31111\\lib\\site-packages (from mapclassify) (3.4.2)\n",
      "Requirement already satisfied: numpy>=1.23 in c:\\users\\admin\\anaconda3\\envs\\dataespacial_31111\\lib\\site-packages (from mapclassify) (2.0.1)\n",
      "Requirement already satisfied: pandas!=1.5.0,>=1.4 in c:\\users\\admin\\anaconda3\\envs\\dataespacial_31111\\lib\\site-packages (from mapclassify) (2.2.3)\n",
      "Requirement already satisfied: scikit-learn>=1.0 in c:\\users\\admin\\anaconda3\\envs\\dataespacial_31111\\lib\\site-packages (from mapclassify) (1.6.1)\n",
      "Requirement already satisfied: scipy>=1.8 in c:\\users\\admin\\anaconda3\\envs\\dataespacial_31111\\lib\\site-packages (from mapclassify) (1.15.2)\n",
      "Requirement already satisfied: python-dateutil>=2.8.2 in c:\\users\\admin\\anaconda3\\envs\\dataespacial_31111\\lib\\site-packages (from pandas!=1.5.0,>=1.4->mapclassify) (2.9.0.post0)\n",
      "Requirement already satisfied: pytz>=2020.1 in c:\\users\\admin\\anaconda3\\envs\\dataespacial_31111\\lib\\site-packages (from pandas!=1.5.0,>=1.4->mapclassify) (2024.1)\n",
      "Requirement already satisfied: tzdata>=2022.7 in c:\\users\\admin\\anaconda3\\envs\\dataespacial_31111\\lib\\site-packages (from pandas!=1.5.0,>=1.4->mapclassify) (2023.3)\n",
      "Requirement already satisfied: joblib>=1.2.0 in c:\\users\\admin\\anaconda3\\envs\\dataespacial_31111\\lib\\site-packages (from scikit-learn>=1.0->mapclassify) (1.4.2)\n",
      "Requirement already satisfied: threadpoolctl>=3.1.0 in c:\\users\\admin\\anaconda3\\envs\\dataespacial_31111\\lib\\site-packages (from scikit-learn>=1.0->mapclassify) (3.6.0)\n",
      "Requirement already satisfied: six>=1.5 in c:\\users\\admin\\anaconda3\\envs\\dataespacial_31111\\lib\\site-packages (from python-dateutil>=2.8.2->pandas!=1.5.0,>=1.4->mapclassify) (1.16.0)\n"
     ]
    }
   ],
   "source": [
    "# DISCRETIZACION\n",
    "!pip install mapclassify"
   ]
  },
  {
   "cell_type": "code",
   "execution_count": 64,
   "metadata": {
    "id": "66bk3rx-gfMU"
   },
   "outputs": [],
   "source": [
    "import mapclassify\n",
    "import numpy as np\n",
    "np.random.seed(12345)"
   ]
  },
  {
   "cell_type": "code",
   "execution_count": 65,
   "metadata": {
    "id": "Q-HfHLdgebtS"
   },
   "outputs": [
    {
     "name": "stderr",
     "output_type": "stream",
     "text": [
      "C:\\Users\\ADMIN\\anaconda3\\envs\\dataespacial_31111\\Lib\\site-packages\\IPython\\core\\interactiveshell.py:3577: UserWarning: Numba not installed. Using slow pure python version.\n",
      "  exec(code_obj, self.user_global_ns, self.user_ns)\n"
     ]
    }
   ],
   "source": [
    "# Para electricityRobust\n",
    "\n",
    "theVar=final1_robust.Electricity_generated_kW_rob\n",
    "K=5\n",
    "\n",
    "#se prueba con cada tecnica de discretizacion enseñada\n",
    "ei5 = mapclassify.EqualInterval(theVar, k=K)\n",
    "\n",
    "msd = mapclassify.StdMean(theVar)\n",
    "\n",
    "q5=mapclassify.Quantiles(theVar,k=K)\n",
    "\n",
    "mb5 = mapclassify.MaximumBreaks(theVar, k=K)\n",
    "\n",
    "ht = mapclassify.HeadTailBreaks(theVar)\n",
    "\n",
    "fj5 = mapclassify.FisherJenks(theVar, k=K)\n",
    "\n",
    "jc5 = mapclassify.JenksCaspall(theVar, k=K)\n",
    "\n",
    "mp5 = mapclassify.MaxP(theVar, k=K)\n"
   ]
  },
  {
   "cell_type": "code",
   "execution_count": 66,
   "metadata": {
    "colab": {
     "base_uri": "https://localhost:8080/",
     "height": 551
    },
    "id": "6BJyPwuegwcq",
    "outputId": "feaae54f-43be-416a-b91f-6fbc05b8fc1c"
   },
   "outputs": [],
   "source": [
    "class5 = q5, ei5,msd, ht, mb5, fj5, jc5, mp5\n",
    "fits = np.array([ c.adcm for c in class5])\n",
    "adcms = pd.DataFrame(fits)\n",
    "adcms['classifier'] = [c.name for c in class5]\n",
    "adcms.columns = ['ADCM', 'Classifier']\n",
    "adcms.sort_values(by='ADCM', ascending=False).plot(kind='bar', x='Classifier', y='ADCM', legend=False);"
   ]
  },
  {
   "cell_type": "code",
   "execution_count": 67,
   "metadata": {
    "id": "6stx2MSyhWII"
   },
   "outputs": [
    {
     "name": "stderr",
     "output_type": "stream",
     "text": [
      "C:\\Users\\ADMIN\\anaconda3\\envs\\dataespacial_31111\\Lib\\site-packages\\IPython\\core\\interactiveshell.py:3577: UserWarning: Numba not installed. Using slow pure python version.\n",
      "  exec(code_obj, self.user_global_ns, self.user_ns)\n"
     ]
    }
   ],
   "source": [
    "# se usará Fisherjenks para cada variable porque produce el ADCM menor\n",
    "FJelectricity=mapclassify.FisherJenks(final1_robust.Electricity_generated_kW_rob, k=5)\n",
    "FJeducation=mapclassify.FisherJenks(final1_robust.Education_expenditure_percent_GDP_rob, k=5)\n",
    "FJenergy=mapclassify.FisherJenks(final1_robust.Energy_consumption_per_capita_BtuPerPerson_rob, k=5)\n",
    "FJreserves=mapclassify.FisherJenks(final1_robust.Reserves_of_foreign_exchange_dollars_rob, k=5)"
   ]
  },
  {
   "cell_type": "code",
   "execution_count": 68,
   "metadata": {
    "colab": {
     "base_uri": "https://localhost:8080/"
    },
    "id": "VmDnEWY_iffe",
    "outputId": "8cf3bc49-419b-4ea1-b5d5-7388dcf2c395"
   },
   "outputs": [
    {
     "data": {
      "text/plain": [
       "FisherJenks\n",
       "\n",
       "    Interval       Count\n",
       "------------------------\n",
       "[  0.00,   2.92] |   149\n",
       "(  2.92,   9.93] |    20\n",
       "(  9.93,  30.59] |     5\n",
       "( 30.59,  75.69] |     1\n",
       "( 75.69, 180.73] |     1"
      ]
     },
     "execution_count": 68,
     "metadata": {},
     "output_type": "execute_result"
    }
   ],
   "source": [
    "FJelectricity     #se obtienen los intervalos para electricity mediante ese método"
   ]
  },
  {
   "cell_type": "code",
   "execution_count": 69,
   "metadata": {
    "colab": {
     "base_uri": "https://localhost:8080/"
    },
    "id": "NjEoljANigyv",
    "outputId": "e31552b5-f3f9-4f5c-99c6-71e33d7daa5f"
   },
   "outputs": [
    {
     "data": {
      "text/plain": [
       "FisherJenks\n",
       "\n",
       "  Interval     Count\n",
       "--------------------\n",
       "[0.17, 1.57] |    26\n",
       "(1.57, 2.38] |    52\n",
       "(2.38, 3.25] |    55\n",
       "(3.25, 4.53] |    36\n",
       "(4.53, 7.43] |     7"
      ]
     },
     "execution_count": 69,
     "metadata": {},
     "output_type": "execute_result"
    }
   ],
   "source": [
    "FJeducation       #se obtienen los intervalos para education mediante ese método"
   ]
  },
  {
   "cell_type": "code",
   "execution_count": 70,
   "metadata": {
    "colab": {
     "base_uri": "https://localhost:8080/"
    },
    "id": "uzwE3JlJiiE_",
    "outputId": "32f974f1-471b-4592-c0ef-c3bf5a9ab721"
   },
   "outputs": [
    {
     "data": {
      "text/plain": [
       "FisherJenks\n",
       "\n",
       "   Interval      Count\n",
       "----------------------\n",
       "[ 0.01,  0.76] |    95\n",
       "( 0.76,  2.13] |    58\n",
       "( 2.13,  4.15] |    14\n",
       "( 4.15,  6.71] |     6\n",
       "( 6.71, 12.13] |     3"
      ]
     },
     "execution_count": 70,
     "metadata": {},
     "output_type": "execute_result"
    }
   ],
   "source": [
    "FJenergy          #se obtienen los intervalos para energy mediante ese método"
   ]
  },
  {
   "cell_type": "code",
   "execution_count": 71,
   "metadata": {
    "colab": {
     "base_uri": "https://localhost:8080/"
    },
    "id": "1iRxhGqzijen",
    "outputId": "8a2063d3-0f07-49b9-88b8-ac8aaa44244d"
   },
   "outputs": [
    {
     "data": {
      "text/plain": [
       "FisherJenks\n",
       "\n",
       "    Interval       Count\n",
       "------------------------\n",
       "[  0.00,   2.45] |   143\n",
       "(  2.45,   8.30] |    23\n",
       "(  8.30,  21.40] |     7\n",
       "( 21.40,  41.57] |     2\n",
       "( 41.57, 117.00] |     1"
      ]
     },
     "execution_count": 71,
     "metadata": {},
     "output_type": "execute_result"
    }
   ],
   "source": [
    "FJreserves              #se obtienen los intervalos para reserves mediante ese método"
   ]
  },
  {
   "cell_type": "code",
   "execution_count": 72,
   "metadata": {
    "id": "xdKiBz9TLJig"
   },
   "outputs": [],
   "source": [
    "#se procede a guardar el dataframe con las 4 variables:\n",
    "final1.to_csv(\"final1_4variables.csv\",index=False)\n",
    "final1_copy.to_csv(\"final1_copy_8variables.csv\",index=False)"
   ]
  }
 ],
 "metadata": {
  "colab": {
   "collapsed_sections": [
    "n5sHTTwCKfWX",
    "O3NEmpnzKkBB"
   ],
   "provenance": []
  },
  "kernelspec": {
   "display_name": "Python 3 (ipykernel)",
   "language": "python",
   "name": "python3"
  },
  "language_info": {
   "codemirror_mode": {
    "name": "ipython",
    "version": 3
   },
   "file_extension": ".py",
   "mimetype": "text/x-python",
   "name": "python",
   "nbconvert_exporter": "python",
   "pygments_lexer": "ipython3",
   "version": "3.11.11"
  }
 },
 "nbformat": 4,
 "nbformat_minor": 4
}
