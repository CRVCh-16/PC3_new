{
  "nbformat": 4,
  "nbformat_minor": 0,
  "metadata": {
    "colab": {
      "provenance": [],
      "collapsed_sections": [
        "n5sHTTwCKfWX",
        "O3NEmpnzKkBB"
      ]
    },
    "kernelspec": {
      "name": "python3",
      "display_name": "Python 3"
    },
    "language_info": {
      "name": "python"
    }
  },
  "cells": [
    {
      "cell_type": "markdown",
      "source": [
        "#Práctica Calificada 3"
      ],
      "metadata": {
        "id": "DSy1VWq9KYxa"
      }
    },
    {
      "cell_type": "markdown",
      "source": [
        "##Lectura de datos"
      ],
      "metadata": {
        "id": "n5sHTTwCKfWX"
      }
    },
    {
      "cell_type": "markdown",
      "source": [
        "### Task 1"
      ],
      "metadata": {
        "id": "tOFR2mpVkuqf"
      }
    },
    {
      "cell_type": "code",
      "source": [
        "educationExpenditureLink=\"https://github.com/CRVCh-16/PC3/raw/refs/heads/main/Education%20expenditures.csv\"\n",
        "electricityLink=\"https://github.com/CRVCh-16/PC3/raw/refs/heads/main/Electricity%20-%20installed%20generating%20capacity.csv\"\n",
        "energyConsumptionLink=\"https://github.com/CRVCh-16/PC3/raw/refs/heads/main/Energy%20consumption%20per%20capita.csv\"\n",
        "reservesForeignExchangeLink=\"https://github.com/CRVCh-16/PC3/raw/refs/heads/main/Reserves%20of%20foreign%20exchange%20and%20gold.csv\"\n",
        "\n",
        "\n",
        "import pandas as pd\n",
        "\n",
        "education=pd.read_csv(educationExpenditureLink)\n",
        "electricity=pd.read_csv(electricityLink)\n",
        "energyConsumption=pd.read_csv(energyConsumptionLink)\n",
        "reservesForeignExchange=pd.read_csv(reservesForeignExchangeLink)"
      ],
      "metadata": {
        "id": "zU2hXAU-yRvt"
      },
      "execution_count": 126,
      "outputs": []
    },
    {
      "cell_type": "markdown",
      "source": [
        "##Limpieza y formateo"
      ],
      "metadata": {
        "id": "O3NEmpnzKkBB"
      }
    },
    {
      "cell_type": "markdown",
      "source": [
        "### Task 2"
      ],
      "metadata": {
        "id": "LAjjXb3GkscM"
      }
    },
    {
      "cell_type": "code",
      "source": [
        "# se eliminan las columnas innecesarias:\n",
        "electricity=electricity.drop(columns=[\"slug\",\"ranking\"])\n",
        "education=education.drop(columns=[\"slug\",\"ranking\"])\n",
        "energyConsumption=energyConsumption.drop(columns=[\"slug\",\"ranking\"])\n",
        "reservesForeignExchange=reservesForeignExchange.drop(columns=[\"slug\",\"ranking\"])"
      ],
      "metadata": {
        "id": "sv8AfkVO2ra8"
      },
      "execution_count": 127,
      "outputs": []
    },
    {
      "cell_type": "code",
      "source": [
        "# se cambian los nombres de las columnas\n",
        "newNamesElectricity=[\"Country\",\"Electricity_generated_kW\",\"Year_electricity\",\"Region\"]\n",
        "newNamesEducation=[\"Country\",\"Education_expenditure_percent_GDP\",\"Year_education\",\"Region\"]\n",
        "newNamesEnergyConsumption=[\"Country\",\"Energy_consumption_per_capita_BtuPerPerson\",\"Year_energy\",\"Region\"]\n",
        "newNamesReservesForeignExchange=[\"Country\",\"Reserves_of_foreign_exchange_dollars\",\"Year_reserves\",\"Region\"]\n",
        "\n",
        "electricity.columns=newNamesElectricity\n",
        "education.columns=newNamesEducation\n",
        "energyConsumption.columns=newNamesEnergyConsumption\n",
        "reservesForeignExchange.columns=newNamesReservesForeignExchange"
      ],
      "metadata": {
        "id": "CXWdFshO4_cz"
      },
      "execution_count": 128,
      "outputs": []
    },
    {
      "cell_type": "code",
      "source": [
        "# se elimina cualquier leading o trailing space si lo hay en los nombres de los paises\n",
        "electricity.iloc[:,0]=electricity[\"Country\"].str.strip().to_list()\n",
        "education.iloc[:,0]=education[\"Country\"].str.strip().to_list()\n",
        "energyConsumption.iloc[:,0]=energyConsumption[\"Country\"].str.strip().to_list()\n",
        "reservesForeignExchange.iloc[:,0]=reservesForeignExchange[\"Country\"].str.strip().to_list()"
      ],
      "metadata": {
        "id": "TiO__FUs55KK"
      },
      "execution_count": 129,
      "outputs": []
    },
    {
      "cell_type": "code",
      "source": [
        "# hay simbolos raros?\n",
        "electricity[electricity.Country.str.contains(r'[^\\w\\s]')]\n",
        "#No son simbolos raros, por lo que se puede dejar como tal"
      ],
      "metadata": {
        "colab": {
          "base_uri": "https://localhost:8080/",
          "height": 0
        },
        "collapsed": true,
        "id": "Yuqc4qpY6_PK",
        "outputId": "305e5150-aaf9-4340-c412-3dfc1691ed84"
      },
      "execution_count": 130,
      "outputs": [
        {
          "output_type": "execute_result",
          "data": {
            "text/plain": [
              "                                           Country Electricity_generated_kW  \\\n",
              "9                                     Korea, South              151,139,000   \n",
              "15                                Turkey (Turkiye)              106,281,000   \n",
              "70                                    Korea, North                8,357,000   \n",
              "106              Congo, Democratic Republic of the                3,229,000   \n",
              "116                                  Cote d'Ivoire                2,315,000   \n",
              "136                         Congo, Republic of the                  842,000   \n",
              "147                                   Bahamas, The                  608,000   \n",
              "166                                    Timor-Leste                  277,000   \n",
              "178                                    Gambia, The                  162,000   \n",
              "202                                  Guinea-Bissau                   29,000   \n",
              "207              Falkland Islands (Islas Malvinas)                   10,000   \n",
              "209  Saint Helena, Ascension, and Tristan da Cunha                    5,000   \n",
              "\n",
              "     Year_electricity                             Region  \n",
              "9                2023            East and Southeast Asia  \n",
              "15               2023                        Middle East  \n",
              "70               2023            East and Southeast Asia  \n",
              "106              2023                             Africa  \n",
              "116              2023                             Africa  \n",
              "136              2023                             Africa  \n",
              "147              2023  Central America and the Caribbean  \n",
              "166              2023            East and Southeast Asia  \n",
              "178              2023                             Africa  \n",
              "202              2023                             Africa  \n",
              "207              2023                      South America  \n",
              "209              2023                             Africa  "
            ],
            "text/html": [
              "\n",
              "  <div id=\"df-aff91b79-4b7e-48f1-894f-38985c59c566\" class=\"colab-df-container\">\n",
              "    <div>\n",
              "<style scoped>\n",
              "    .dataframe tbody tr th:only-of-type {\n",
              "        vertical-align: middle;\n",
              "    }\n",
              "\n",
              "    .dataframe tbody tr th {\n",
              "        vertical-align: top;\n",
              "    }\n",
              "\n",
              "    .dataframe thead th {\n",
              "        text-align: right;\n",
              "    }\n",
              "</style>\n",
              "<table border=\"1\" class=\"dataframe\">\n",
              "  <thead>\n",
              "    <tr style=\"text-align: right;\">\n",
              "      <th></th>\n",
              "      <th>Country</th>\n",
              "      <th>Electricity_generated_kW</th>\n",
              "      <th>Year_electricity</th>\n",
              "      <th>Region</th>\n",
              "    </tr>\n",
              "  </thead>\n",
              "  <tbody>\n",
              "    <tr>\n",
              "      <th>9</th>\n",
              "      <td>Korea, South</td>\n",
              "      <td>151,139,000</td>\n",
              "      <td>2023</td>\n",
              "      <td>East and Southeast Asia</td>\n",
              "    </tr>\n",
              "    <tr>\n",
              "      <th>15</th>\n",
              "      <td>Turkey (Turkiye)</td>\n",
              "      <td>106,281,000</td>\n",
              "      <td>2023</td>\n",
              "      <td>Middle East</td>\n",
              "    </tr>\n",
              "    <tr>\n",
              "      <th>70</th>\n",
              "      <td>Korea, North</td>\n",
              "      <td>8,357,000</td>\n",
              "      <td>2023</td>\n",
              "      <td>East and Southeast Asia</td>\n",
              "    </tr>\n",
              "    <tr>\n",
              "      <th>106</th>\n",
              "      <td>Congo, Democratic Republic of the</td>\n",
              "      <td>3,229,000</td>\n",
              "      <td>2023</td>\n",
              "      <td>Africa</td>\n",
              "    </tr>\n",
              "    <tr>\n",
              "      <th>116</th>\n",
              "      <td>Cote d'Ivoire</td>\n",
              "      <td>2,315,000</td>\n",
              "      <td>2023</td>\n",
              "      <td>Africa</td>\n",
              "    </tr>\n",
              "    <tr>\n",
              "      <th>136</th>\n",
              "      <td>Congo, Republic of the</td>\n",
              "      <td>842,000</td>\n",
              "      <td>2023</td>\n",
              "      <td>Africa</td>\n",
              "    </tr>\n",
              "    <tr>\n",
              "      <th>147</th>\n",
              "      <td>Bahamas, The</td>\n",
              "      <td>608,000</td>\n",
              "      <td>2023</td>\n",
              "      <td>Central America and the Caribbean</td>\n",
              "    </tr>\n",
              "    <tr>\n",
              "      <th>166</th>\n",
              "      <td>Timor-Leste</td>\n",
              "      <td>277,000</td>\n",
              "      <td>2023</td>\n",
              "      <td>East and Southeast Asia</td>\n",
              "    </tr>\n",
              "    <tr>\n",
              "      <th>178</th>\n",
              "      <td>Gambia, The</td>\n",
              "      <td>162,000</td>\n",
              "      <td>2023</td>\n",
              "      <td>Africa</td>\n",
              "    </tr>\n",
              "    <tr>\n",
              "      <th>202</th>\n",
              "      <td>Guinea-Bissau</td>\n",
              "      <td>29,000</td>\n",
              "      <td>2023</td>\n",
              "      <td>Africa</td>\n",
              "    </tr>\n",
              "    <tr>\n",
              "      <th>207</th>\n",
              "      <td>Falkland Islands (Islas Malvinas)</td>\n",
              "      <td>10,000</td>\n",
              "      <td>2023</td>\n",
              "      <td>South America</td>\n",
              "    </tr>\n",
              "    <tr>\n",
              "      <th>209</th>\n",
              "      <td>Saint Helena, Ascension, and Tristan da Cunha</td>\n",
              "      <td>5,000</td>\n",
              "      <td>2023</td>\n",
              "      <td>Africa</td>\n",
              "    </tr>\n",
              "  </tbody>\n",
              "</table>\n",
              "</div>\n",
              "    <div class=\"colab-df-buttons\">\n",
              "\n",
              "  <div class=\"colab-df-container\">\n",
              "    <button class=\"colab-df-convert\" onclick=\"convertToInteractive('df-aff91b79-4b7e-48f1-894f-38985c59c566')\"\n",
              "            title=\"Convert this dataframe to an interactive table.\"\n",
              "            style=\"display:none;\">\n",
              "\n",
              "  <svg xmlns=\"http://www.w3.org/2000/svg\" height=\"24px\" viewBox=\"0 -960 960 960\">\n",
              "    <path d=\"M120-120v-720h720v720H120Zm60-500h600v-160H180v160Zm220 220h160v-160H400v160Zm0 220h160v-160H400v160ZM180-400h160v-160H180v160Zm440 0h160v-160H620v160ZM180-180h160v-160H180v160Zm440 0h160v-160H620v160Z\"/>\n",
              "  </svg>\n",
              "    </button>\n",
              "\n",
              "  <style>\n",
              "    .colab-df-container {\n",
              "      display:flex;\n",
              "      gap: 12px;\n",
              "    }\n",
              "\n",
              "    .colab-df-convert {\n",
              "      background-color: #E8F0FE;\n",
              "      border: none;\n",
              "      border-radius: 50%;\n",
              "      cursor: pointer;\n",
              "      display: none;\n",
              "      fill: #1967D2;\n",
              "      height: 32px;\n",
              "      padding: 0 0 0 0;\n",
              "      width: 32px;\n",
              "    }\n",
              "\n",
              "    .colab-df-convert:hover {\n",
              "      background-color: #E2EBFA;\n",
              "      box-shadow: 0px 1px 2px rgba(60, 64, 67, 0.3), 0px 1px 3px 1px rgba(60, 64, 67, 0.15);\n",
              "      fill: #174EA6;\n",
              "    }\n",
              "\n",
              "    .colab-df-buttons div {\n",
              "      margin-bottom: 4px;\n",
              "    }\n",
              "\n",
              "    [theme=dark] .colab-df-convert {\n",
              "      background-color: #3B4455;\n",
              "      fill: #D2E3FC;\n",
              "    }\n",
              "\n",
              "    [theme=dark] .colab-df-convert:hover {\n",
              "      background-color: #434B5C;\n",
              "      box-shadow: 0px 1px 3px 1px rgba(0, 0, 0, 0.15);\n",
              "      filter: drop-shadow(0px 1px 2px rgba(0, 0, 0, 0.3));\n",
              "      fill: #FFFFFF;\n",
              "    }\n",
              "  </style>\n",
              "\n",
              "    <script>\n",
              "      const buttonEl =\n",
              "        document.querySelector('#df-aff91b79-4b7e-48f1-894f-38985c59c566 button.colab-df-convert');\n",
              "      buttonEl.style.display =\n",
              "        google.colab.kernel.accessAllowed ? 'block' : 'none';\n",
              "\n",
              "      async function convertToInteractive(key) {\n",
              "        const element = document.querySelector('#df-aff91b79-4b7e-48f1-894f-38985c59c566');\n",
              "        const dataTable =\n",
              "          await google.colab.kernel.invokeFunction('convertToInteractive',\n",
              "                                                    [key], {});\n",
              "        if (!dataTable) return;\n",
              "\n",
              "        const docLinkHtml = 'Like what you see? Visit the ' +\n",
              "          '<a target=\"_blank\" href=https://colab.research.google.com/notebooks/data_table.ipynb>data table notebook</a>'\n",
              "          + ' to learn more about interactive tables.';\n",
              "        element.innerHTML = '';\n",
              "        dataTable['output_type'] = 'display_data';\n",
              "        await google.colab.output.renderOutput(dataTable, element);\n",
              "        const docLink = document.createElement('div');\n",
              "        docLink.innerHTML = docLinkHtml;\n",
              "        element.appendChild(docLink);\n",
              "      }\n",
              "    </script>\n",
              "  </div>\n",
              "\n",
              "\n",
              "    <div id=\"df-1b704fd6-42d4-4af1-b01a-a27ca8c07a00\">\n",
              "      <button class=\"colab-df-quickchart\" onclick=\"quickchart('df-1b704fd6-42d4-4af1-b01a-a27ca8c07a00')\"\n",
              "                title=\"Suggest charts\"\n",
              "                style=\"display:none;\">\n",
              "\n",
              "<svg xmlns=\"http://www.w3.org/2000/svg\" height=\"24px\"viewBox=\"0 0 24 24\"\n",
              "     width=\"24px\">\n",
              "    <g>\n",
              "        <path d=\"M19 3H5c-1.1 0-2 .9-2 2v14c0 1.1.9 2 2 2h14c1.1 0 2-.9 2-2V5c0-1.1-.9-2-2-2zM9 17H7v-7h2v7zm4 0h-2V7h2v10zm4 0h-2v-4h2v4z\"/>\n",
              "    </g>\n",
              "</svg>\n",
              "      </button>\n",
              "\n",
              "<style>\n",
              "  .colab-df-quickchart {\n",
              "      --bg-color: #E8F0FE;\n",
              "      --fill-color: #1967D2;\n",
              "      --hover-bg-color: #E2EBFA;\n",
              "      --hover-fill-color: #174EA6;\n",
              "      --disabled-fill-color: #AAA;\n",
              "      --disabled-bg-color: #DDD;\n",
              "  }\n",
              "\n",
              "  [theme=dark] .colab-df-quickchart {\n",
              "      --bg-color: #3B4455;\n",
              "      --fill-color: #D2E3FC;\n",
              "      --hover-bg-color: #434B5C;\n",
              "      --hover-fill-color: #FFFFFF;\n",
              "      --disabled-bg-color: #3B4455;\n",
              "      --disabled-fill-color: #666;\n",
              "  }\n",
              "\n",
              "  .colab-df-quickchart {\n",
              "    background-color: var(--bg-color);\n",
              "    border: none;\n",
              "    border-radius: 50%;\n",
              "    cursor: pointer;\n",
              "    display: none;\n",
              "    fill: var(--fill-color);\n",
              "    height: 32px;\n",
              "    padding: 0;\n",
              "    width: 32px;\n",
              "  }\n",
              "\n",
              "  .colab-df-quickchart:hover {\n",
              "    background-color: var(--hover-bg-color);\n",
              "    box-shadow: 0 1px 2px rgba(60, 64, 67, 0.3), 0 1px 3px 1px rgba(60, 64, 67, 0.15);\n",
              "    fill: var(--button-hover-fill-color);\n",
              "  }\n",
              "\n",
              "  .colab-df-quickchart-complete:disabled,\n",
              "  .colab-df-quickchart-complete:disabled:hover {\n",
              "    background-color: var(--disabled-bg-color);\n",
              "    fill: var(--disabled-fill-color);\n",
              "    box-shadow: none;\n",
              "  }\n",
              "\n",
              "  .colab-df-spinner {\n",
              "    border: 2px solid var(--fill-color);\n",
              "    border-color: transparent;\n",
              "    border-bottom-color: var(--fill-color);\n",
              "    animation:\n",
              "      spin 1s steps(1) infinite;\n",
              "  }\n",
              "\n",
              "  @keyframes spin {\n",
              "    0% {\n",
              "      border-color: transparent;\n",
              "      border-bottom-color: var(--fill-color);\n",
              "      border-left-color: var(--fill-color);\n",
              "    }\n",
              "    20% {\n",
              "      border-color: transparent;\n",
              "      border-left-color: var(--fill-color);\n",
              "      border-top-color: var(--fill-color);\n",
              "    }\n",
              "    30% {\n",
              "      border-color: transparent;\n",
              "      border-left-color: var(--fill-color);\n",
              "      border-top-color: var(--fill-color);\n",
              "      border-right-color: var(--fill-color);\n",
              "    }\n",
              "    40% {\n",
              "      border-color: transparent;\n",
              "      border-right-color: var(--fill-color);\n",
              "      border-top-color: var(--fill-color);\n",
              "    }\n",
              "    60% {\n",
              "      border-color: transparent;\n",
              "      border-right-color: var(--fill-color);\n",
              "    }\n",
              "    80% {\n",
              "      border-color: transparent;\n",
              "      border-right-color: var(--fill-color);\n",
              "      border-bottom-color: var(--fill-color);\n",
              "    }\n",
              "    90% {\n",
              "      border-color: transparent;\n",
              "      border-bottom-color: var(--fill-color);\n",
              "    }\n",
              "  }\n",
              "</style>\n",
              "\n",
              "      <script>\n",
              "        async function quickchart(key) {\n",
              "          const quickchartButtonEl =\n",
              "            document.querySelector('#' + key + ' button');\n",
              "          quickchartButtonEl.disabled = true;  // To prevent multiple clicks.\n",
              "          quickchartButtonEl.classList.add('colab-df-spinner');\n",
              "          try {\n",
              "            const charts = await google.colab.kernel.invokeFunction(\n",
              "                'suggestCharts', [key], {});\n",
              "          } catch (error) {\n",
              "            console.error('Error during call to suggestCharts:', error);\n",
              "          }\n",
              "          quickchartButtonEl.classList.remove('colab-df-spinner');\n",
              "          quickchartButtonEl.classList.add('colab-df-quickchart-complete');\n",
              "        }\n",
              "        (() => {\n",
              "          let quickchartButtonEl =\n",
              "            document.querySelector('#df-1b704fd6-42d4-4af1-b01a-a27ca8c07a00 button');\n",
              "          quickchartButtonEl.style.display =\n",
              "            google.colab.kernel.accessAllowed ? 'block' : 'none';\n",
              "        })();\n",
              "      </script>\n",
              "    </div>\n",
              "\n",
              "    </div>\n",
              "  </div>\n"
            ],
            "application/vnd.google.colaboratory.intrinsic+json": {
              "type": "dataframe",
              "summary": "{\n  \"name\": \"#No son simbolos raros, por lo que se puede dejar como tal\",\n  \"rows\": 12,\n  \"fields\": [\n    {\n      \"column\": \"Country\",\n      \"properties\": {\n        \"dtype\": \"string\",\n        \"num_unique_values\": 12,\n        \"samples\": [\n          \"Falkland Islands (Islas Malvinas)\",\n          \"Guinea-Bissau\",\n          \"Korea, South\"\n        ],\n        \"semantic_type\": \"\",\n        \"description\": \"\"\n      }\n    },\n    {\n      \"column\": \"Electricity_generated_kW\",\n      \"properties\": {\n        \"dtype\": \"string\",\n        \"num_unique_values\": 12,\n        \"samples\": [\n          \"10,000\",\n          \"29,000\",\n          \"151,139,000\"\n        ],\n        \"semantic_type\": \"\",\n        \"description\": \"\"\n      }\n    },\n    {\n      \"column\": \"Year_electricity\",\n      \"properties\": {\n        \"dtype\": \"number\",\n        \"std\": 0,\n        \"min\": 2023,\n        \"max\": 2023,\n        \"num_unique_values\": 1,\n        \"samples\": [\n          2023\n        ],\n        \"semantic_type\": \"\",\n        \"description\": \"\"\n      }\n    },\n    {\n      \"column\": \"Region\",\n      \"properties\": {\n        \"dtype\": \"category\",\n        \"num_unique_values\": 5,\n        \"samples\": [\n          \"Middle East\"\n        ],\n        \"semantic_type\": \"\",\n        \"description\": \"\"\n      }\n    }\n  ]\n}"
            }
          },
          "metadata": {},
          "execution_count": 130
        }
      ]
    },
    {
      "cell_type": "code",
      "source": [
        "#guardaremos solo los simbolos ASCII\n",
        "!pip install unidecode"
      ],
      "metadata": {
        "colab": {
          "base_uri": "https://localhost:8080/"
        },
        "id": "XH2y8mI_8bZg",
        "outputId": "793b748a-8f0d-4f0f-d8f3-06c7a48a3e65"
      },
      "execution_count": 131,
      "outputs": [
        {
          "output_type": "stream",
          "name": "stdout",
          "text": [
            "Requirement already satisfied: unidecode in /usr/local/lib/python3.11/dist-packages (1.4.0)\n"
          ]
        }
      ]
    },
    {
      "cell_type": "code",
      "source": [
        "from unidecode import unidecode\n",
        "electricity['Country']=electricity.Country.apply(unidecode)\n",
        "education['Country']=education.Country.apply(unidecode)\n",
        "energyConsumption['Country']=energyConsumption.Country.apply(unidecode)\n",
        "reservesForeignExchange['Country']=reservesForeignExchange.Country.apply(unidecode)"
      ],
      "metadata": {
        "id": "3nea9Zs782S_"
      },
      "execution_count": 132,
      "outputs": []
    },
    {
      "cell_type": "code",
      "source": [
        "# convertiremos los nombres de paises en mayusculas para mejor entendimiento\n",
        "electricity['Country']=electricity.Country.str.upper()\n",
        "education['Country']=education.Country.str.upper()\n",
        "energyConsumption['Country']=energyConsumption.Country.str.upper()\n",
        "reservesForeignExchange['Country']=reservesForeignExchange.Country.str.upper()\n",
        "\n",
        "#Con esto, ya se tiene limpieado y formateado los nombres de los países"
      ],
      "metadata": {
        "id": "X3ch7MPn9E7f"
      },
      "execution_count": 133,
      "outputs": []
    },
    {
      "cell_type": "code",
      "source": [
        "# se crea funcion para eliminar cualquier valor diferente a numero o un punto en un string\n",
        "import re\n",
        "charToNum=lambda xString:re.sub(\"[^0-9.]\",\"\",xString)"
      ],
      "metadata": {
        "id": "FU3lY7NoDRCy"
      },
      "execution_count": 134,
      "outputs": []
    },
    {
      "cell_type": "code",
      "source": [
        "# se procede con la limpieza y formateo de los valores numéricos\n",
        "#para electricity\n",
        "electricity.iloc[:,1]=electricity.iloc[:,1].map(charToNum)\n",
        "electricity['Electricity_generated_kW']=pd.to_numeric(electricity.Electricity_generated_kW)"
      ],
      "metadata": {
        "id": "vfq3ZaAMBUN0"
      },
      "execution_count": 135,
      "outputs": []
    },
    {
      "cell_type": "code",
      "source": [
        "electricity.info()      # todo bien para electricity"
      ],
      "metadata": {
        "colab": {
          "base_uri": "https://localhost:8080/"
        },
        "id": "EGgL1b9lIOfe",
        "outputId": "900a2782-4f0f-4450-e846-4e7bc841e51a"
      },
      "execution_count": 136,
      "outputs": [
        {
          "output_type": "stream",
          "name": "stdout",
          "text": [
            "<class 'pandas.core.frame.DataFrame'>\n",
            "RangeIndex: 211 entries, 0 to 210\n",
            "Data columns (total 4 columns):\n",
            " #   Column                    Non-Null Count  Dtype \n",
            "---  ------                    --------------  ----- \n",
            " 0   Country                   211 non-null    object\n",
            " 1   Electricity_generated_kW  211 non-null    int64 \n",
            " 2   Year_electricity          211 non-null    int64 \n",
            " 3   Region                    211 non-null    object\n",
            "dtypes: int64(2), object(2)\n",
            "memory usage: 6.7+ KB\n"
          ]
        }
      ]
    },
    {
      "cell_type": "code",
      "source": [
        "education.info()            # todo bien para education"
      ],
      "metadata": {
        "colab": {
          "base_uri": "https://localhost:8080/"
        },
        "id": "DziwvAeEIUhd",
        "outputId": "4d5083b4-f47e-4cb0-fae7-a0e3565501d6"
      },
      "execution_count": 137,
      "outputs": [
        {
          "output_type": "stream",
          "name": "stdout",
          "text": [
            "<class 'pandas.core.frame.DataFrame'>\n",
            "RangeIndex: 197 entries, 0 to 196\n",
            "Data columns (total 4 columns):\n",
            " #   Column                             Non-Null Count  Dtype  \n",
            "---  ------                             --------------  -----  \n",
            " 0   Country                            197 non-null    object \n",
            " 1   Education_expenditure_percent_GDP  197 non-null    float64\n",
            " 2   Year_education                     197 non-null    int64  \n",
            " 3   Region                             197 non-null    object \n",
            "dtypes: float64(1), int64(1), object(2)\n",
            "memory usage: 6.3+ KB\n"
          ]
        }
      ]
    },
    {
      "cell_type": "code",
      "source": [
        "#para energyConsumption\n",
        "energyConsumption.iloc[:,1]=energyConsumption.iloc[:,1].map(charToNum)\n",
        "energyConsumption['Energy_consumption_per_capita_BtuPerPerson']=pd.to_numeric(energyConsumption.Energy_consumption_per_capita_BtuPerPerson)"
      ],
      "metadata": {
        "id": "aHGnlcp2IJw-"
      },
      "execution_count": 138,
      "outputs": []
    },
    {
      "cell_type": "code",
      "source": [
        "energyConsumption.info()              # todo bien para energy consumption"
      ],
      "metadata": {
        "colab": {
          "base_uri": "https://localhost:8080/"
        },
        "id": "15a4TNApIk3V",
        "outputId": "3afafd02-dd9c-45dc-8c6c-f3972db4e9d1"
      },
      "execution_count": 139,
      "outputs": [
        {
          "output_type": "stream",
          "name": "stdout",
          "text": [
            "<class 'pandas.core.frame.DataFrame'>\n",
            "RangeIndex: 195 entries, 0 to 194\n",
            "Data columns (total 4 columns):\n",
            " #   Column                                      Non-Null Count  Dtype \n",
            "---  ------                                      --------------  ----- \n",
            " 0   Country                                     195 non-null    object\n",
            " 1   Energy_consumption_per_capita_BtuPerPerson  195 non-null    int64 \n",
            " 2   Year_energy                                 195 non-null    int64 \n",
            " 3   Region                                      195 non-null    object\n",
            "dtypes: int64(2), object(2)\n",
            "memory usage: 6.2+ KB\n"
          ]
        }
      ]
    },
    {
      "cell_type": "code",
      "source": [
        "#para reservesForeignExchange\n",
        "reservesForeignExchange.iloc[:,1]=reservesForeignExchange.iloc[:,1].map(charToNum)\n",
        "reservesForeignExchange['Reserves_of_foreign_exchange_dollars']=pd.to_numeric(reservesForeignExchange.Reserves_of_foreign_exchange_dollars)"
      ],
      "metadata": {
        "id": "Hbji9_vdJHdm"
      },
      "execution_count": 140,
      "outputs": []
    },
    {
      "cell_type": "code",
      "source": [
        "reservesForeignExchange.info()        # todo bien para reservesForeignExchange"
      ],
      "metadata": {
        "colab": {
          "base_uri": "https://localhost:8080/"
        },
        "id": "OuAKm481J6fE",
        "outputId": "bfa343c4-acb9-4e37-9279-0b912dd20fef"
      },
      "execution_count": 141,
      "outputs": [
        {
          "output_type": "stream",
          "name": "stdout",
          "text": [
            "<class 'pandas.core.frame.DataFrame'>\n",
            "RangeIndex: 195 entries, 0 to 194\n",
            "Data columns (total 4 columns):\n",
            " #   Column                                Non-Null Count  Dtype \n",
            "---  ------                                --------------  ----- \n",
            " 0   Country                               195 non-null    object\n",
            " 1   Reserves_of_foreign_exchange_dollars  195 non-null    int64 \n",
            " 2   Year_reserves                         195 non-null    int64 \n",
            " 3   Region                                195 non-null    object\n",
            "dtypes: int64(2), object(2)\n",
            "memory usage: 6.2+ KB\n"
          ]
        }
      ]
    },
    {
      "cell_type": "code",
      "source": [
        "# Finalmente, se debe convertir la columna Region en categorical\n",
        "electricity['Region'] = pd.Categorical(electricity.Region, ordered=False, categories=['East and Southeast Asia', 'North America', 'South Asia',\n",
        "                                                                                      'Central Asia', 'Europe', 'South America', 'Middle East',\n",
        "                                                                                      'Australia and Oceania', 'Africa','Central America and the Caribbean'])\n",
        "education['Region'] = pd.Categorical(education.Region, ordered=False, categories=['East and Southeast Asia', 'North America', 'South Asia',\n",
        "                                                                                      'Central Asia', 'Europe', 'South America', 'Middle East',\n",
        "                                                                                      'Australia and Oceania', 'Africa','Central America and the Caribbean'])\n",
        "energyConsumption['Region'] = pd.Categorical(energyConsumption.Region, ordered=False, categories=['East and Southeast Asia', 'North America', 'South Asia',\n",
        "                                                                                      'Central Asia', 'Europe', 'South America', 'Middle East',\n",
        "                                                                                      'Australia and Oceania', 'Africa','Central America and the Caribbean'])\n",
        "reservesForeignExchange['Region'] = pd.Categorical(reservesForeignExchange.Region, ordered=False, categories=['East and Southeast Asia', 'North America', 'South Asia',\n",
        "                                                                                      'Central Asia', 'Europe', 'South America', 'Middle East',\n",
        "                                                                                      'Australia and Oceania', 'Africa','Central America and the Caribbean'])"
      ],
      "metadata": {
        "id": "J_aTHeipPqvp"
      },
      "execution_count": 142,
      "outputs": []
    },
    {
      "cell_type": "code",
      "source": [
        "#Se verifica el cambio en un DF\n",
        "electricity.info()        #todo correcto"
      ],
      "metadata": {
        "colab": {
          "base_uri": "https://localhost:8080/"
        },
        "id": "7H1k2KwAQ6OC",
        "outputId": "7e5e9682-aa1b-40d2-aa47-8f4d37d6537b"
      },
      "execution_count": 143,
      "outputs": [
        {
          "output_type": "stream",
          "name": "stdout",
          "text": [
            "<class 'pandas.core.frame.DataFrame'>\n",
            "RangeIndex: 211 entries, 0 to 210\n",
            "Data columns (total 4 columns):\n",
            " #   Column                    Non-Null Count  Dtype   \n",
            "---  ------                    --------------  -----   \n",
            " 0   Country                   211 non-null    object  \n",
            " 1   Electricity_generated_kW  211 non-null    int64   \n",
            " 2   Year_electricity          211 non-null    int64   \n",
            " 3   Region                    211 non-null    category\n",
            "dtypes: category(1), int64(2), object(1)\n",
            "memory usage: 5.7+ KB\n"
          ]
        }
      ]
    },
    {
      "cell_type": "markdown",
      "source": [
        "##Integración: concatenar y merge"
      ],
      "metadata": {
        "id": "c7hpbHT1K5Dw"
      }
    },
    {
      "cell_type": "markdown",
      "source": [
        "Combine those dataframes into one. Decision: what to do to keep as many cases as possible."
      ],
      "metadata": {
        "id": "ft4Z58ZOLbsW"
      }
    },
    {
      "cell_type": "markdown",
      "source": [
        "### Task 3"
      ],
      "metadata": {
        "id": "Q8nw5xedkki3"
      }
    },
    {
      "cell_type": "markdown",
      "source": [
        "**FUZZY MERGE**"
      ],
      "metadata": {
        "id": "5uptAbWONWjC"
      }
    },
    {
      "cell_type": "code",
      "source": [
        "!pip install thefuzz"
      ],
      "metadata": {
        "colab": {
          "base_uri": "https://localhost:8080/"
        },
        "id": "fnuDfUQmNoDK",
        "outputId": "3c32e0f5-58e9-41a9-f9e4-f13404858179"
      },
      "execution_count": 71,
      "outputs": [
        {
          "output_type": "stream",
          "name": "stdout",
          "text": [
            "Requirement already satisfied: thefuzz in /usr/local/lib/python3.11/dist-packages (0.22.1)\n",
            "Requirement already satisfied: rapidfuzz<4.0.0,>=3.0.0 in /usr/local/lib/python3.11/dist-packages (from thefuzz) (3.13.0)\n"
          ]
        }
      ]
    },
    {
      "cell_type": "code",
      "source": [
        "from thefuzz import process as fz"
      ],
      "metadata": {
        "id": "PL2lPpdkkprX"
      },
      "execution_count": 72,
      "outputs": []
    },
    {
      "cell_type": "markdown",
      "source": [
        "Se buscan los países que se parecen en un y en el otro"
      ],
      "metadata": {
        "id": "A96xnQMJGyJU"
      }
    },
    {
      "cell_type": "code",
      "source": [
        "#MERGE ELECTRICITY EDUCATION VIA FUZZY MERGE\n",
        "onlyElectricity=set(electricity.Country)-set(education.Country)-set(energyConsumption.Country)-set(reservesForeignExchange.Country)\n",
        "onlyEducation=set(education.Country)-set(electricity.Country)-set(energyConsumption.Country)-set(reservesForeignExchange.Country)\n",
        "onlyEnergy=set(energyConsumption.Country)-set(electricity.Country)-set(education.Country)-set(reservesForeignExchange.Country)\n",
        "onlyReserves=set(reservesForeignExchange.Country)-set(electricity.Country)-set(education.Country)-set(energyConsumption.Country)"
      ],
      "metadata": {
        "id": "OdgXyoidNjEy"
      },
      "execution_count": 35,
      "outputs": []
    },
    {
      "cell_type": "code",
      "source": [
        "[(c,fz.extract(c,onlyEducation, limit=1)) for c in sorted(onlyElectricity)]"
      ],
      "metadata": {
        "colab": {
          "base_uri": "https://localhost:8080/"
        },
        "id": "e9yXRVi1F_SF",
        "outputId": "9812657e-f11c-43e0-f8dc-e6f4ac36bdd0"
      },
      "execution_count": 55,
      "outputs": [
        {
          "output_type": "execute_result",
          "data": {
            "text/plain": [
              "[('FALKLAND ISLANDS (ISLAS MALVINAS)', [('MARSHALL ISLANDS', 86)]),\n",
              " ('FRENCH POLYNESIA', [('MONACO', 45)]),\n",
              " ('GIBRALTAR', [('MARSHALL ISLANDS', 39)]),\n",
              " ('NEW CALEDONIA', [('MONACO', 54)]),\n",
              " ('NIUE', [('LIECHTENSTEIN', 51)]),\n",
              " ('SAINT HELENA, ASCENSION, AND TRISTAN DA CUNHA', [('ANDORRA', 57)]),\n",
              " ('SAINT PIERRE AND MIQUELON', [('ANDORRA', 51)]),\n",
              " ('VIRGIN ISLANDS', [('MARSHALL ISLANDS', 63)])]"
            ]
          },
          "metadata": {},
          "execution_count": 55
        }
      ]
    },
    {
      "cell_type": "code",
      "source": [
        "[(c,fz.extract(c,onlyEnergy, limit=1)) for c in sorted(onlyElectricity)]"
      ],
      "metadata": {
        "colab": {
          "base_uri": "https://localhost:8080/"
        },
        "id": "7RhnSXdSGFNr",
        "outputId": "e0573b3c-30a7-425e-ae2f-e9fc860e8ae1"
      },
      "execution_count": 56,
      "outputs": [
        {
          "output_type": "execute_result",
          "data": {
            "text/plain": [
              "[('FALKLAND ISLANDS (ISLAS MALVINAS)', []),\n",
              " ('FRENCH POLYNESIA', []),\n",
              " ('GIBRALTAR', []),\n",
              " ('NEW CALEDONIA', []),\n",
              " ('NIUE', []),\n",
              " ('SAINT HELENA, ASCENSION, AND TRISTAN DA CUNHA', []),\n",
              " ('SAINT PIERRE AND MIQUELON', []),\n",
              " ('VIRGIN ISLANDS', [])]"
            ]
          },
          "metadata": {},
          "execution_count": 56
        }
      ]
    },
    {
      "cell_type": "code",
      "source": [
        "[(c,fz.extract(c,onlyReserves, limit=1)) for c in sorted(onlyElectricity)]"
      ],
      "metadata": {
        "colab": {
          "base_uri": "https://localhost:8080/"
        },
        "id": "N5osuAQ4GG3z",
        "outputId": "458bfb7b-1555-4ac0-c623-5c3783d50091"
      },
      "execution_count": 57,
      "outputs": [
        {
          "output_type": "execute_result",
          "data": {
            "text/plain": [
              "[('FALKLAND ISLANDS (ISLAS MALVINAS)', []),\n",
              " ('FRENCH POLYNESIA', []),\n",
              " ('GIBRALTAR', []),\n",
              " ('NEW CALEDONIA', []),\n",
              " ('NIUE', []),\n",
              " ('SAINT HELENA, ASCENSION, AND TRISTAN DA CUNHA', []),\n",
              " ('SAINT PIERRE AND MIQUELON', []),\n",
              " ('VIRGIN ISLANDS', [])]"
            ]
          },
          "metadata": {},
          "execution_count": 57
        }
      ]
    },
    {
      "cell_type": "code",
      "source": [
        "[(c,fz.extract(c,onlyEnergy, limit=1)) for c in sorted(onlyEducation)]"
      ],
      "metadata": {
        "colab": {
          "base_uri": "https://localhost:8080/"
        },
        "id": "4lCj_gBLGIqk",
        "outputId": "dd96ff41-a353-48bc-a507-7521066bcdcc"
      },
      "execution_count": 58,
      "outputs": [
        {
          "output_type": "execute_result",
          "data": {
            "text/plain": [
              "[('ANDORRA', []),\n",
              " ('CURACAO', []),\n",
              " ('LIECHTENSTEIN', []),\n",
              " ('MARSHALL ISLANDS', []),\n",
              " ('MONACO', [])]"
            ]
          },
          "metadata": {},
          "execution_count": 58
        }
      ]
    },
    {
      "cell_type": "code",
      "source": [
        "[(c,fz.extract(c,onlyReserves, limit=1)) for c in sorted(onlyEducation)]"
      ],
      "metadata": {
        "colab": {
          "base_uri": "https://localhost:8080/"
        },
        "id": "73wVa1r9GJKL",
        "outputId": "ab97bfd6-17f7-46f1-a772-3f0dc1e7cfa7"
      },
      "execution_count": 59,
      "outputs": [
        {
          "output_type": "execute_result",
          "data": {
            "text/plain": [
              "[('ANDORRA', []),\n",
              " ('CURACAO', []),\n",
              " ('LIECHTENSTEIN', []),\n",
              " ('MARSHALL ISLANDS', []),\n",
              " ('MONACO', [])]"
            ]
          },
          "metadata": {},
          "execution_count": 59
        }
      ]
    },
    {
      "cell_type": "code",
      "source": [
        "[(c,fz.extract(c,onlyReserves, limit=1)) for c in sorted(onlyEnergy)]"
      ],
      "metadata": {
        "colab": {
          "base_uri": "https://localhost:8080/"
        },
        "id": "lyTfKNZiGJhk",
        "outputId": "a497d28f-bc56-4e22-996f-14ce94f4134c"
      },
      "execution_count": 60,
      "outputs": [
        {
          "output_type": "execute_result",
          "data": {
            "text/plain": [
              "[]"
            ]
          },
          "metadata": {},
          "execution_count": 60
        }
      ]
    },
    {
      "cell_type": "code",
      "source": [
        "[(c,fz.extract(c,onlyElectricity, limit=1)) for c in sorted(onlyEducation)]"
      ],
      "metadata": {
        "colab": {
          "base_uri": "https://localhost:8080/"
        },
        "id": "345oexu8G-RE",
        "outputId": "5d603979-750f-4c39-e372-9f5edf2ae4fa"
      },
      "execution_count": 67,
      "outputs": [
        {
          "output_type": "execute_result",
          "data": {
            "text/plain": [
              "[('ANDORRA', [('SAINT HELENA, ASCENSION, AND TRISTAN DA CUNHA', 57)]),\n",
              " ('CURACAO', [('SAINT HELENA, ASCENSION, AND TRISTAN DA CUNHA', 45)]),\n",
              " ('LIECHTENSTEIN', [('NIUE', 51)]),\n",
              " ('MARSHALL ISLANDS', [('FALKLAND ISLANDS (ISLAS MALVINAS)', 86)]),\n",
              " ('MONACO', [('NEW CALEDONIA', 54)])]"
            ]
          },
          "metadata": {},
          "execution_count": 67
        }
      ]
    },
    {
      "cell_type": "code",
      "source": [
        "[(c,fz.extract(c,onlyElectricity, limit=1)) for c in sorted(onlyEnergy)]"
      ],
      "metadata": {
        "colab": {
          "base_uri": "https://localhost:8080/"
        },
        "id": "DJtYFLdnHByF",
        "outputId": "6edee9cc-07d3-4eb0-d42a-b621494d058f"
      },
      "execution_count": 66,
      "outputs": [
        {
          "output_type": "execute_result",
          "data": {
            "text/plain": [
              "[]"
            ]
          },
          "metadata": {},
          "execution_count": 66
        }
      ]
    },
    {
      "cell_type": "code",
      "source": [
        "[(c,fz.extract(c,onlyElectricity, limit=1)) for c in sorted(onlyReserves)]"
      ],
      "metadata": {
        "colab": {
          "base_uri": "https://localhost:8080/"
        },
        "id": "Ss6oWqK0HGqT",
        "outputId": "a3034543-3855-4d72-920c-cf1b93683c0b"
      },
      "execution_count": 65,
      "outputs": [
        {
          "output_type": "execute_result",
          "data": {
            "text/plain": [
              "[]"
            ]
          },
          "metadata": {},
          "execution_count": 65
        }
      ]
    },
    {
      "cell_type": "code",
      "source": [
        "[(c,fz.extract(c,onlyEducation, limit=1)) for c in sorted(onlyEnergy)]"
      ],
      "metadata": {
        "colab": {
          "base_uri": "https://localhost:8080/"
        },
        "id": "-bj5FvWtHMUk",
        "outputId": "cebab799-620d-4f31-df93-2a289e170d64"
      },
      "execution_count": 68,
      "outputs": [
        {
          "output_type": "execute_result",
          "data": {
            "text/plain": [
              "[]"
            ]
          },
          "metadata": {},
          "execution_count": 68
        }
      ]
    },
    {
      "cell_type": "code",
      "source": [
        "[(c,fz.extract(c,onlyEducation, limit=1)) for c in sorted(onlyReserves)]"
      ],
      "metadata": {
        "colab": {
          "base_uri": "https://localhost:8080/"
        },
        "id": "hydPmuMKHRAc",
        "outputId": "926ba869-291f-45cc-953c-5c4953e6c28e"
      },
      "execution_count": 69,
      "outputs": [
        {
          "output_type": "execute_result",
          "data": {
            "text/plain": [
              "[]"
            ]
          },
          "metadata": {},
          "execution_count": 69
        }
      ]
    },
    {
      "cell_type": "code",
      "source": [
        "[(c,fz.extract(c,onlyEnergy, limit=1)) for c in sorted(onlyReserves)]"
      ],
      "metadata": {
        "colab": {
          "base_uri": "https://localhost:8080/"
        },
        "id": "aT1qKt2uHTgM",
        "outputId": "6fe824ec-e3da-4c1c-8aee-786ec384ef86"
      },
      "execution_count": 70,
      "outputs": [
        {
          "output_type": "execute_result",
          "data": {
            "text/plain": [
              "[]"
            ]
          },
          "metadata": {},
          "execution_count": 70
        }
      ]
    },
    {
      "cell_type": "markdown",
      "source": [
        "Ahora se buscan los países parecidos considerando todos los países parecidos de un dataframe"
      ],
      "metadata": {
        "id": "SKy89WWCHoxN"
      }
    },
    {
      "cell_type": "code",
      "source": [
        "[(c,fz.extractOne(c,education.Country)) for c in sorted(electricity.Country) if fz.extractOne(c,education.Country)[1]<100]"
      ],
      "metadata": {
        "colab": {
          "base_uri": "https://localhost:8080/"
        },
        "id": "UxvyEDQXHxGF",
        "outputId": "4b039c07-5372-468f-fc02-9c69d897361d"
      },
      "execution_count": 85,
      "outputs": [
        {
          "output_type": "execute_result",
          "data": {
            "text/plain": [
              "[('AMERICAN SAMOA', ('SAMOA', 90, 84)),\n",
              " ('BOSNIA AND HERZEGOVINA', ('INDIA', 68, 99)),\n",
              " ('CUBA', ('CURACAO', 68, 15)),\n",
              " ('EQUATORIAL GUINEA', ('GUINEA', 90, 180)),\n",
              " ('ERITREA', ('SIERRA LEONE', 62, 7)),\n",
              " ('FALKLAND ISLANDS (ISLAS MALVINAS)', ('MARSHALL ISLANDS', 86, 0)),\n",
              " ('FRENCH POLYNESIA', ('ESTONIA', 65, 28)),\n",
              " ('GIBRALTAR', ('MALTA', 72, 44)),\n",
              " ('GUAM', ('NICARAGUA', 77, 95)),\n",
              " ('KOREA, NORTH', ('KOREA, SOUTH', 83, 89)),\n",
              " ('KOSOVO', ('SOLOMON ISLANDS', 54, 1)),\n",
              " ('LIBYA', ('AUSTRALIA', 68, 37)),\n",
              " ('MONTENEGRO', ('MONACO', 60, 194)),\n",
              " ('NEW CALEDONIA', ('ESTONIA', 69, 28)),\n",
              " ('NIUE', ('MOZAMBIQUE', 68, 34)),\n",
              " ('NORTH MACEDONIA', ('ESTONIA', 69, 28)),\n",
              " ('SAINT HELENA, ASCENSION, AND TRISTAN DA CUNHA',\n",
              "  ('SAO TOME AND PRINCIPE', 86, 72)),\n",
              " ('SAINT PIERRE AND MIQUELON', ('SAINT LUCIA', 86, 137)),\n",
              " ('SUDAN', ('SOUTH SUDAN', 90, 190)),\n",
              " ('SYRIA', ('SERBIA', 73, 133)),\n",
              " ('TAIWAN', ('THAILAND', 71, 147)),\n",
              " ('VIRGIN ISLANDS', ('BRITISH VIRGIN ISLANDS', 90, 171)),\n",
              " ('YEMEN', ('SWEDEN', 55, 17))]"
            ]
          },
          "metadata": {},
          "execution_count": 85
        }
      ]
    },
    {
      "cell_type": "code",
      "source": [
        "[(c,fz.extractOne(c,electricity.Country)) for c in sorted(education.Country) if fz.extractOne(c,electricity.Country)[1]<100]"
      ],
      "metadata": {
        "colab": {
          "base_uri": "https://localhost:8080/"
        },
        "id": "OeVuBiBUJmYN",
        "outputId": "800e684e-d968-4813-db10-7ebf2e6e64c6"
      },
      "execution_count": 93,
      "outputs": [
        {
          "output_type": "execute_result",
          "data": {
            "text/plain": [
              "[('ANDORRA', ('EL SALVADOR', 65, 112)),\n",
              " ('ANGUILLA', ('ANGOLA', 71, 73)),\n",
              " ('CURACAO', ('CUBA', 68, 75)),\n",
              " ('LIECHTENSTEIN', ('BENIN', 68, 150)),\n",
              " ('MARSHALL ISLANDS', ('TURKS AND CAICOS ISLANDS', 86, 186)),\n",
              " ('MICRONESIA, FEDERATED STATES OF', ('UNITED STATES', 86, 1)),\n",
              " ('MONACO', ('MOROCCO', 62, 55)),\n",
              " ('PALAU', ('GUATEMALA', 68, 90)),\n",
              " ('SAN MARINO', ('SPAIN', 68, 10))]"
            ]
          },
          "metadata": {},
          "execution_count": 93
        }
      ]
    },
    {
      "cell_type": "code",
      "source": [
        "[(c,fz.extractOne(c,energyConsumption.Country)) for c in sorted(electricity.Country) if fz.extractOne(c,energyConsumption.Country)[1]<100]"
      ],
      "metadata": {
        "colab": {
          "base_uri": "https://localhost:8080/"
        },
        "id": "POmEtGz1LL0c",
        "outputId": "a81e229c-702f-4047-c5c1-f882339f43f0"
      },
      "execution_count": 95,
      "outputs": [
        {
          "output_type": "execute_result",
          "data": {
            "text/plain": [
              "[('COOK ISLANDS', ('BRITISH VIRGIN ISLANDS', 86, 73)),\n",
              " ('FALKLAND ISLANDS (ISLAS MALVINAS)', ('CAYMAN ISLANDS', 86, 25)),\n",
              " ('FAROE ISLANDS', ('BRITISH VIRGIN ISLANDS', 86, 73)),\n",
              " ('FRENCH POLYNESIA', ('SYRIA', 68, 142)),\n",
              " ('GIBRALTAR', ('QATAR', 72, 0)),\n",
              " ('GREENLAND', ('IRELAND', 75, 36)),\n",
              " ('ICELAND', ('IRELAND', 86, 36)),\n",
              " ('MONTSERRAT', ('SIERRA LEONE', 60, 182)),\n",
              " ('NAURU', ('MAURITIUS', 60, 82)),\n",
              " ('NEW CALEDONIA', ('ESTONIA', 69, 67)),\n",
              " ('NIUE', ('UNITED ARAB EMIRATES', 68, 3)),\n",
              " ('SAINT HELENA, ASCENSION, AND TRISTAN DA CUNHA',\n",
              "  ('ANTIGUA AND BARBUDA', 86, 40)),\n",
              " ('SAINT PIERRE AND MIQUELON', ('SAINT LUCIA', 86, 95)),\n",
              " ('TRINIDAD AND TOBAGO', ('SAINT VINCENT AND THE GRENADINES', 86, 104)),\n",
              " ('TURKS AND CAICOS ISLANDS', ('CAYMAN ISLANDS', 86, 25)),\n",
              " ('VIRGIN ISLANDS', ('BRITISH VIRGIN ISLANDS', 90, 73))]"
            ]
          },
          "metadata": {},
          "execution_count": 95
        }
      ]
    },
    {
      "cell_type": "code",
      "source": [
        "[(c,fz.extractOne(c,electricity.Country)) for c in sorted(energyConsumption.Country) if fz.extractOne(c,electricity.Country)[1]<100]"
      ],
      "metadata": {
        "colab": {
          "base_uri": "https://localhost:8080/"
        },
        "id": "JNqYYOWxLWJr",
        "outputId": "57c2694a-16b0-41e7-e5a0-3446283ceebe"
      },
      "execution_count": 96,
      "outputs": [
        {
          "output_type": "execute_result",
          "data": {
            "text/plain": [
              "[]"
            ]
          },
          "metadata": {},
          "execution_count": 96
        }
      ]
    },
    {
      "cell_type": "code",
      "source": [
        "[(c,fz.extractOne(c,reservesForeignExchange.Country)) for c in sorted(electricity.Country) if fz.extractOne(c,reservesForeignExchange.Country)[1]<100]"
      ],
      "metadata": {
        "colab": {
          "base_uri": "https://localhost:8080/"
        },
        "id": "o9W-UBggLqwc",
        "outputId": "466ca461-a757-4a9d-8bd1-d7328de6d25e"
      },
      "execution_count": 98,
      "outputs": [
        {
          "output_type": "execute_result",
          "data": {
            "text/plain": [
              "[('AMERICAN SAMOA', ('SAMOA', 90, 165)),\n",
              " ('BERMUDA', ('PERU', 68, 34)),\n",
              " ('BRITISH VIRGIN ISLANDS', ('CAYMAN ISLANDS', 86, 182)),\n",
              " ('COOK ISLANDS', ('SOLOMON ISLANDS', 74, 157)),\n",
              " ('FALKLAND ISLANDS (ISLAS MALVINAS)', ('SOLOMON ISLANDS', 86, 157)),\n",
              " ('FAROE ISLANDS', ('CAYMAN ISLANDS', 67, 182)),\n",
              " ('FRENCH POLYNESIA', ('SYRIA', 68, 172)),\n",
              " ('GIBRALTAR', ('QATAR', 72, 41)),\n",
              " ('GREENLAND', ('IRELAND', 75, 73)),\n",
              " ('GUAM', ('GUATEMALA', 77, 55)),\n",
              " ('KIRIBATI', ('HAITI', 68, 124)),\n",
              " ('KOREA, NORTH', ('KOREA, SOUTH', 83, 8)),\n",
              " ('NAURU', ('MAURITIUS', 60, 86)),\n",
              " ('NEW CALEDONIA', ('ESTONIA', 69, 128)),\n",
              " ('NIUE', ('UNITED ARAB EMIRATES', 68, 11)),\n",
              " ('PUERTO RICO', ('PERU', 68, 34)),\n",
              " ('SAINT HELENA, ASCENSION, AND TRISTAN DA CUNHA',\n",
              "  ('BOSNIA AND HERZEGOVINA', 86, 83)),\n",
              " ('SAINT PIERRE AND MIQUELON', ('SAINT LUCIA', 86, 173)),\n",
              " ('TURKS AND CAICOS ISLANDS', ('SOLOMON ISLANDS', 86, 157)),\n",
              " ('VIRGIN ISLANDS', ('FINLAND', 66, 64))]"
            ]
          },
          "metadata": {},
          "execution_count": 98
        }
      ]
    },
    {
      "cell_type": "code",
      "source": [
        "[(c,fz.extractOne(c,electricity.Country)) for c in sorted(reservesForeignExchange.Country) if fz.extractOne(c,electricity.Country)[1]<100]"
      ],
      "metadata": {
        "colab": {
          "base_uri": "https://localhost:8080/"
        },
        "id": "n10AUjGNL4xl",
        "outputId": "96715bfa-59db-4620-cbf7-8a8431743fd6"
      },
      "execution_count": 99,
      "outputs": [
        {
          "output_type": "execute_result",
          "data": {
            "text/plain": [
              "[('ANGUILLA', ('ANGOLA', 71, 73)),\n",
              " ('MICRONESIA, FEDERATED STATES OF', ('UNITED STATES', 86, 1)),\n",
              " ('PALAU', ('GUATEMALA', 68, 90)),\n",
              " ('SAN MARINO', ('SPAIN', 68, 10))]"
            ]
          },
          "metadata": {},
          "execution_count": 99
        }
      ]
    },
    {
      "cell_type": "code",
      "source": [
        "[(c,fz.extractOne(c,energyConsumption.Country)) for c in sorted(education.Country) if fz.extractOne(c,energyConsumption.Country)[1]<100]"
      ],
      "metadata": {
        "colab": {
          "base_uri": "https://localhost:8080/"
        },
        "id": "kJV4cABmMEv8",
        "outputId": "23addb86-d836-43d6-fb88-bf8c9425ec67"
      },
      "execution_count": 100,
      "outputs": [
        {
          "output_type": "execute_result",
          "data": {
            "text/plain": [
              "[('ANDORRA', ('EL SALVADOR', 65, 124)),\n",
              " ('ANGUILLA', ('ANGOLA', 71, 150)),\n",
              " ('COOK ISLANDS', ('BRITISH VIRGIN ISLANDS', 86, 73)),\n",
              " ('CURACAO', ('CUBA', 68, 120)),\n",
              " ('FAROE ISLANDS', ('BRITISH VIRGIN ISLANDS', 86, 73)),\n",
              " ('GREENLAND', ('IRELAND', 75, 36)),\n",
              " ('ICELAND', ('IRELAND', 86, 36)),\n",
              " ('LIECHTENSTEIN', ('BENIN', 68, 164)),\n",
              " ('MARSHALL ISLANDS', ('CAYMAN ISLANDS', 67, 25)),\n",
              " ('MICRONESIA, FEDERATED STATES OF', ('UNITED STATES', 86, 9)),\n",
              " ('MONACO', ('MOROCCO', 62, 126)),\n",
              " ('MONTSERRAT', ('SIERRA LEONE', 60, 182)),\n",
              " ('NAURU', ('MAURITIUS', 60, 82)),\n",
              " ('PALAU', ('GUATEMALA', 68, 134)),\n",
              " ('SAN MARINO', ('SPAIN', 68, 47)),\n",
              " ('TRINIDAD AND TOBAGO', ('SAINT VINCENT AND THE GRENADINES', 86, 104)),\n",
              " ('TURKS AND CAICOS ISLANDS', ('CAYMAN ISLANDS', 86, 25))]"
            ]
          },
          "metadata": {},
          "execution_count": 100
        }
      ]
    },
    {
      "cell_type": "code",
      "source": [
        "[(c,fz.extractOne(c,education.Country)) for c in sorted(energyConsumption.Country) if fz.extractOne(c,education.Country)[1]<100]"
      ],
      "metadata": {
        "colab": {
          "base_uri": "https://localhost:8080/"
        },
        "id": "iX_KK-IqMNVb",
        "outputId": "9a793476-2c94-4e02-917a-8bfb3912aadc"
      },
      "execution_count": 101,
      "outputs": [
        {
          "output_type": "execute_result",
          "data": {
            "text/plain": [
              "[('AMERICAN SAMOA', ('SAMOA', 90, 84)),\n",
              " ('BOSNIA AND HERZEGOVINA', ('INDIA', 68, 99)),\n",
              " ('CUBA', ('CURACAO', 68, 15)),\n",
              " ('EQUATORIAL GUINEA', ('GUINEA', 90, 180)),\n",
              " ('ERITREA', ('SIERRA LEONE', 62, 7)),\n",
              " ('GUAM', ('NICARAGUA', 77, 95)),\n",
              " ('KOREA, NORTH', ('KOREA, SOUTH', 83, 89)),\n",
              " ('KOSOVO', ('SOLOMON ISLANDS', 54, 1)),\n",
              " ('LIBYA', ('AUSTRALIA', 68, 37)),\n",
              " ('MONTENEGRO', ('MONACO', 60, 194)),\n",
              " ('NORTH MACEDONIA', ('ESTONIA', 69, 28)),\n",
              " ('SUDAN', ('SOUTH SUDAN', 90, 190)),\n",
              " ('SYRIA', ('SERBIA', 73, 133)),\n",
              " ('TAIWAN', ('THAILAND', 71, 147)),\n",
              " ('YEMEN', ('SWEDEN', 55, 17))]"
            ]
          },
          "metadata": {},
          "execution_count": 101
        }
      ]
    },
    {
      "cell_type": "code",
      "source": [
        "[(c,fz.extractOne(c,reservesForeignExchange.Country)) for c in sorted(education.Country) if fz.extractOne(c,reservesForeignExchange.Country)[1]<100]"
      ],
      "metadata": {
        "colab": {
          "base_uri": "https://localhost:8080/"
        },
        "id": "Pou9Y-_sMVxr",
        "outputId": "7db500ed-546c-4431-d74c-5feb4ad8cc5a"
      },
      "execution_count": 102,
      "outputs": [
        {
          "output_type": "execute_result",
          "data": {
            "text/plain": [
              "[('ANDORRA', ('EL SALVADOR', 65, 114)),\n",
              " ('BERMUDA', ('PERU', 68, 34)),\n",
              " ('BRITISH VIRGIN ISLANDS', ('CAYMAN ISLANDS', 86, 182)),\n",
              " ('COOK ISLANDS', ('SOLOMON ISLANDS', 74, 157)),\n",
              " ('CURACAO', ('CUBA', 68, 74)),\n",
              " ('FAROE ISLANDS', ('CAYMAN ISLANDS', 67, 182)),\n",
              " ('GREENLAND', ('IRELAND', 75, 73)),\n",
              " ('KIRIBATI', ('HAITI', 68, 124)),\n",
              " ('LIECHTENSTEIN', ('BENIN', 68, 156)),\n",
              " ('MARSHALL ISLANDS', ('CAYMAN ISLANDS', 67, 182)),\n",
              " ('MONACO', ('MOROCCO', 62, 48)),\n",
              " ('NAURU', ('MAURITIUS', 60, 86)),\n",
              " ('PUERTO RICO', ('PERU', 68, 34)),\n",
              " ('TURKS AND CAICOS ISLANDS', ('SOLOMON ISLANDS', 86, 157))]"
            ]
          },
          "metadata": {},
          "execution_count": 102
        }
      ]
    },
    {
      "cell_type": "code",
      "source": [
        "[(c,fz.extractOne(c,education.Country)) for c in sorted(reservesForeignExchange.Country) if fz.extractOne(c,education.Country)[1]<100]"
      ],
      "metadata": {
        "colab": {
          "base_uri": "https://localhost:8080/"
        },
        "id": "MdH43bOwMbDj",
        "outputId": "9316e837-9df5-4eca-df91-88226a8ddafe"
      },
      "execution_count": 103,
      "outputs": [
        {
          "output_type": "execute_result",
          "data": {
            "text/plain": [
              "[('BOSNIA AND HERZEGOVINA', ('INDIA', 68, 99)),\n",
              " ('CUBA', ('CURACAO', 68, 15)),\n",
              " ('EQUATORIAL GUINEA', ('GUINEA', 90, 180)),\n",
              " ('ERITREA', ('SIERRA LEONE', 62, 7)),\n",
              " ('KOSOVO', ('SOLOMON ISLANDS', 54, 1)),\n",
              " ('LIBYA', ('AUSTRALIA', 68, 37)),\n",
              " ('MONTENEGRO', ('MONACO', 60, 194)),\n",
              " ('NORTH MACEDONIA', ('ESTONIA', 69, 28)),\n",
              " ('SUDAN', ('SOUTH SUDAN', 90, 190)),\n",
              " ('SYRIA', ('SERBIA', 73, 133)),\n",
              " ('TAIWAN', ('THAILAND', 71, 147)),\n",
              " ('YEMEN', ('SWEDEN', 55, 17))]"
            ]
          },
          "metadata": {},
          "execution_count": 103
        }
      ]
    },
    {
      "cell_type": "code",
      "source": [
        "[(c,fz.extractOne(c,reservesForeignExchange.Country)) for c in sorted(energyConsumption.Country) if fz.extractOne(c,reservesForeignExchange.Country)[1]<100]"
      ],
      "metadata": {
        "colab": {
          "base_uri": "https://localhost:8080/"
        },
        "id": "syIP6VskMr91",
        "outputId": "9cca4a74-28a2-437d-c7fb-4ea0852e7b49"
      },
      "execution_count": 104,
      "outputs": [
        {
          "output_type": "execute_result",
          "data": {
            "text/plain": [
              "[('AMERICAN SAMOA', ('SAMOA', 90, 165)),\n",
              " ('BERMUDA', ('PERU', 68, 34)),\n",
              " ('BRITISH VIRGIN ISLANDS', ('CAYMAN ISLANDS', 86, 182)),\n",
              " ('GUAM', ('GUATEMALA', 77, 55)),\n",
              " ('KIRIBATI', ('HAITI', 68, 124)),\n",
              " ('KOREA, NORTH', ('KOREA, SOUTH', 83, 8)),\n",
              " ('PUERTO RICO', ('PERU', 68, 34))]"
            ]
          },
          "metadata": {},
          "execution_count": 104
        }
      ]
    },
    {
      "cell_type": "code",
      "source": [
        "[(c,fz.extractOne(c,energyConsumption.Country)) for c in sorted(reservesForeignExchange.Country) if fz.extractOne(c,energyConsumption.Country)[1]<100]"
      ],
      "metadata": {
        "colab": {
          "base_uri": "https://localhost:8080/"
        },
        "id": "GalIbZslMwtb",
        "outputId": "32c36efb-e8df-4074-8c5e-64aae1e9ca9e"
      },
      "execution_count": 106,
      "outputs": [
        {
          "output_type": "execute_result",
          "data": {
            "text/plain": [
              "[('ANGUILLA', ('ANGOLA', 71, 150)),\n",
              " ('ICELAND', ('IRELAND', 86, 36)),\n",
              " ('MICRONESIA, FEDERATED STATES OF', ('UNITED STATES', 86, 9)),\n",
              " ('MONTSERRAT', ('SIERRA LEONE', 60, 182)),\n",
              " ('PALAU', ('GUATEMALA', 68, 134)),\n",
              " ('SAN MARINO', ('SPAIN', 68, 47)),\n",
              " ('TRINIDAD AND TOBAGO', ('SAINT VINCENT AND THE GRENADINES', 86, 104))]"
            ]
          },
          "metadata": {},
          "execution_count": 106
        }
      ]
    },
    {
      "cell_type": "markdown",
      "source": [
        "Finalmente, se puede comprobar que no existen países con nombres similares en cada DF al verlos manualmente"
      ],
      "metadata": {
        "id": "8zEZXUkEM6-M"
      }
    },
    {
      "cell_type": "code",
      "source": [
        "a=set(electricity.Country)^set(education.Country)\n",
        "b=set(electricity.Country)^set(energyConsumption.Country)\n",
        "c=set(electricity.Country)^set(reservesForeignExchange.Country)\n",
        "d=set(education.Country)^set(energyConsumption.Country)\n",
        "e=set(education.Country)^set(reservesForeignExchange.Country)\n",
        "f=set(energyConsumption.Country)^set(reservesForeignExchange.Country)"
      ],
      "metadata": {
        "id": "ejVhw2ifNChD"
      },
      "execution_count": 110,
      "outputs": []
    },
    {
      "cell_type": "code",
      "source": [
        "a"
      ],
      "metadata": {
        "colab": {
          "base_uri": "https://localhost:8080/"
        },
        "id": "q-Gj0BipNved",
        "outputId": "6514cc43-8ede-4eab-a3c0-a9f06083740a"
      },
      "execution_count": 114,
      "outputs": [
        {
          "output_type": "execute_result",
          "data": {
            "text/plain": [
              "{'AMERICAN SAMOA',\n",
              " 'ANDORRA',\n",
              " 'ANGUILLA',\n",
              " 'BOSNIA AND HERZEGOVINA',\n",
              " 'CUBA',\n",
              " 'CURACAO',\n",
              " 'EQUATORIAL GUINEA',\n",
              " 'ERITREA',\n",
              " 'FALKLAND ISLANDS (ISLAS MALVINAS)',\n",
              " 'FRENCH POLYNESIA',\n",
              " 'GIBRALTAR',\n",
              " 'GUAM',\n",
              " 'KOREA, NORTH',\n",
              " 'KOSOVO',\n",
              " 'LIBYA',\n",
              " 'LIECHTENSTEIN',\n",
              " 'MARSHALL ISLANDS',\n",
              " 'MICRONESIA, FEDERATED STATES OF',\n",
              " 'MONACO',\n",
              " 'MONTENEGRO',\n",
              " 'NEW CALEDONIA',\n",
              " 'NIUE',\n",
              " 'NORTH MACEDONIA',\n",
              " 'PALAU',\n",
              " 'SAINT HELENA, ASCENSION, AND TRISTAN DA CUNHA',\n",
              " 'SAINT PIERRE AND MIQUELON',\n",
              " 'SAN MARINO',\n",
              " 'SUDAN',\n",
              " 'SYRIA',\n",
              " 'TAIWAN',\n",
              " 'VIRGIN ISLANDS',\n",
              " 'YEMEN'}"
            ]
          },
          "metadata": {},
          "execution_count": 114
        }
      ]
    },
    {
      "cell_type": "code",
      "source": [
        "b"
      ],
      "metadata": {
        "colab": {
          "base_uri": "https://localhost:8080/"
        },
        "id": "yWuUWt3wN2nl",
        "outputId": "556bbdbd-6ff9-4803-8710-450f539cb7c2"
      },
      "execution_count": 115,
      "outputs": [
        {
          "output_type": "execute_result",
          "data": {
            "text/plain": [
              "{'COOK ISLANDS',\n",
              " 'FALKLAND ISLANDS (ISLAS MALVINAS)',\n",
              " 'FAROE ISLANDS',\n",
              " 'FRENCH POLYNESIA',\n",
              " 'GIBRALTAR',\n",
              " 'GREENLAND',\n",
              " 'ICELAND',\n",
              " 'MONTSERRAT',\n",
              " 'NAURU',\n",
              " 'NEW CALEDONIA',\n",
              " 'NIUE',\n",
              " 'SAINT HELENA, ASCENSION, AND TRISTAN DA CUNHA',\n",
              " 'SAINT PIERRE AND MIQUELON',\n",
              " 'TRINIDAD AND TOBAGO',\n",
              " 'TURKS AND CAICOS ISLANDS',\n",
              " 'VIRGIN ISLANDS'}"
            ]
          },
          "metadata": {},
          "execution_count": 115
        }
      ]
    },
    {
      "cell_type": "code",
      "source": [
        "c"
      ],
      "metadata": {
        "colab": {
          "base_uri": "https://localhost:8080/"
        },
        "id": "4s5LqfqiN3j6",
        "outputId": "d7e02eaa-e00a-4300-943c-ceea8fde745b"
      },
      "execution_count": 116,
      "outputs": [
        {
          "output_type": "execute_result",
          "data": {
            "text/plain": [
              "{'AMERICAN SAMOA',\n",
              " 'ANGUILLA',\n",
              " 'BERMUDA',\n",
              " 'BRITISH VIRGIN ISLANDS',\n",
              " 'COOK ISLANDS',\n",
              " 'FALKLAND ISLANDS (ISLAS MALVINAS)',\n",
              " 'FAROE ISLANDS',\n",
              " 'FRENCH POLYNESIA',\n",
              " 'GIBRALTAR',\n",
              " 'GREENLAND',\n",
              " 'GUAM',\n",
              " 'KIRIBATI',\n",
              " 'KOREA, NORTH',\n",
              " 'MICRONESIA, FEDERATED STATES OF',\n",
              " 'NAURU',\n",
              " 'NEW CALEDONIA',\n",
              " 'NIUE',\n",
              " 'PALAU',\n",
              " 'PUERTO RICO',\n",
              " 'SAINT HELENA, ASCENSION, AND TRISTAN DA CUNHA',\n",
              " 'SAINT PIERRE AND MIQUELON',\n",
              " 'SAN MARINO',\n",
              " 'TURKS AND CAICOS ISLANDS',\n",
              " 'VIRGIN ISLANDS'}"
            ]
          },
          "metadata": {},
          "execution_count": 116
        }
      ]
    },
    {
      "cell_type": "code",
      "source": [
        "d"
      ],
      "metadata": {
        "colab": {
          "base_uri": "https://localhost:8080/"
        },
        "id": "y83fMK4hN4Yb",
        "outputId": "44f8e807-79cc-4c14-e54f-10f1c47b00bb"
      },
      "execution_count": 117,
      "outputs": [
        {
          "output_type": "execute_result",
          "data": {
            "text/plain": [
              "{'AMERICAN SAMOA',\n",
              " 'ANDORRA',\n",
              " 'ANGUILLA',\n",
              " 'BOSNIA AND HERZEGOVINA',\n",
              " 'COOK ISLANDS',\n",
              " 'CUBA',\n",
              " 'CURACAO',\n",
              " 'EQUATORIAL GUINEA',\n",
              " 'ERITREA',\n",
              " 'FAROE ISLANDS',\n",
              " 'GREENLAND',\n",
              " 'GUAM',\n",
              " 'ICELAND',\n",
              " 'KOREA, NORTH',\n",
              " 'KOSOVO',\n",
              " 'LIBYA',\n",
              " 'LIECHTENSTEIN',\n",
              " 'MARSHALL ISLANDS',\n",
              " 'MICRONESIA, FEDERATED STATES OF',\n",
              " 'MONACO',\n",
              " 'MONTENEGRO',\n",
              " 'MONTSERRAT',\n",
              " 'NAURU',\n",
              " 'NORTH MACEDONIA',\n",
              " 'PALAU',\n",
              " 'SAN MARINO',\n",
              " 'SUDAN',\n",
              " 'SYRIA',\n",
              " 'TAIWAN',\n",
              " 'TRINIDAD AND TOBAGO',\n",
              " 'TURKS AND CAICOS ISLANDS',\n",
              " 'YEMEN'}"
            ]
          },
          "metadata": {},
          "execution_count": 117
        }
      ]
    },
    {
      "cell_type": "code",
      "source": [
        "e"
      ],
      "metadata": {
        "colab": {
          "base_uri": "https://localhost:8080/"
        },
        "id": "4CEtoyV7N7Az",
        "outputId": "229df3a8-42dc-476b-e296-5ec29f7a24c5"
      },
      "execution_count": 118,
      "outputs": [
        {
          "output_type": "execute_result",
          "data": {
            "text/plain": [
              "{'ANDORRA',\n",
              " 'BERMUDA',\n",
              " 'BOSNIA AND HERZEGOVINA',\n",
              " 'BRITISH VIRGIN ISLANDS',\n",
              " 'COOK ISLANDS',\n",
              " 'CUBA',\n",
              " 'CURACAO',\n",
              " 'EQUATORIAL GUINEA',\n",
              " 'ERITREA',\n",
              " 'FAROE ISLANDS',\n",
              " 'GREENLAND',\n",
              " 'KIRIBATI',\n",
              " 'KOSOVO',\n",
              " 'LIBYA',\n",
              " 'LIECHTENSTEIN',\n",
              " 'MARSHALL ISLANDS',\n",
              " 'MONACO',\n",
              " 'MONTENEGRO',\n",
              " 'NAURU',\n",
              " 'NORTH MACEDONIA',\n",
              " 'PUERTO RICO',\n",
              " 'SUDAN',\n",
              " 'SYRIA',\n",
              " 'TAIWAN',\n",
              " 'TURKS AND CAICOS ISLANDS',\n",
              " 'YEMEN'}"
            ]
          },
          "metadata": {},
          "execution_count": 118
        }
      ]
    },
    {
      "cell_type": "code",
      "source": [
        "f"
      ],
      "metadata": {
        "colab": {
          "base_uri": "https://localhost:8080/"
        },
        "id": "BVVYswNjN9Tz",
        "outputId": "315ab0a5-2144-4446-a1eb-bcb27e639629"
      },
      "execution_count": 119,
      "outputs": [
        {
          "output_type": "execute_result",
          "data": {
            "text/plain": [
              "{'AMERICAN SAMOA',\n",
              " 'ANGUILLA',\n",
              " 'BERMUDA',\n",
              " 'BRITISH VIRGIN ISLANDS',\n",
              " 'GUAM',\n",
              " 'ICELAND',\n",
              " 'KIRIBATI',\n",
              " 'KOREA, NORTH',\n",
              " 'MICRONESIA, FEDERATED STATES OF',\n",
              " 'MONTSERRAT',\n",
              " 'PALAU',\n",
              " 'PUERTO RICO',\n",
              " 'SAN MARINO',\n",
              " 'TRINIDAD AND TOBAGO'}"
            ]
          },
          "metadata": {},
          "execution_count": 119
        }
      ]
    },
    {
      "cell_type": "markdown",
      "source": [
        "**INNER MERGE**"
      ],
      "metadata": {
        "id": "Go_NXu_HRlu7"
      }
    },
    {
      "cell_type": "markdown",
      "source": [
        "Finalmente, como no he encontrado países con nombres similares en cada DF, se procederá con *inner merge*"
      ],
      "metadata": {
        "id": "RZXSHMcrOClc"
      }
    },
    {
      "cell_type": "code",
      "source": [
        "electricityEducation=pd.merge(electricity,education,how=\"inner\",on=[\"Country\",\"Region\"])\n",
        "electricityEducationEnergy=pd.merge(electricityEducation,energyConsumption,how=\"inner\",on=[\"Country\",\"Region\"])\n",
        "electricityEducationEnergyReserves=pd.merge(electricityEducationEnergy,reservesForeignExchange,how=\"inner\",on=[\"Country\",\"Region\"])\n",
        "electricityEducationEnergyReserves.drop(columns=[\"Year_electricity\",\"Year_education\",\"Year_energy\",\"Year_reserves\"],inplace=True)\n",
        "final1=electricityEducationEnergyReserves.set_index([\"Country\",\"Region\"])\n",
        "final1.reset_index(inplace=True)\n",
        "final1.info()"
      ],
      "metadata": {
        "colab": {
          "base_uri": "https://localhost:8080/"
        },
        "id": "O0UqaMT6RlEV",
        "outputId": "d342064c-9b93-46be-f3c2-83f9efc13486"
      },
      "execution_count": 154,
      "outputs": [
        {
          "output_type": "stream",
          "name": "stdout",
          "text": [
            "<class 'pandas.core.frame.DataFrame'>\n",
            "RangeIndex: 176 entries, 0 to 175\n",
            "Data columns (total 6 columns):\n",
            " #   Column                                      Non-Null Count  Dtype   \n",
            "---  ------                                      --------------  -----   \n",
            " 0   Country                                     176 non-null    object  \n",
            " 1   Region                                      176 non-null    category\n",
            " 2   Electricity_generated_kW                    176 non-null    int64   \n",
            " 3   Education_expenditure_percent_GDP           176 non-null    float64 \n",
            " 4   Energy_consumption_per_capita_BtuPerPerson  176 non-null    int64   \n",
            " 5   Reserves_of_foreign_exchange_dollars        176 non-null    int64   \n",
            "dtypes: category(1), float64(1), int64(3), object(1)\n",
            "memory usage: 7.5+ KB\n"
          ]
        }
      ]
    },
    {
      "cell_type": "markdown",
      "source": [
        "##Transformación"
      ],
      "metadata": {
        "id": "EVDhpKsgLDWh"
      }
    },
    {
      "cell_type": "markdown",
      "source": [
        "4. Report the average, min and max for the variables (reserves, energy, electricity. education) by region.\n",
        "5. Create new columns for each variable , so that they are in 5 intervals. Choose the same methods for the four variables. Two decisiones here.\n",
        "\n",
        "6. Save the final result: country, region and the eight variables."
      ],
      "metadata": {
        "id": "7P6m_SksL1iu"
      }
    },
    {
      "cell_type": "markdown",
      "source": [
        "### Task 4"
      ],
      "metadata": {
        "id": "RDXkJYDykGye"
      }
    },
    {
      "cell_type": "code",
      "source": [
        "#codigo para agrupar a las columnas con datos numericos segun Region y se obtiene valores estadisticos como min, max y mean\n",
        "varsAggregated=['Electricity_generated_kW','Education_expenditure_percent_GDP','Energy_consumption_per_capita_BtuPerPerson','Reserves_of_foreign_exchange_dollars']\n",
        "functionForVars=['mean','min','max']\n",
        "final1Stats=final1.groupby('Region')[varsAggregated].agg(functionForVars)"
      ],
      "metadata": {
        "colab": {
          "base_uri": "https://localhost:8080/"
        },
        "id": "HHcBuI4hE0zL",
        "outputId": "e4cf35a7-9d8a-4834-9d03-b9939daa7d56"
      },
      "execution_count": 155,
      "outputs": [
        {
          "output_type": "stream",
          "name": "stderr",
          "text": [
            "<ipython-input-155-bfbbf7b06927>:4: FutureWarning: The default of observed=False is deprecated and will be changed to True in a future version of pandas. Pass observed=False to retain current behavior or observed=True to adopt the future default and silence this warning.\n",
            "  final1Stats=final1.groupby('Region')[varsAggregated].agg(functionForVars)\n"
          ]
        }
      ]
    },
    {
      "cell_type": "code",
      "source": [
        "final1Stats.columns.to_flat_index()   #se procede a cambiar de multi-indexing a flat-index para columnas"
      ],
      "metadata": {
        "colab": {
          "base_uri": "https://localhost:8080/"
        },
        "collapsed": true,
        "id": "lMSDmsIYZiE3",
        "outputId": "43ef58c2-aba7-4446-aa31-c53ada3f05ad"
      },
      "execution_count": 156,
      "outputs": [
        {
          "output_type": "execute_result",
          "data": {
            "text/plain": [
              "Index([                  ('Electricity_generated_kW', 'mean'),\n",
              "                          ('Electricity_generated_kW', 'min'),\n",
              "                          ('Electricity_generated_kW', 'max'),\n",
              "                ('Education_expenditure_percent_GDP', 'mean'),\n",
              "                 ('Education_expenditure_percent_GDP', 'min'),\n",
              "                 ('Education_expenditure_percent_GDP', 'max'),\n",
              "       ('Energy_consumption_per_capita_BtuPerPerson', 'mean'),\n",
              "        ('Energy_consumption_per_capita_BtuPerPerson', 'min'),\n",
              "        ('Energy_consumption_per_capita_BtuPerPerson', 'max'),\n",
              "             ('Reserves_of_foreign_exchange_dollars', 'mean'),\n",
              "              ('Reserves_of_foreign_exchange_dollars', 'min'),\n",
              "              ('Reserves_of_foreign_exchange_dollars', 'max')],\n",
              "      dtype='object')"
            ]
          },
          "metadata": {},
          "execution_count": 156
        }
      ]
    },
    {
      "cell_type": "code",
      "source": [
        "# se cambiará del multi indexing a index normal las columnas se resetearan a 1 solo index\n",
        "\n",
        "final1Stats.columns=['_'.join(col) for col in final1Stats.columns.to_flat_index()]"
      ],
      "metadata": {
        "id": "A1ZB-ovXZLsK"
      },
      "execution_count": 157,
      "outputs": []
    },
    {
      "cell_type": "code",
      "source": [
        "final1Stats.reset_index(drop=False, inplace=True)"
      ],
      "metadata": {
        "id": "_WMR8hKyaOKe"
      },
      "execution_count": 158,
      "outputs": []
    },
    {
      "cell_type": "code",
      "source": [
        "final1Stats       #Aqui se obtiene el resultaado pedido por el Task 4"
      ],
      "metadata": {
        "colab": {
          "base_uri": "https://localhost:8080/",
          "height": 591
        },
        "id": "TeLTpjlnjC6W",
        "outputId": "512439b4-edfe-4bc0-eaff-c4edee09e3be"
      },
      "execution_count": 159,
      "outputs": [
        {
          "output_type": "execute_result",
          "data": {
            "text/plain": [
              "                              Region  Electricity_generated_kW_mean  \\\n",
              "0            East and Southeast Asia                   2.108446e+08   \n",
              "1                      North America                   5.008580e+08   \n",
              "2                         South Asia                   7.211612e+07   \n",
              "3                       Central Asia                   4.239578e+07   \n",
              "4                             Europe                   4.027509e+07   \n",
              "5                      South America                   3.550408e+07   \n",
              "6                        Middle East                   3.381729e+07   \n",
              "7              Australia and Oceania                   1.706100e+07   \n",
              "8                             Africa                   4.619820e+06   \n",
              "9  Central America and the Caribbean                   1.580500e+06   \n",
              "\n",
              "   Electricity_generated_kW_min  Electricity_generated_kW_max  \\\n",
              "0                        277000                    2949000000   \n",
              "1                     105586000                    1235000000   \n",
              "2                        432000                     499136000   \n",
              "3                       3944000                     301926000   \n",
              "4                        779000                     275658000   \n",
              "5                        259000                     240251000   \n",
              "6                        352000                     119620000   \n",
              "7                         34000                     108193000   \n",
              "8                         29000                      65989000   \n",
              "9                         41000                       6581000   \n",
              "\n",
              "   Education_expenditure_percent_GDP_mean  \\\n",
              "0                                3.633333   \n",
              "1                                5.200000   \n",
              "2                                3.850000   \n",
              "3                                4.333333   \n",
              "4                                5.151429   \n",
              "5                                4.808333   \n",
              "6                                4.528571   \n",
              "7                                6.314286   \n",
              "8                                4.268000   \n",
              "9                                4.555000   \n",
              "\n",
              "   Education_expenditure_percent_GDP_min  \\\n",
              "0                                    1.4   \n",
              "1                                    4.3   \n",
              "2                                    1.9   \n",
              "3                                    2.8   \n",
              "4                                    3.1   \n",
              "5                                    1.3   \n",
              "6                                    1.7   \n",
              "7                                    2.2   \n",
              "8                                    0.3   \n",
              "9                                    1.4   \n",
              "\n",
              "   Education_expenditure_percent_GDP_max  \\\n",
              "0                                    6.3   \n",
              "1                                    6.1   \n",
              "2                                    7.0   \n",
              "3                                    6.2   \n",
              "4                                    7.2   \n",
              "5                                    9.8   \n",
              "6                                    7.8   \n",
              "7                                   12.8   \n",
              "8                                    9.6   \n",
              "9                                    8.7   \n",
              "\n",
              "   Energy_consumption_per_capita_BtuPerPerson_mean  \\\n",
              "0                                     1.186874e+08   \n",
              "1                                     2.158707e+08   \n",
              "2                                     2.350638e+07   \n",
              "3                                     1.039161e+08   \n",
              "4                                     1.131422e+08   \n",
              "5                                     4.641467e+07   \n",
              "6                                     2.406509e+08   \n",
              "7                                     6.221671e+07   \n",
              "8                                     1.412284e+07   \n",
              "9                                     5.587300e+07   \n",
              "\n",
              "   Energy_consumption_per_capita_BtuPerPerson_min  \\\n",
              "0                                         6825000   \n",
              "1                                        57539000   \n",
              "2                                         3380000   \n",
              "3                                        16192000   \n",
              "4                                        27407000   \n",
              "5                                        25733000   \n",
              "6                                        14991000   \n",
              "7                                         5655000   \n",
              "8                                          649000   \n",
              "9                                         3486000   \n",
              "\n",
              "   Energy_consumption_per_capita_BtuPerPerson_max  \\\n",
              "0                                       643259000   \n",
              "1                                       311599000   \n",
              "2                                        64082000   \n",
              "3                                       261142000   \n",
              "4                                       234698000   \n",
              "5                                        78496000   \n",
              "6                                       814308000   \n",
              "7                                       223158000   \n",
              "8                                        98847000   \n",
              "9                                       153952000   \n",
              "\n",
              "   Reserves_of_foreign_exchange_dollars_mean  \\\n",
              "0                               3.536142e+11   \n",
              "1                               1.890850e+11   \n",
              "2                               7.907593e+10   \n",
              "3                               7.555822e+10   \n",
              "4                               6.415875e+10   \n",
              "5                               4.748692e+10   \n",
              "6                               9.432479e+10   \n",
              "7                               1.147904e+10   \n",
              "8                               6.860587e+09   \n",
              "9                               4.561870e+09   \n",
              "\n",
              "   Reserves_of_foreign_exchange_dollars_min  \\\n",
              "0                                 781995000   \n",
              "1                              117551000000   \n",
              "2                                 673203000   \n",
              "3                                3237000000   \n",
              "4                                 921269000   \n",
              "5                                  87100000   \n",
              "6                                1328000000   \n",
              "7                                 396530000   \n",
              "8                                  30450000   \n",
              "9                                 155971000   \n",
              "\n",
              "   Reserves_of_foreign_exchange_dollars_max  \n",
              "0                             3265000000000  \n",
              "1                              227760000000  \n",
              "2                              569544000000  \n",
              "3                              597217000000  \n",
              "4                              822130000000  \n",
              "5                              318857000000  \n",
              "6                              436769000000  \n",
              "7                               54455000000  \n",
              "8                               68448000000  \n",
              "9                               23834000000  "
            ],
            "text/html": [
              "\n",
              "  <div id=\"df-602cfe83-4b39-44ef-adad-cc6c284f6c03\" class=\"colab-df-container\">\n",
              "    <div>\n",
              "<style scoped>\n",
              "    .dataframe tbody tr th:only-of-type {\n",
              "        vertical-align: middle;\n",
              "    }\n",
              "\n",
              "    .dataframe tbody tr th {\n",
              "        vertical-align: top;\n",
              "    }\n",
              "\n",
              "    .dataframe thead th {\n",
              "        text-align: right;\n",
              "    }\n",
              "</style>\n",
              "<table border=\"1\" class=\"dataframe\">\n",
              "  <thead>\n",
              "    <tr style=\"text-align: right;\">\n",
              "      <th></th>\n",
              "      <th>Region</th>\n",
              "      <th>Electricity_generated_kW_mean</th>\n",
              "      <th>Electricity_generated_kW_min</th>\n",
              "      <th>Electricity_generated_kW_max</th>\n",
              "      <th>Education_expenditure_percent_GDP_mean</th>\n",
              "      <th>Education_expenditure_percent_GDP_min</th>\n",
              "      <th>Education_expenditure_percent_GDP_max</th>\n",
              "      <th>Energy_consumption_per_capita_BtuPerPerson_mean</th>\n",
              "      <th>Energy_consumption_per_capita_BtuPerPerson_min</th>\n",
              "      <th>Energy_consumption_per_capita_BtuPerPerson_max</th>\n",
              "      <th>Reserves_of_foreign_exchange_dollars_mean</th>\n",
              "      <th>Reserves_of_foreign_exchange_dollars_min</th>\n",
              "      <th>Reserves_of_foreign_exchange_dollars_max</th>\n",
              "    </tr>\n",
              "  </thead>\n",
              "  <tbody>\n",
              "    <tr>\n",
              "      <th>0</th>\n",
              "      <td>East and Southeast Asia</td>\n",
              "      <td>2.108446e+08</td>\n",
              "      <td>277000</td>\n",
              "      <td>2949000000</td>\n",
              "      <td>3.633333</td>\n",
              "      <td>1.4</td>\n",
              "      <td>6.3</td>\n",
              "      <td>1.186874e+08</td>\n",
              "      <td>6825000</td>\n",
              "      <td>643259000</td>\n",
              "      <td>3.536142e+11</td>\n",
              "      <td>781995000</td>\n",
              "      <td>3265000000000</td>\n",
              "    </tr>\n",
              "    <tr>\n",
              "      <th>1</th>\n",
              "      <td>North America</td>\n",
              "      <td>5.008580e+08</td>\n",
              "      <td>105586000</td>\n",
              "      <td>1235000000</td>\n",
              "      <td>5.200000</td>\n",
              "      <td>4.3</td>\n",
              "      <td>6.1</td>\n",
              "      <td>2.158707e+08</td>\n",
              "      <td>57539000</td>\n",
              "      <td>311599000</td>\n",
              "      <td>1.890850e+11</td>\n",
              "      <td>117551000000</td>\n",
              "      <td>227760000000</td>\n",
              "    </tr>\n",
              "    <tr>\n",
              "      <th>2</th>\n",
              "      <td>South Asia</td>\n",
              "      <td>7.211612e+07</td>\n",
              "      <td>432000</td>\n",
              "      <td>499136000</td>\n",
              "      <td>3.850000</td>\n",
              "      <td>1.9</td>\n",
              "      <td>7.0</td>\n",
              "      <td>2.350638e+07</td>\n",
              "      <td>3380000</td>\n",
              "      <td>64082000</td>\n",
              "      <td>7.907593e+10</td>\n",
              "      <td>673203000</td>\n",
              "      <td>569544000000</td>\n",
              "    </tr>\n",
              "    <tr>\n",
              "      <th>3</th>\n",
              "      <td>Central Asia</td>\n",
              "      <td>4.239578e+07</td>\n",
              "      <td>3944000</td>\n",
              "      <td>301926000</td>\n",
              "      <td>4.333333</td>\n",
              "      <td>2.8</td>\n",
              "      <td>6.2</td>\n",
              "      <td>1.039161e+08</td>\n",
              "      <td>16192000</td>\n",
              "      <td>261142000</td>\n",
              "      <td>7.555822e+10</td>\n",
              "      <td>3237000000</td>\n",
              "      <td>597217000000</td>\n",
              "    </tr>\n",
              "    <tr>\n",
              "      <th>4</th>\n",
              "      <td>Europe</td>\n",
              "      <td>4.027509e+07</td>\n",
              "      <td>779000</td>\n",
              "      <td>275658000</td>\n",
              "      <td>5.151429</td>\n",
              "      <td>3.1</td>\n",
              "      <td>7.2</td>\n",
              "      <td>1.131422e+08</td>\n",
              "      <td>27407000</td>\n",
              "      <td>234698000</td>\n",
              "      <td>6.415875e+10</td>\n",
              "      <td>921269000</td>\n",
              "      <td>822130000000</td>\n",
              "    </tr>\n",
              "    <tr>\n",
              "      <th>5</th>\n",
              "      <td>South America</td>\n",
              "      <td>3.550408e+07</td>\n",
              "      <td>259000</td>\n",
              "      <td>240251000</td>\n",
              "      <td>4.808333</td>\n",
              "      <td>1.3</td>\n",
              "      <td>9.8</td>\n",
              "      <td>4.641467e+07</td>\n",
              "      <td>25733000</td>\n",
              "      <td>78496000</td>\n",
              "      <td>4.748692e+10</td>\n",
              "      <td>87100000</td>\n",
              "      <td>318857000000</td>\n",
              "    </tr>\n",
              "    <tr>\n",
              "      <th>6</th>\n",
              "      <td>Middle East</td>\n",
              "      <td>3.381729e+07</td>\n",
              "      <td>352000</td>\n",
              "      <td>119620000</td>\n",
              "      <td>4.528571</td>\n",
              "      <td>1.7</td>\n",
              "      <td>7.8</td>\n",
              "      <td>2.406509e+08</td>\n",
              "      <td>14991000</td>\n",
              "      <td>814308000</td>\n",
              "      <td>9.432479e+10</td>\n",
              "      <td>1328000000</td>\n",
              "      <td>436769000000</td>\n",
              "    </tr>\n",
              "    <tr>\n",
              "      <th>7</th>\n",
              "      <td>Australia and Oceania</td>\n",
              "      <td>1.706100e+07</td>\n",
              "      <td>34000</td>\n",
              "      <td>108193000</td>\n",
              "      <td>6.314286</td>\n",
              "      <td>2.2</td>\n",
              "      <td>12.8</td>\n",
              "      <td>6.221671e+07</td>\n",
              "      <td>5655000</td>\n",
              "      <td>223158000</td>\n",
              "      <td>1.147904e+10</td>\n",
              "      <td>396530000</td>\n",
              "      <td>54455000000</td>\n",
              "    </tr>\n",
              "    <tr>\n",
              "      <th>8</th>\n",
              "      <td>Africa</td>\n",
              "      <td>4.619820e+06</td>\n",
              "      <td>29000</td>\n",
              "      <td>65989000</td>\n",
              "      <td>4.268000</td>\n",
              "      <td>0.3</td>\n",
              "      <td>9.6</td>\n",
              "      <td>1.412284e+07</td>\n",
              "      <td>649000</td>\n",
              "      <td>98847000</td>\n",
              "      <td>6.860587e+09</td>\n",
              "      <td>30450000</td>\n",
              "      <td>68448000000</td>\n",
              "    </tr>\n",
              "    <tr>\n",
              "      <th>9</th>\n",
              "      <td>Central America and the Caribbean</td>\n",
              "      <td>1.580500e+06</td>\n",
              "      <td>41000</td>\n",
              "      <td>6581000</td>\n",
              "      <td>4.555000</td>\n",
              "      <td>1.4</td>\n",
              "      <td>8.7</td>\n",
              "      <td>5.587300e+07</td>\n",
              "      <td>3486000</td>\n",
              "      <td>153952000</td>\n",
              "      <td>4.561870e+09</td>\n",
              "      <td>155971000</td>\n",
              "      <td>23834000000</td>\n",
              "    </tr>\n",
              "  </tbody>\n",
              "</table>\n",
              "</div>\n",
              "    <div class=\"colab-df-buttons\">\n",
              "\n",
              "  <div class=\"colab-df-container\">\n",
              "    <button class=\"colab-df-convert\" onclick=\"convertToInteractive('df-602cfe83-4b39-44ef-adad-cc6c284f6c03')\"\n",
              "            title=\"Convert this dataframe to an interactive table.\"\n",
              "            style=\"display:none;\">\n",
              "\n",
              "  <svg xmlns=\"http://www.w3.org/2000/svg\" height=\"24px\" viewBox=\"0 -960 960 960\">\n",
              "    <path d=\"M120-120v-720h720v720H120Zm60-500h600v-160H180v160Zm220 220h160v-160H400v160Zm0 220h160v-160H400v160ZM180-400h160v-160H180v160Zm440 0h160v-160H620v160ZM180-180h160v-160H180v160Zm440 0h160v-160H620v160Z\"/>\n",
              "  </svg>\n",
              "    </button>\n",
              "\n",
              "  <style>\n",
              "    .colab-df-container {\n",
              "      display:flex;\n",
              "      gap: 12px;\n",
              "    }\n",
              "\n",
              "    .colab-df-convert {\n",
              "      background-color: #E8F0FE;\n",
              "      border: none;\n",
              "      border-radius: 50%;\n",
              "      cursor: pointer;\n",
              "      display: none;\n",
              "      fill: #1967D2;\n",
              "      height: 32px;\n",
              "      padding: 0 0 0 0;\n",
              "      width: 32px;\n",
              "    }\n",
              "\n",
              "    .colab-df-convert:hover {\n",
              "      background-color: #E2EBFA;\n",
              "      box-shadow: 0px 1px 2px rgba(60, 64, 67, 0.3), 0px 1px 3px 1px rgba(60, 64, 67, 0.15);\n",
              "      fill: #174EA6;\n",
              "    }\n",
              "\n",
              "    .colab-df-buttons div {\n",
              "      margin-bottom: 4px;\n",
              "    }\n",
              "\n",
              "    [theme=dark] .colab-df-convert {\n",
              "      background-color: #3B4455;\n",
              "      fill: #D2E3FC;\n",
              "    }\n",
              "\n",
              "    [theme=dark] .colab-df-convert:hover {\n",
              "      background-color: #434B5C;\n",
              "      box-shadow: 0px 1px 3px 1px rgba(0, 0, 0, 0.15);\n",
              "      filter: drop-shadow(0px 1px 2px rgba(0, 0, 0, 0.3));\n",
              "      fill: #FFFFFF;\n",
              "    }\n",
              "  </style>\n",
              "\n",
              "    <script>\n",
              "      const buttonEl =\n",
              "        document.querySelector('#df-602cfe83-4b39-44ef-adad-cc6c284f6c03 button.colab-df-convert');\n",
              "      buttonEl.style.display =\n",
              "        google.colab.kernel.accessAllowed ? 'block' : 'none';\n",
              "\n",
              "      async function convertToInteractive(key) {\n",
              "        const element = document.querySelector('#df-602cfe83-4b39-44ef-adad-cc6c284f6c03');\n",
              "        const dataTable =\n",
              "          await google.colab.kernel.invokeFunction('convertToInteractive',\n",
              "                                                    [key], {});\n",
              "        if (!dataTable) return;\n",
              "\n",
              "        const docLinkHtml = 'Like what you see? Visit the ' +\n",
              "          '<a target=\"_blank\" href=https://colab.research.google.com/notebooks/data_table.ipynb>data table notebook</a>'\n",
              "          + ' to learn more about interactive tables.';\n",
              "        element.innerHTML = '';\n",
              "        dataTable['output_type'] = 'display_data';\n",
              "        await google.colab.output.renderOutput(dataTable, element);\n",
              "        const docLink = document.createElement('div');\n",
              "        docLink.innerHTML = docLinkHtml;\n",
              "        element.appendChild(docLink);\n",
              "      }\n",
              "    </script>\n",
              "  </div>\n",
              "\n",
              "\n",
              "    <div id=\"df-a759d7e4-21e6-4b2c-b0e1-7261d7414252\">\n",
              "      <button class=\"colab-df-quickchart\" onclick=\"quickchart('df-a759d7e4-21e6-4b2c-b0e1-7261d7414252')\"\n",
              "                title=\"Suggest charts\"\n",
              "                style=\"display:none;\">\n",
              "\n",
              "<svg xmlns=\"http://www.w3.org/2000/svg\" height=\"24px\"viewBox=\"0 0 24 24\"\n",
              "     width=\"24px\">\n",
              "    <g>\n",
              "        <path d=\"M19 3H5c-1.1 0-2 .9-2 2v14c0 1.1.9 2 2 2h14c1.1 0 2-.9 2-2V5c0-1.1-.9-2-2-2zM9 17H7v-7h2v7zm4 0h-2V7h2v10zm4 0h-2v-4h2v4z\"/>\n",
              "    </g>\n",
              "</svg>\n",
              "      </button>\n",
              "\n",
              "<style>\n",
              "  .colab-df-quickchart {\n",
              "      --bg-color: #E8F0FE;\n",
              "      --fill-color: #1967D2;\n",
              "      --hover-bg-color: #E2EBFA;\n",
              "      --hover-fill-color: #174EA6;\n",
              "      --disabled-fill-color: #AAA;\n",
              "      --disabled-bg-color: #DDD;\n",
              "  }\n",
              "\n",
              "  [theme=dark] .colab-df-quickchart {\n",
              "      --bg-color: #3B4455;\n",
              "      --fill-color: #D2E3FC;\n",
              "      --hover-bg-color: #434B5C;\n",
              "      --hover-fill-color: #FFFFFF;\n",
              "      --disabled-bg-color: #3B4455;\n",
              "      --disabled-fill-color: #666;\n",
              "  }\n",
              "\n",
              "  .colab-df-quickchart {\n",
              "    background-color: var(--bg-color);\n",
              "    border: none;\n",
              "    border-radius: 50%;\n",
              "    cursor: pointer;\n",
              "    display: none;\n",
              "    fill: var(--fill-color);\n",
              "    height: 32px;\n",
              "    padding: 0;\n",
              "    width: 32px;\n",
              "  }\n",
              "\n",
              "  .colab-df-quickchart:hover {\n",
              "    background-color: var(--hover-bg-color);\n",
              "    box-shadow: 0 1px 2px rgba(60, 64, 67, 0.3), 0 1px 3px 1px rgba(60, 64, 67, 0.15);\n",
              "    fill: var(--button-hover-fill-color);\n",
              "  }\n",
              "\n",
              "  .colab-df-quickchart-complete:disabled,\n",
              "  .colab-df-quickchart-complete:disabled:hover {\n",
              "    background-color: var(--disabled-bg-color);\n",
              "    fill: var(--disabled-fill-color);\n",
              "    box-shadow: none;\n",
              "  }\n",
              "\n",
              "  .colab-df-spinner {\n",
              "    border: 2px solid var(--fill-color);\n",
              "    border-color: transparent;\n",
              "    border-bottom-color: var(--fill-color);\n",
              "    animation:\n",
              "      spin 1s steps(1) infinite;\n",
              "  }\n",
              "\n",
              "  @keyframes spin {\n",
              "    0% {\n",
              "      border-color: transparent;\n",
              "      border-bottom-color: var(--fill-color);\n",
              "      border-left-color: var(--fill-color);\n",
              "    }\n",
              "    20% {\n",
              "      border-color: transparent;\n",
              "      border-left-color: var(--fill-color);\n",
              "      border-top-color: var(--fill-color);\n",
              "    }\n",
              "    30% {\n",
              "      border-color: transparent;\n",
              "      border-left-color: var(--fill-color);\n",
              "      border-top-color: var(--fill-color);\n",
              "      border-right-color: var(--fill-color);\n",
              "    }\n",
              "    40% {\n",
              "      border-color: transparent;\n",
              "      border-right-color: var(--fill-color);\n",
              "      border-top-color: var(--fill-color);\n",
              "    }\n",
              "    60% {\n",
              "      border-color: transparent;\n",
              "      border-right-color: var(--fill-color);\n",
              "    }\n",
              "    80% {\n",
              "      border-color: transparent;\n",
              "      border-right-color: var(--fill-color);\n",
              "      border-bottom-color: var(--fill-color);\n",
              "    }\n",
              "    90% {\n",
              "      border-color: transparent;\n",
              "      border-bottom-color: var(--fill-color);\n",
              "    }\n",
              "  }\n",
              "</style>\n",
              "\n",
              "      <script>\n",
              "        async function quickchart(key) {\n",
              "          const quickchartButtonEl =\n",
              "            document.querySelector('#' + key + ' button');\n",
              "          quickchartButtonEl.disabled = true;  // To prevent multiple clicks.\n",
              "          quickchartButtonEl.classList.add('colab-df-spinner');\n",
              "          try {\n",
              "            const charts = await google.colab.kernel.invokeFunction(\n",
              "                'suggestCharts', [key], {});\n",
              "          } catch (error) {\n",
              "            console.error('Error during call to suggestCharts:', error);\n",
              "          }\n",
              "          quickchartButtonEl.classList.remove('colab-df-spinner');\n",
              "          quickchartButtonEl.classList.add('colab-df-quickchart-complete');\n",
              "        }\n",
              "        (() => {\n",
              "          let quickchartButtonEl =\n",
              "            document.querySelector('#df-a759d7e4-21e6-4b2c-b0e1-7261d7414252 button');\n",
              "          quickchartButtonEl.style.display =\n",
              "            google.colab.kernel.accessAllowed ? 'block' : 'none';\n",
              "        })();\n",
              "      </script>\n",
              "    </div>\n",
              "\n",
              "  <div id=\"id_a9789e38-a424-4aad-bffe-2a5fcdcd2c0d\">\n",
              "    <style>\n",
              "      .colab-df-generate {\n",
              "        background-color: #E8F0FE;\n",
              "        border: none;\n",
              "        border-radius: 50%;\n",
              "        cursor: pointer;\n",
              "        display: none;\n",
              "        fill: #1967D2;\n",
              "        height: 32px;\n",
              "        padding: 0 0 0 0;\n",
              "        width: 32px;\n",
              "      }\n",
              "\n",
              "      .colab-df-generate:hover {\n",
              "        background-color: #E2EBFA;\n",
              "        box-shadow: 0px 1px 2px rgba(60, 64, 67, 0.3), 0px 1px 3px 1px rgba(60, 64, 67, 0.15);\n",
              "        fill: #174EA6;\n",
              "      }\n",
              "\n",
              "      [theme=dark] .colab-df-generate {\n",
              "        background-color: #3B4455;\n",
              "        fill: #D2E3FC;\n",
              "      }\n",
              "\n",
              "      [theme=dark] .colab-df-generate:hover {\n",
              "        background-color: #434B5C;\n",
              "        box-shadow: 0px 1px 3px 1px rgba(0, 0, 0, 0.15);\n",
              "        filter: drop-shadow(0px 1px 2px rgba(0, 0, 0, 0.3));\n",
              "        fill: #FFFFFF;\n",
              "      }\n",
              "    </style>\n",
              "    <button class=\"colab-df-generate\" onclick=\"generateWithVariable('final1Stats')\"\n",
              "            title=\"Generate code using this dataframe.\"\n",
              "            style=\"display:none;\">\n",
              "\n",
              "  <svg xmlns=\"http://www.w3.org/2000/svg\" height=\"24px\"viewBox=\"0 0 24 24\"\n",
              "       width=\"24px\">\n",
              "    <path d=\"M7,19H8.4L18.45,9,17,7.55,7,17.6ZM5,21V16.75L18.45,3.32a2,2,0,0,1,2.83,0l1.4,1.43a1.91,1.91,0,0,1,.58,1.4,1.91,1.91,0,0,1-.58,1.4L9.25,21ZM18.45,9,17,7.55Zm-12,3A5.31,5.31,0,0,0,4.9,8.1,5.31,5.31,0,0,0,1,6.5,5.31,5.31,0,0,0,4.9,4.9,5.31,5.31,0,0,0,6.5,1,5.31,5.31,0,0,0,8.1,4.9,5.31,5.31,0,0,0,12,6.5,5.46,5.46,0,0,0,6.5,12Z\"/>\n",
              "  </svg>\n",
              "    </button>\n",
              "    <script>\n",
              "      (() => {\n",
              "      const buttonEl =\n",
              "        document.querySelector('#id_a9789e38-a424-4aad-bffe-2a5fcdcd2c0d button.colab-df-generate');\n",
              "      buttonEl.style.display =\n",
              "        google.colab.kernel.accessAllowed ? 'block' : 'none';\n",
              "\n",
              "      buttonEl.onclick = () => {\n",
              "        google.colab.notebook.generateWithVariable('final1Stats');\n",
              "      }\n",
              "      })();\n",
              "    </script>\n",
              "  </div>\n",
              "\n",
              "    </div>\n",
              "  </div>\n"
            ],
            "application/vnd.google.colaboratory.intrinsic+json": {
              "type": "dataframe",
              "variable_name": "final1Stats",
              "summary": "{\n  \"name\": \"final1Stats\",\n  \"rows\": 10,\n  \"fields\": [\n    {\n      \"column\": \"Region\",\n      \"properties\": {\n        \"dtype\": \"category\",\n        \"num_unique_values\": 10,\n        \"samples\": [\n          \"Africa\",\n          \"North America\",\n          \"South America\"\n        ],\n        \"semantic_type\": \"\",\n        \"description\": \"\"\n      }\n    },\n    {\n      \"column\": \"Electricity_generated_kW_mean\",\n      \"properties\": {\n        \"dtype\": \"number\",\n        \"std\": 154442184.47697753,\n        \"min\": 1580500.0,\n        \"max\": 500858000.0,\n        \"num_unique_values\": 10,\n        \"samples\": [\n          4619820.0,\n          500858000.0,\n          35504083.333333336\n        ],\n        \"semantic_type\": \"\",\n        \"description\": \"\"\n      }\n    },\n    {\n      \"column\": \"Electricity_generated_kW_min\",\n      \"properties\": {\n        \"dtype\": \"number\",\n        \"std\": 33194037,\n        \"min\": 29000,\n        \"max\": 105586000,\n        \"num_unique_values\": 10,\n        \"samples\": [\n          29000,\n          105586000,\n          259000\n        ],\n        \"semantic_type\": \"\",\n        \"description\": \"\"\n      }\n    },\n    {\n      \"column\": \"Electricity_generated_kW_max\",\n      \"properties\": {\n        \"dtype\": \"number\",\n        \"std\": 904351924,\n        \"min\": 6581000,\n        \"max\": 2949000000,\n        \"num_unique_values\": 10,\n        \"samples\": [\n          65989000,\n          1235000000,\n          240251000\n        ],\n        \"semantic_type\": \"\",\n        \"description\": \"\"\n      }\n    },\n    {\n      \"column\": \"Education_expenditure_percent_GDP_mean\",\n      \"properties\": {\n        \"dtype\": \"number\",\n        \"std\": 0.7666960327610609,\n        \"min\": 3.6333333333333337,\n        \"max\": 6.314285714285715,\n        \"num_unique_values\": 10,\n        \"samples\": [\n          4.268,\n          5.2,\n          4.808333333333334\n        ],\n        \"semantic_type\": \"\",\n        \"description\": \"\"\n      }\n    },\n    {\n      \"column\": \"Education_expenditure_percent_GDP_min\",\n      \"properties\": {\n        \"dtype\": \"number\",\n        \"std\": 1.1236844159579087,\n        \"min\": 0.3,\n        \"max\": 4.3,\n        \"num_unique_values\": 9,\n        \"samples\": [\n          2.2,\n          4.3,\n          1.3\n        ],\n        \"semantic_type\": \"\",\n        \"description\": \"\"\n      }\n    },\n    {\n      \"column\": \"Education_expenditure_percent_GDP_max\",\n      \"properties\": {\n        \"dtype\": \"number\",\n        \"std\": 2.1219749710535654,\n        \"min\": 6.1,\n        \"max\": 12.8,\n        \"num_unique_values\": 10,\n        \"samples\": [\n          9.6,\n          6.1,\n          9.8\n        ],\n        \"semantic_type\": \"\",\n        \"description\": \"\"\n      }\n    },\n    {\n      \"column\": \"Energy_consumption_per_capita_BtuPerPerson_mean\",\n      \"properties\": {\n        \"dtype\": \"number\",\n        \"std\": 76894684.63866125,\n        \"min\": 14122840.0,\n        \"max\": 240650857.14285713,\n        \"num_unique_values\": 10,\n        \"samples\": [\n          14122840.0,\n          215870666.66666666,\n          46414666.666666664\n        ],\n        \"semantic_type\": \"\",\n        \"description\": \"\"\n      }\n    },\n    {\n      \"column\": \"Energy_consumption_per_capita_BtuPerPerson_min\",\n      \"properties\": {\n        \"dtype\": \"number\",\n        \"std\": 17300504,\n        \"min\": 649000,\n        \"max\": 57539000,\n        \"num_unique_values\": 10,\n        \"samples\": [\n          649000,\n          57539000,\n          25733000\n        ],\n        \"semantic_type\": \"\",\n        \"description\": \"\"\n      }\n    },\n    {\n      \"column\": \"Energy_consumption_per_capita_BtuPerPerson_max\",\n      \"properties\": {\n        \"dtype\": \"number\",\n        \"std\": 249290234,\n        \"min\": 64082000,\n        \"max\": 814308000,\n        \"num_unique_values\": 10,\n        \"samples\": [\n          98847000,\n          311599000,\n          78496000\n        ],\n        \"semantic_type\": \"\",\n        \"description\": \"\"\n      }\n    },\n    {\n      \"column\": \"Reserves_of_foreign_exchange_dollars_mean\",\n      \"properties\": {\n        \"dtype\": \"number\",\n        \"std\": 106687866512.29051,\n        \"min\": 4561869900.0,\n        \"max\": 353614166388.8889,\n        \"num_unique_values\": 10,\n        \"samples\": [\n          6860587300.0,\n          189085000000.0,\n          47486925000.0\n        ],\n        \"semantic_type\": \"\",\n        \"description\": \"\"\n      }\n    },\n    {\n      \"column\": \"Reserves_of_foreign_exchange_dollars_min\",\n      \"properties\": {\n        \"dtype\": \"number\",\n        \"std\": 36917351076,\n        \"min\": 30450000,\n        \"max\": 117551000000,\n        \"num_unique_values\": 10,\n        \"samples\": [\n          30450000,\n          117551000000,\n          87100000\n        ],\n        \"semantic_type\": \"\",\n        \"description\": \"\"\n      }\n    },\n    {\n      \"column\": \"Reserves_of_foreign_exchange_dollars_max\",\n      \"properties\": {\n        \"dtype\": \"number\",\n        \"std\": 959984830516,\n        \"min\": 23834000000,\n        \"max\": 3265000000000,\n        \"num_unique_values\": 10,\n        \"samples\": [\n          68448000000,\n          227760000000,\n          318857000000\n        ],\n        \"semantic_type\": \"\",\n        \"description\": \"\"\n      }\n    }\n  ]\n}"
            }
          },
          "metadata": {},
          "execution_count": 159
        }
      ]
    },
    {
      "cell_type": "markdown",
      "source": [
        "### Task 5"
      ],
      "metadata": {
        "id": "5p5mKGIykKH3"
      }
    },
    {
      "cell_type": "code",
      "source": [
        "#ahora se procede con el diagrama de caja para ver la distribución de los datos en cada columna.\n",
        "#Esto se hace para observar si existen valores atípicos\n",
        "\n",
        "%matplotlib inline\n",
        "\n",
        "vars=['Electricity_generated_kW','Education_expenditure_percent_GDP', 'Energy_consumption_per_capita_BtuPerPerson', 'Reserves_of_foreign_exchange_dollars']\n",
        "final1.loc[:,vars].boxplot(vert=False)"
      ],
      "metadata": {
        "colab": {
          "base_uri": "https://localhost:8080/",
          "height": 466
        },
        "id": "C00nbG_sbAS1",
        "outputId": "f696d7f3-ec18-4849-915b-e4c834e27029"
      },
      "execution_count": 160,
      "outputs": [
        {
          "output_type": "execute_result",
          "data": {
            "text/plain": [
              "<Axes: >"
            ]
          },
          "metadata": {},
          "execution_count": 160
        },
        {
          "output_type": "display_data",
          "data": {
            "text/plain": [
              "<Figure size 640x480 with 1 Axes>"
            ],
            "image/png": "[encoded data removed]"
          },
          "metadata": {}
        }
      ]
    },
    {
      "cell_type": "code",
      "source": [
        "# ante la presencia de datos atípicos, se procede a hacer el boxplot con robustScaler, por lo que los datos cambian\n",
        "from sklearn.preprocessing import RobustScaler\n",
        "scaler = RobustScaler(unit_variance=True,with_centering=False)\n",
        "robScaled_data = scaler.fit_transform(final1.loc[:,vars])\n",
        "\n",
        "pd.DataFrame(robScaled_data,columns=vars).boxplot(vert=False)\n"
      ],
      "metadata": {
        "colab": {
          "base_uri": "https://localhost:8080/",
          "height": 448
        },
        "id": "xaFrLx7nch4v",
        "outputId": "82c98d82-e113-49ff-e9f9-9a60b3f323bd"
      },
      "execution_count": 161,
      "outputs": [
        {
          "output_type": "execute_result",
          "data": {
            "text/plain": [
              "<Axes: >"
            ]
          },
          "metadata": {},
          "execution_count": 161
        },
        {
          "output_type": "display_data",
          "data": {
            "text/plain": [
              "<Figure size 640x480 with 1 Axes>"
            ],
            "image/png": "[encoded data removed]"
          },
          "metadata": {}
        }
      ]
    },
    {
      "cell_type": "code",
      "source": [
        "#robustScaler cambia los datos, por lo que los nuevos datos serían:\n",
        "\n",
        "vars_rob_names=[v+'_rob' for v in vars] # los nuevos nombres\n",
        "\n",
        "final1_robust=pd.DataFrame(robScaled_data,columns=vars_rob_names)\n",
        "final1_copy=final1.copy()\n",
        "final1_copy[vars_rob_names]=robScaled_data"
      ],
      "metadata": {
        "id": "JM_FdjRSeAA8"
      },
      "execution_count": 162,
      "outputs": []
    },
    {
      "cell_type": "code",
      "source": [
        "final1_robust #los valores modificados por la tecnica Robust"
      ],
      "metadata": {
        "colab": {
          "base_uri": "https://localhost:8080/",
          "height": 423
        },
        "id": "dFw1Z6Q7eL-U",
        "outputId": "3a5f63c4-7153-4332-83ce-7202caa8fae0"
      },
      "execution_count": 163,
      "outputs": [
        {
          "output_type": "execute_result",
          "data": {
            "text/plain": [
              "     Electricity_generated_kW_rob  Education_expenditure_percent_GDP_rob  \\\n",
              "0                      180.730098                               2.088742   \n",
              "1                       75.687240                               3.539258   \n",
              "2                       30.589657                               2.610928   \n",
              "3                       22.161775                               1.972701   \n",
              "4                       18.503600                               2.146763   \n",
              "..                            ...                                    ...   \n",
              "171                      0.002268                               7.426640   \n",
              "172                      0.002084                               3.829361   \n",
              "173                      0.001961                               1.508536   \n",
              "174                      0.001777                               2.901031   \n",
              "175                      0.001777                               1.566557   \n",
              "\n",
              "     Energy_consumption_per_capita_BtuPerPerson_rob  \\\n",
              "0                                          1.694928   \n",
              "1                                          4.147386   \n",
              "2                                          0.374997   \n",
              "3                                          1.928737   \n",
              "4                                          3.348869   \n",
              "..                                              ...   \n",
              "171                                        0.084221   \n",
              "172                                        0.346596   \n",
              "173                                        0.106323   \n",
              "174                                        0.132178   \n",
              "175                                        0.035014   \n",
              "\n",
              "     Reserves_of_foreign_exchange_dollars_rob  \n",
              "0                                  117.004970  \n",
              "1                                    8.162037  \n",
              "2                                   20.410254  \n",
              "3                                   41.569913  \n",
              "4                                   21.401947  \n",
              "..                                        ...  \n",
              "171                                  0.024663  \n",
              "172                                  0.014210  \n",
              "173                                  0.011555  \n",
              "174                                  0.001657  \n",
              "175                                  0.012772  \n",
              "\n",
              "[176 rows x 4 columns]"
            ],
            "text/html": [
              "\n",
              "  <div id=\"df-3be34784-837a-4b84-8cb7-ceba8b71f370\" class=\"colab-df-container\">\n",
              "    <div>\n",
              "<style scoped>\n",
              "    .dataframe tbody tr th:only-of-type {\n",
              "        vertical-align: middle;\n",
              "    }\n",
              "\n",
              "    .dataframe tbody tr th {\n",
              "        vertical-align: top;\n",
              "    }\n",
              "\n",
              "    .dataframe thead th {\n",
              "        text-align: right;\n",
              "    }\n",
              "</style>\n",
              "<table border=\"1\" class=\"dataframe\">\n",
              "  <thead>\n",
              "    <tr style=\"text-align: right;\">\n",
              "      <th></th>\n",
              "      <th>Electricity_generated_kW_rob</th>\n",
              "      <th>Education_expenditure_percent_GDP_rob</th>\n",
              "      <th>Energy_consumption_per_capita_BtuPerPerson_rob</th>\n",
              "      <th>Reserves_of_foreign_exchange_dollars_rob</th>\n",
              "    </tr>\n",
              "  </thead>\n",
              "  <tbody>\n",
              "    <tr>\n",
              "      <th>0</th>\n",
              "      <td>180.730098</td>\n",
              "      <td>2.088742</td>\n",
              "      <td>1.694928</td>\n",
              "      <td>117.004970</td>\n",
              "    </tr>\n",
              "    <tr>\n",
              "      <th>1</th>\n",
              "      <td>75.687240</td>\n",
              "      <td>3.539258</td>\n",
              "      <td>4.147386</td>\n",
              "      <td>8.162037</td>\n",
              "    </tr>\n",
              "    <tr>\n",
              "      <th>2</th>\n",
              "      <td>30.589657</td>\n",
              "      <td>2.610928</td>\n",
              "      <td>0.374997</td>\n",
              "      <td>20.410254</td>\n",
              "    </tr>\n",
              "    <tr>\n",
              "      <th>3</th>\n",
              "      <td>22.161775</td>\n",
              "      <td>1.972701</td>\n",
              "      <td>1.928737</td>\n",
              "      <td>41.569913</td>\n",
              "    </tr>\n",
              "    <tr>\n",
              "      <th>4</th>\n",
              "      <td>18.503600</td>\n",
              "      <td>2.146763</td>\n",
              "      <td>3.348869</td>\n",
              "      <td>21.401947</td>\n",
              "    </tr>\n",
              "    <tr>\n",
              "      <th>...</th>\n",
              "      <td>...</td>\n",
              "      <td>...</td>\n",
              "      <td>...</td>\n",
              "      <td>...</td>\n",
              "    </tr>\n",
              "    <tr>\n",
              "      <th>171</th>\n",
              "      <td>0.002268</td>\n",
              "      <td>7.426640</td>\n",
              "      <td>0.084221</td>\n",
              "      <td>0.024663</td>\n",
              "    </tr>\n",
              "    <tr>\n",
              "      <th>172</th>\n",
              "      <td>0.002084</td>\n",
              "      <td>3.829361</td>\n",
              "      <td>0.346596</td>\n",
              "      <td>0.014210</td>\n",
              "    </tr>\n",
              "    <tr>\n",
              "      <th>173</th>\n",
              "      <td>0.001961</td>\n",
              "      <td>1.508536</td>\n",
              "      <td>0.106323</td>\n",
              "      <td>0.011555</td>\n",
              "    </tr>\n",
              "    <tr>\n",
              "      <th>174</th>\n",
              "      <td>0.001777</td>\n",
              "      <td>2.901031</td>\n",
              "      <td>0.132178</td>\n",
              "      <td>0.001657</td>\n",
              "    </tr>\n",
              "    <tr>\n",
              "      <th>175</th>\n",
              "      <td>0.001777</td>\n",
              "      <td>1.566557</td>\n",
              "      <td>0.035014</td>\n",
              "      <td>0.012772</td>\n",
              "    </tr>\n",
              "  </tbody>\n",
              "</table>\n",
              "<p>176 rows × 4 columns</p>\n",
              "</div>\n",
              "    <div class=\"colab-df-buttons\">\n",
              "\n",
              "  <div class=\"colab-df-container\">\n",
              "    <button class=\"colab-df-convert\" onclick=\"convertToInteractive('df-3be34784-837a-4b84-8cb7-ceba8b71f370')\"\n",
              "            title=\"Convert this dataframe to an interactive table.\"\n",
              "            style=\"display:none;\">\n",
              "\n",
              "  <svg xmlns=\"http://www.w3.org/2000/svg\" height=\"24px\" viewBox=\"0 -960 960 960\">\n",
              "    <path d=\"M120-120v-720h720v720H120Zm60-500h600v-160H180v160Zm220 220h160v-160H400v160Zm0 220h160v-160H400v160ZM180-400h160v-160H180v160Zm440 0h160v-160H620v160ZM180-180h160v-160H180v160Zm440 0h160v-160H620v160Z\"/>\n",
              "  </svg>\n",
              "    </button>\n",
              "\n",
              "  <style>\n",
              "    .colab-df-container {\n",
              "      display:flex;\n",
              "      gap: 12px;\n",
              "    }\n",
              "\n",
              "    .colab-df-convert {\n",
              "      background-color: #E8F0FE;\n",
              "      border: none;\n",
              "      border-radius: 50%;\n",
              "      cursor: pointer;\n",
              "      display: none;\n",
              "      fill: #1967D2;\n",
              "      height: 32px;\n",
              "      padding: 0 0 0 0;\n",
              "      width: 32px;\n",
              "    }\n",
              "\n",
              "    .colab-df-convert:hover {\n",
              "      background-color: #E2EBFA;\n",
              "      box-shadow: 0px 1px 2px rgba(60, 64, 67, 0.3), 0px 1px 3px 1px rgba(60, 64, 67, 0.15);\n",
              "      fill: #174EA6;\n",
              "    }\n",
              "\n",
              "    .colab-df-buttons div {\n",
              "      margin-bottom: 4px;\n",
              "    }\n",
              "\n",
              "    [theme=dark] .colab-df-convert {\n",
              "      background-color: #3B4455;\n",
              "      fill: #D2E3FC;\n",
              "    }\n",
              "\n",
              "    [theme=dark] .colab-df-convert:hover {\n",
              "      background-color: #434B5C;\n",
              "      box-shadow: 0px 1px 3px 1px rgba(0, 0, 0, 0.15);\n",
              "      filter: drop-shadow(0px 1px 2px rgba(0, 0, 0, 0.3));\n",
              "      fill: #FFFFFF;\n",
              "    }\n",
              "  </style>\n",
              "\n",
              "    <script>\n",
              "      const buttonEl =\n",
              "        document.querySelector('#df-3be34784-837a-4b84-8cb7-ceba8b71f370 button.colab-df-convert');\n",
              "      buttonEl.style.display =\n",
              "        google.colab.kernel.accessAllowed ? 'block' : 'none';\n",
              "\n",
              "      async function convertToInteractive(key) {\n",
              "        const element = document.querySelector('#df-3be34784-837a-4b84-8cb7-ceba8b71f370');\n",
              "        const dataTable =\n",
              "          await google.colab.kernel.invokeFunction('convertToInteractive',\n",
              "                                                    [key], {});\n",
              "        if (!dataTable) return;\n",
              "\n",
              "        const docLinkHtml = 'Like what you see? Visit the ' +\n",
              "          '<a target=\"_blank\" href=https://colab.research.google.com/notebooks/data_table.ipynb>data table notebook</a>'\n",
              "          + ' to learn more about interactive tables.';\n",
              "        element.innerHTML = '';\n",
              "        dataTable['output_type'] = 'display_data';\n",
              "        await google.colab.output.renderOutput(dataTable, element);\n",
              "        const docLink = document.createElement('div');\n",
              "        docLink.innerHTML = docLinkHtml;\n",
              "        element.appendChild(docLink);\n",
              "      }\n",
              "    </script>\n",
              "  </div>\n",
              "\n",
              "\n",
              "    <div id=\"df-f4fbee7c-b924-4614-9176-02dff72a8871\">\n",
              "      <button class=\"colab-df-quickchart\" onclick=\"quickchart('df-f4fbee7c-b924-4614-9176-02dff72a8871')\"\n",
              "                title=\"Suggest charts\"\n",
              "                style=\"display:none;\">\n",
              "\n",
              "<svg xmlns=\"http://www.w3.org/2000/svg\" height=\"24px\"viewBox=\"0 0 24 24\"\n",
              "     width=\"24px\">\n",
              "    <g>\n",
              "        <path d=\"M19 3H5c-1.1 0-2 .9-2 2v14c0 1.1.9 2 2 2h14c1.1 0 2-.9 2-2V5c0-1.1-.9-2-2-2zM9 17H7v-7h2v7zm4 0h-2V7h2v10zm4 0h-2v-4h2v4z\"/>\n",
              "    </g>\n",
              "</svg>\n",
              "      </button>\n",
              "\n",
              "<style>\n",
              "  .colab-df-quickchart {\n",
              "      --bg-color: #E8F0FE;\n",
              "      --fill-color: #1967D2;\n",
              "      --hover-bg-color: #E2EBFA;\n",
              "      --hover-fill-color: #174EA6;\n",
              "      --disabled-fill-color: #AAA;\n",
              "      --disabled-bg-color: #DDD;\n",
              "  }\n",
              "\n",
              "  [theme=dark] .colab-df-quickchart {\n",
              "      --bg-color: #3B4455;\n",
              "      --fill-color: #D2E3FC;\n",
              "      --hover-bg-color: #434B5C;\n",
              "      --hover-fill-color: #FFFFFF;\n",
              "      --disabled-bg-color: #3B4455;\n",
              "      --disabled-fill-color: #666;\n",
              "  }\n",
              "\n",
              "  .colab-df-quickchart {\n",
              "    background-color: var(--bg-color);\n",
              "    border: none;\n",
              "    border-radius: 50%;\n",
              "    cursor: pointer;\n",
              "    display: none;\n",
              "    fill: var(--fill-color);\n",
              "    height: 32px;\n",
              "    padding: 0;\n",
              "    width: 32px;\n",
              "  }\n",
              "\n",
              "  .colab-df-quickchart:hover {\n",
              "    background-color: var(--hover-bg-color);\n",
              "    box-shadow: 0 1px 2px rgba(60, 64, 67, 0.3), 0 1px 3px 1px rgba(60, 64, 67, 0.15);\n",
              "    fill: var(--button-hover-fill-color);\n",
              "  }\n",
              "\n",
              "  .colab-df-quickchart-complete:disabled,\n",
              "  .colab-df-quickchart-complete:disabled:hover {\n",
              "    background-color: var(--disabled-bg-color);\n",
              "    fill: var(--disabled-fill-color);\n",
              "    box-shadow: none;\n",
              "  }\n",
              "\n",
              "  .colab-df-spinner {\n",
              "    border: 2px solid var(--fill-color);\n",
              "    border-color: transparent;\n",
              "    border-bottom-color: var(--fill-color);\n",
              "    animation:\n",
              "      spin 1s steps(1) infinite;\n",
              "  }\n",
              "\n",
              "  @keyframes spin {\n",
              "    0% {\n",
              "      border-color: transparent;\n",
              "      border-bottom-color: var(--fill-color);\n",
              "      border-left-color: var(--fill-color);\n",
              "    }\n",
              "    20% {\n",
              "      border-color: transparent;\n",
              "      border-left-color: var(--fill-color);\n",
              "      border-top-color: var(--fill-color);\n",
              "    }\n",
              "    30% {\n",
              "      border-color: transparent;\n",
              "      border-left-color: var(--fill-color);\n",
              "      border-top-color: var(--fill-color);\n",
              "      border-right-color: var(--fill-color);\n",
              "    }\n",
              "    40% {\n",
              "      border-color: transparent;\n",
              "      border-right-color: var(--fill-color);\n",
              "      border-top-color: var(--fill-color);\n",
              "    }\n",
              "    60% {\n",
              "      border-color: transparent;\n",
              "      border-right-color: var(--fill-color);\n",
              "    }\n",
              "    80% {\n",
              "      border-color: transparent;\n",
              "      border-right-color: var(--fill-color);\n",
              "      border-bottom-color: var(--fill-color);\n",
              "    }\n",
              "    90% {\n",
              "      border-color: transparent;\n",
              "      border-bottom-color: var(--fill-color);\n",
              "    }\n",
              "  }\n",
              "</style>\n",
              "\n",
              "      <script>\n",
              "        async function quickchart(key) {\n",
              "          const quickchartButtonEl =\n",
              "            document.querySelector('#' + key + ' button');\n",
              "          quickchartButtonEl.disabled = true;  // To prevent multiple clicks.\n",
              "          quickchartButtonEl.classList.add('colab-df-spinner');\n",
              "          try {\n",
              "            const charts = await google.colab.kernel.invokeFunction(\n",
              "                'suggestCharts', [key], {});\n",
              "          } catch (error) {\n",
              "            console.error('Error during call to suggestCharts:', error);\n",
              "          }\n",
              "          quickchartButtonEl.classList.remove('colab-df-spinner');\n",
              "          quickchartButtonEl.classList.add('colab-df-quickchart-complete');\n",
              "        }\n",
              "        (() => {\n",
              "          let quickchartButtonEl =\n",
              "            document.querySelector('#df-f4fbee7c-b924-4614-9176-02dff72a8871 button');\n",
              "          quickchartButtonEl.style.display =\n",
              "            google.colab.kernel.accessAllowed ? 'block' : 'none';\n",
              "        })();\n",
              "      </script>\n",
              "    </div>\n",
              "\n",
              "  <div id=\"id_0d1075c9-ca1c-4196-a2d3-9b8bd09d8ec1\">\n",
              "    <style>\n",
              "      .colab-df-generate {\n",
              "        background-color: #E8F0FE;\n",
              "        border: none;\n",
              "        border-radius: 50%;\n",
              "        cursor: pointer;\n",
              "        display: none;\n",
              "        fill: #1967D2;\n",
              "        height: 32px;\n",
              "        padding: 0 0 0 0;\n",
              "        width: 32px;\n",
              "      }\n",
              "\n",
              "      .colab-df-generate:hover {\n",
              "        background-color: #E2EBFA;\n",
              "        box-shadow: 0px 1px 2px rgba(60, 64, 67, 0.3), 0px 1px 3px 1px rgba(60, 64, 67, 0.15);\n",
              "        fill: #174EA6;\n",
              "      }\n",
              "\n",
              "      [theme=dark] .colab-df-generate {\n",
              "        background-color: #3B4455;\n",
              "        fill: #D2E3FC;\n",
              "      }\n",
              "\n",
              "      [theme=dark] .colab-df-generate:hover {\n",
              "        background-color: #434B5C;\n",
              "        box-shadow: 0px 1px 3px 1px rgba(0, 0, 0, 0.15);\n",
              "        filter: drop-shadow(0px 1px 2px rgba(0, 0, 0, 0.3));\n",
              "        fill: #FFFFFF;\n",
              "      }\n",
              "    </style>\n",
              "    <button class=\"colab-df-generate\" onclick=\"generateWithVariable('final1_robust')\"\n",
              "            title=\"Generate code using this dataframe.\"\n",
              "            style=\"display:none;\">\n",
              "\n",
              "  <svg xmlns=\"http://www.w3.org/2000/svg\" height=\"24px\"viewBox=\"0 0 24 24\"\n",
              "       width=\"24px\">\n",
              "    <path d=\"M7,19H8.4L18.45,9,17,7.55,7,17.6ZM5,21V16.75L18.45,3.32a2,2,0,0,1,2.83,0l1.4,1.43a1.91,1.91,0,0,1,.58,1.4,1.91,1.91,0,0,1-.58,1.4L9.25,21ZM18.45,9,17,7.55Zm-12,3A5.31,5.31,0,0,0,4.9,8.1,5.31,5.31,0,0,0,1,6.5,5.31,5.31,0,0,0,4.9,4.9,5.31,5.31,0,0,0,6.5,1,5.31,5.31,0,0,0,8.1,4.9,5.31,5.31,0,0,0,12,6.5,5.46,5.46,0,0,0,6.5,12Z\"/>\n",
              "  </svg>\n",
              "    </button>\n",
              "    <script>\n",
              "      (() => {\n",
              "      const buttonEl =\n",
              "        document.querySelector('#id_0d1075c9-ca1c-4196-a2d3-9b8bd09d8ec1 button.colab-df-generate');\n",
              "      buttonEl.style.display =\n",
              "        google.colab.kernel.accessAllowed ? 'block' : 'none';\n",
              "\n",
              "      buttonEl.onclick = () => {\n",
              "        google.colab.notebook.generateWithVariable('final1_robust');\n",
              "      }\n",
              "      })();\n",
              "    </script>\n",
              "  </div>\n",
              "\n",
              "    </div>\n",
              "  </div>\n"
            ],
            "application/vnd.google.colaboratory.intrinsic+json": {
              "type": "dataframe",
              "variable_name": "final1_robust",
              "summary": "{\n  \"name\": \"final1_robust\",\n  \"rows\": 176,\n  \"fields\": [\n    {\n      \"column\": \"Electricity_generated_kW_rob\",\n      \"properties\": {\n        \"dtype\": \"number\",\n        \"std\": 15.090645197202635,\n        \"min\": 0.0017772712223779723,\n        \"max\": 180.73009775147037,\n        \"num_unique_values\": 172,\n        \"samples\": [\n          0.39718947559419443,\n          0.023104525890913642,\n          0.010234630832314531\n        ],\n        \"semantic_type\": \"\",\n        \"description\": \"\"\n      }\n    },\n    {\n      \"column\": \"Education_expenditure_percent_GDP_rob\",\n      \"properties\": {\n        \"dtype\": \"number\",\n        \"std\": 1.065035739252439,\n        \"min\": 0.17406187101834367,\n        \"max\": 7.426639830115997,\n        \"num_unique_values\": 66,\n        \"samples\": [\n          1.6825980865106553,\n          5.279876754223091,\n          2.088742452220124\n        ],\n        \"semantic_type\": \"\",\n        \"description\": \"\"\n      }\n    },\n    {\n      \"column\": \"Energy_consumption_per_capita_BtuPerPerson_rob\",\n      \"properties\": {\n        \"dtype\": \"number\",\n        \"std\": 1.6991973798669395,\n        \"min\": 0.009665726714484598,\n        \"max\": 12.127701986777385,\n        \"num_unique_values\": 175,\n        \"samples\": [\n          1.4721542196404607,\n          0.2803358612430564,\n          0.40817961797207913\n        ],\n        \"semantic_type\": \"\",\n        \"description\": \"\"\n      }\n    },\n    {\n      \"column\": \"Reserves_of_foreign_exchange_dollars_rob\",\n      \"properties\": {\n        \"dtype\": \"number\",\n        \"std\": 10.03177106465158,\n        \"min\": 0.0010912102060659718,\n        \"max\": 117.00496955025937,\n        \"num_unique_values\": 174,\n        \"samples\": [\n          0.027725626594703085,\n          0.01717486024858403,\n          0.23132222923336118\n        ],\n        \"semantic_type\": \"\",\n        \"description\": \"\"\n      }\n    }\n  ]\n}"
            }
          },
          "metadata": {},
          "execution_count": 163
        }
      ]
    },
    {
      "cell_type": "code",
      "source": [
        "# DISCRETIZACION\n",
        "!pip install mapclassify"
      ],
      "metadata": {
        "colab": {
          "base_uri": "https://localhost:8080/"
        },
        "id": "GLxG8EIyeT6y",
        "outputId": "187427c1-360e-4e1e-f45b-15528f8a2fa4"
      },
      "execution_count": 164,
      "outputs": [
        {
          "output_type": "stream",
          "name": "stdout",
          "text": [
            "Collecting mapclassify\n",
            "  Downloading mapclassify-2.9.0-py3-none-any.whl.metadata (3.1 kB)\n",
            "Requirement already satisfied: networkx>=3.2 in /usr/local/lib/python3.11/dist-packages (from mapclassify) (3.4.2)\n",
            "Requirement already satisfied: numpy>=1.26 in /usr/local/lib/python3.11/dist-packages (from mapclassify) (2.0.2)\n",
            "Requirement already satisfied: pandas>=2.1 in /usr/local/lib/python3.11/dist-packages (from mapclassify) (2.2.2)\n",
            "Requirement already satisfied: scikit-learn>=1.4 in /usr/local/lib/python3.11/dist-packages (from mapclassify) (1.6.1)\n",
            "Requirement already satisfied: scipy>=1.12 in /usr/local/lib/python3.11/dist-packages (from mapclassify) (1.15.3)\n",
            "Requirement already satisfied: python-dateutil>=2.8.2 in /usr/local/lib/python3.11/dist-packages (from pandas>=2.1->mapclassify) (2.9.0.post0)\n",
            "Requirement already satisfied: pytz>=2020.1 in /usr/local/lib/python3.11/dist-packages (from pandas>=2.1->mapclassify) (2025.2)\n",
            "Requirement already satisfied: tzdata>=2022.7 in /usr/local/lib/python3.11/dist-packages (from pandas>=2.1->mapclassify) (2025.2)\n",
            "Requirement already satisfied: joblib>=1.2.0 in /usr/local/lib/python3.11/dist-packages (from scikit-learn>=1.4->mapclassify) (1.5.0)\n",
            "Requirement already satisfied: threadpoolctl>=3.1.0 in /usr/local/lib/python3.11/dist-packages (from scikit-learn>=1.4->mapclassify) (3.6.0)\n",
            "Requirement already satisfied: six>=1.5 in /usr/local/lib/python3.11/dist-packages (from python-dateutil>=2.8.2->pandas>=2.1->mapclassify) (1.17.0)\n",
            "Downloading mapclassify-2.9.0-py3-none-any.whl (286 kB)\n",
            "\u001b[2K   \u001b[90m━━━━━━━━━━━━━━━━━━━━━━━━━━━━━━━━━━━━━━━━\u001b[0m \u001b[32m286.7/286.7 kB\u001b[0m \u001b[31m2.6 MB/s\u001b[0m eta \u001b[36m0:00:00\u001b[0m\n",
            "\u001b[?25hInstalling collected packages: mapclassify\n",
            "Successfully installed mapclassify-2.9.0\n"
          ]
        }
      ]
    },
    {
      "cell_type": "code",
      "source": [
        "import mapclassify\n",
        "import numpy as np\n",
        "np.random.seed(12345)"
      ],
      "metadata": {
        "id": "66bk3rx-gfMU"
      },
      "execution_count": 165,
      "outputs": []
    },
    {
      "cell_type": "code",
      "source": [
        "# Para electricityRobust\n",
        "\n",
        "theVar=final1_robust.Electricity_generated_kW_rob\n",
        "K=5\n",
        "\n",
        "#se prueba con cada tecnica de discretizacion enseñada\n",
        "ei5 = mapclassify.EqualInterval(theVar, k=K)\n",
        "\n",
        "msd = mapclassify.StdMean(theVar)\n",
        "\n",
        "q5=mapclassify.Quantiles(theVar,k=K)\n",
        "\n",
        "mb5 = mapclassify.MaximumBreaks(theVar, k=K)\n",
        "\n",
        "ht = mapclassify.HeadTailBreaks(theVar)\n",
        "\n",
        "fj5 = mapclassify.FisherJenks(theVar, k=K)\n",
        "\n",
        "jc5 = mapclassify.JenksCaspall(theVar, k=K)\n",
        "\n",
        "mp5 = mapclassify.MaxP(theVar, k=K)\n"
      ],
      "metadata": {
        "id": "Q-HfHLdgebtS"
      },
      "execution_count": 166,
      "outputs": []
    },
    {
      "cell_type": "code",
      "source": [
        "class5 = q5, ei5,msd, ht, mb5, fj5, jc5, mp5\n",
        "fits = np.array([ c.adcm for c in class5])\n",
        "adcms = pd.DataFrame(fits)\n",
        "adcms['classifier'] = [c.name for c in class5]\n",
        "adcms.columns = ['ADCM', 'Classifier']\n",
        "adcms.sort_values(by='ADCM', ascending=False).plot(kind='bar', x='Classifier', y='ADCM', legend=False);"
      ],
      "metadata": {
        "colab": {
          "base_uri": "https://localhost:8080/",
          "height": 551
        },
        "id": "6BJyPwuegwcq",
        "outputId": "feaae54f-43be-416a-b91f-6fbc05b8fc1c"
      },
      "execution_count": 201,
      "outputs": [
        {
          "output_type": "display_data",
          "data": {
            "text/plain": [
              "<Figure size 640x480 with 1 Axes>"
            ],
            "image/png": "[encoded data removed]"
          },
          "metadata": {}
        }
      ]
    },
    {
      "cell_type": "code",
      "source": [
        "# se usará Fisherjenks para cada variable porque produce el ADCM menor\n",
        "FJelectricity=mapclassify.FisherJenks(final1_robust.Electricity_generated_kW_rob, k=5)\n",
        "FJeducation=mapclassify.FisherJenks(final1_robust.Education_expenditure_percent_GDP_rob, k=5)\n",
        "FJenergy=mapclassify.FisherJenks(final1_robust.Energy_consumption_per_capita_BtuPerPerson_rob, k=5)\n",
        "FJreserves=mapclassify.FisherJenks(final1_robust.Reserves_of_foreign_exchange_dollars_rob, k=5)"
      ],
      "metadata": {
        "id": "6stx2MSyhWII"
      },
      "execution_count": 203,
      "outputs": []
    },
    {
      "cell_type": "code",
      "source": [
        "FJelectricity     #se obtienen los intervalos para electricity mediante ese método"
      ],
      "metadata": {
        "colab": {
          "base_uri": "https://localhost:8080/"
        },
        "id": "VmDnEWY_iffe",
        "outputId": "8cf3bc49-419b-4ea1-b5d5-7388dcf2c395"
      },
      "execution_count": 204,
      "outputs": [
        {
          "output_type": "execute_result",
          "data": {
            "text/plain": [
              "FisherJenks\n",
              "\n",
              "    Interval       Count\n",
              "------------------------\n",
              "[  0.00,   2.92] |   149\n",
              "(  2.92,   9.93] |    20\n",
              "(  9.93,  30.59] |     5\n",
              "( 30.59,  75.69] |     1\n",
              "( 75.69, 180.73] |     1"
            ]
          },
          "metadata": {},
          "execution_count": 204
        }
      ]
    },
    {
      "cell_type": "code",
      "source": [
        "FJeducation       #se obtienen los intervalos para education mediante ese método"
      ],
      "metadata": {
        "colab": {
          "base_uri": "https://localhost:8080/"
        },
        "id": "NjEoljANigyv",
        "outputId": "e31552b5-f3f9-4f5c-99c6-71e33d7daa5f"
      },
      "execution_count": 205,
      "outputs": [
        {
          "output_type": "execute_result",
          "data": {
            "text/plain": [
              "FisherJenks\n",
              "\n",
              "  Interval     Count\n",
              "--------------------\n",
              "[0.17, 1.57] |    26\n",
              "(1.57, 2.38] |    52\n",
              "(2.38, 3.25] |    55\n",
              "(3.25, 4.53] |    36\n",
              "(4.53, 7.43] |     7"
            ]
          },
          "metadata": {},
          "execution_count": 205
        }
      ]
    },
    {
      "cell_type": "code",
      "source": [
        "FJenergy          #se obtienen los intervalos para energy mediante ese método"
      ],
      "metadata": {
        "colab": {
          "base_uri": "https://localhost:8080/"
        },
        "id": "uzwE3JlJiiE_",
        "outputId": "32f974f1-471b-4592-c0ef-c3bf5a9ab721"
      },
      "execution_count": 206,
      "outputs": [
        {
          "output_type": "execute_result",
          "data": {
            "text/plain": [
              "FisherJenks\n",
              "\n",
              "   Interval      Count\n",
              "----------------------\n",
              "[ 0.01,  0.76] |    95\n",
              "( 0.76,  2.13] |    58\n",
              "( 2.13,  4.15] |    14\n",
              "( 4.15,  6.71] |     6\n",
              "( 6.71, 12.13] |     3"
            ]
          },
          "metadata": {},
          "execution_count": 206
        }
      ]
    },
    {
      "cell_type": "code",
      "source": [
        "FJreserves              #se obtienen los intervalos para reserves mediante ese método"
      ],
      "metadata": {
        "colab": {
          "base_uri": "https://localhost:8080/"
        },
        "id": "1iRxhGqzijen",
        "outputId": "8a2063d3-0f07-49b9-88b8-ac8aaa44244d"
      },
      "execution_count": 207,
      "outputs": [
        {
          "output_type": "execute_result",
          "data": {
            "text/plain": [
              "FisherJenks\n",
              "\n",
              "    Interval       Count\n",
              "------------------------\n",
              "[  0.00,   2.45] |   143\n",
              "(  2.45,   8.30] |    23\n",
              "(  8.30,  21.40] |     7\n",
              "( 21.40,  41.57] |     2\n",
              "( 41.57, 117.00] |     1"
            ]
          },
          "metadata": {},
          "execution_count": 207
        }
      ]
    },
    {
      "cell_type": "code",
      "source": [
        "#se procede a guardar el dataframe con las 4 variables:\n",
        "final1.to_csv(\"final1_4variables.csv\",index=False)\n",
        "final1_copy.to_csv(\"final1_copy_8variables.csv\",index=False)"
      ],
      "metadata": {
        "id": "xdKiBz9TLJig"
      },
      "execution_count": 211,
      "outputs": []
    }
  ]
}